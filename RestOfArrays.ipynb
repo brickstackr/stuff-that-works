{
 "cells": [
  {
   "cell_type": "code",
   "execution_count": 15,
   "id": "8f0bf9fc",
   "metadata": {},
   "outputs": [],
   "source": [
    "def MaxEvenOdd(arr):\n",
    "    n = len(arr)\n",
    "    res = 1\n",
    "    for i in range(0, n):\n",
    "        curr = 1\n",
    "        for j in range(i+1, n):\n",
    "            if (arr[j] % 2 == 0 and arr[j-1] % 2 != 0) or (arr[j] % 2 != 0 and arr[j-1] % 2 == 0):\n",
    "                curr += 1\n",
    "            else:\n",
    "                break\n",
    "        res = max(res, curr)\n",
    "    return res"
   ]
  },
  {
   "cell_type": "code",
   "execution_count": 18,
   "id": "f80ed6d3",
   "metadata": {},
   "outputs": [
    {
     "data": {
      "text/plain": [
       "3"
      ]
     },
     "execution_count": 18,
     "metadata": {},
     "output_type": "execute_result"
    }
   ],
   "source": [
    "MaxEvenOdd([5, 10, 20, 6, 3, 8])"
   ]
  },
  {
   "cell_type": "code",
   "execution_count": 21,
   "id": "3b3e87aa",
   "metadata": {},
   "outputs": [],
   "source": [
    "def MaxEvenOdd2(arr):\n",
    "    n = len(arr)\n",
    "    res = 1\n",
    "    curr = 1\n",
    "    for i in range(1, n):\n",
    "        if (arr[i] % 2 == 0 and arr[i-1] % 2 != 0) or (arr[i] % 2 != 0 and arr[i-1] % 2 == 0):\n",
    "                curr += 1\n",
    "                res = max(res, curr)\n",
    "        else:\n",
    "            curr = 1\n",
    "    return res"
   ]
  },
  {
   "cell_type": "code",
   "execution_count": 22,
   "id": "6fa8abc3",
   "metadata": {},
   "outputs": [
    {
     "data": {
      "text/plain": [
       "3"
      ]
     },
     "execution_count": 22,
     "metadata": {},
     "output_type": "execute_result"
    }
   ],
   "source": [
    "MaxEvenOdd2([5, 10, 20, 6, 3, 8])"
   ]
  },
  {
   "cell_type": "code",
   "execution_count": null,
   "id": "7770426e",
   "metadata": {},
   "outputs": [],
   "source": []
  }
 ],
 "metadata": {
  "kernelspec": {
   "display_name": "Python 3",
   "language": "python",
   "name": "python3"
  },
  "language_info": {
   "codemirror_mode": {
    "name": "ipython",
    "version": 3
   },
   "file_extension": ".py",
   "mimetype": "text/x-python",
   "name": "python",
   "nbconvert_exporter": "python",
   "pygments_lexer": "ipython3",
   "version": "3.8.8"
  }
 },
 "nbformat": 4,
 "nbformat_minor": 5
}
