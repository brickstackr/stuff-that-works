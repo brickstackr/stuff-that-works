{
 "cells": [
  {
   "cell_type": "code",
   "execution_count": 1,
   "id": "8315bdd0",
   "metadata": {},
   "outputs": [],
   "source": [
    "def IsPow2(n):\n",
    "    if n == 0:\n",
    "        return False\n",
    "    while n != 1:\n",
    "        if n % 2 != 0:\n",
    "            return False\n",
    "        n = n / 2\n",
    "    return True"
   ]
  },
  {
   "cell_type": "code",
   "execution_count": 2,
   "id": "3b30e55b",
   "metadata": {},
   "outputs": [
    {
     "data": {
      "text/plain": [
       "False"
      ]
     },
     "execution_count": 2,
     "metadata": {},
     "output_type": "execute_result"
    }
   ],
   "source": [
    "IsPow2(3)"
   ]
  },
  {
   "cell_type": "code",
   "execution_count": 3,
   "id": "b7435a9f",
   "metadata": {},
   "outputs": [
    {
     "data": {
      "text/plain": [
       "True"
      ]
     },
     "execution_count": 3,
     "metadata": {},
     "output_type": "execute_result"
    }
   ],
   "source": [
    "IsPow2(8)"
   ]
  },
  {
   "cell_type": "code",
   "execution_count": 4,
   "id": "056e4e54",
   "metadata": {},
   "outputs": [],
   "source": [
    "def IsPow2_2(n):\n",
    "    if n == 0:\n",
    "        return False\n",
    "    return (n & (n - 1) == 0)"
   ]
  },
  {
   "cell_type": "code",
   "execution_count": 5,
   "id": "d74f08ae",
   "metadata": {},
   "outputs": [
    {
     "data": {
      "text/plain": [
       "False"
      ]
     },
     "execution_count": 5,
     "metadata": {},
     "output_type": "execute_result"
    }
   ],
   "source": [
    "IsPow2_2(3)"
   ]
  },
  {
   "cell_type": "code",
   "execution_count": 6,
   "id": "18a02741",
   "metadata": {},
   "outputs": [
    {
     "data": {
      "text/plain": [
       "True"
      ]
     },
     "execution_count": 6,
     "metadata": {},
     "output_type": "execute_result"
    }
   ],
   "source": [
    "IsPow2(8)"
   ]
  },
  {
   "cell_type": "code",
   "execution_count": null,
   "id": "0660e661",
   "metadata": {},
   "outputs": [],
   "source": []
  }
 ],
 "metadata": {
  "kernelspec": {
   "display_name": "Python 3 (ipykernel)",
   "language": "python",
   "name": "python3"
  },
  "language_info": {
   "codemirror_mode": {
    "name": "ipython",
    "version": 3
   },
   "file_extension": ".py",
   "mimetype": "text/x-python",
   "name": "python",
   "nbconvert_exporter": "python",
   "pygments_lexer": "ipython3",
   "version": "3.8.12"
  }
 },
 "nbformat": 4,
 "nbformat_minor": 5
}
