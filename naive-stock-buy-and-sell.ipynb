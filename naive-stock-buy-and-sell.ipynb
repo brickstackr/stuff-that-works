{
 "cells": [
  {
   "cell_type": "code",
   "execution_count": 5,
   "id": "b430c707",
   "metadata": {},
   "outputs": [],
   "source": [
    "def MaxProfit(price, start, end):\n",
    "    if end <= start:\n",
    "        return 0\n",
    "    profit = 0\n",
    "    for i in range(start, end):\n",
    "        for j in range(i+1, end+1):\n",
    "            if price[j] > price[i]:\n",
    "                curr_profit = price[j] - price[i] + MaxProfit(price, start, i-1) + MaxProfit(price, j+1, end)\n",
    "                profit = max(profit, curr_profit)\n",
    "    return profit"
   ]
  },
  {
   "cell_type": "code",
   "execution_count": 6,
   "id": "09eae786",
   "metadata": {},
   "outputs": [
    {
     "data": {
      "text/plain": [
       "13"
      ]
     },
     "execution_count": 6,
     "metadata": {},
     "output_type": "execute_result"
    }
   ],
   "source": [
    "MaxProfit([1,5,3,8,12], 0, 4)"
   ]
  },
  {
   "cell_type": "code",
   "execution_count": null,
   "id": "34b9759c",
   "metadata": {},
   "outputs": [],
   "source": []
  }
 ],
 "metadata": {
  "kernelspec": {
   "display_name": "Python 3",
   "language": "python",
   "name": "python3"
  },
  "language_info": {
   "codemirror_mode": {
    "name": "ipython",
    "version": 3
   },
   "file_extension": ".py",
   "mimetype": "text/x-python",
   "name": "python",
   "nbconvert_exporter": "python",
   "pygments_lexer": "ipython3",
   "version": "3.8.8"
  }
 },
 "nbformat": 4,
 "nbformat_minor": 5
}
