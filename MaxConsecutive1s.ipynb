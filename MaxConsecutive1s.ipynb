{
 "cells": [
  {
   "cell_type": "code",
   "execution_count": 1,
   "id": "495923ee",
   "metadata": {},
   "outputs": [],
   "source": [
    "def MaxConsecutive1s(arr):\n",
    "    n = len(arr)\n",
    "    res = 0\n",
    "    for i in range(0,n):\n",
    "        curr = 0\n",
    "        for j in range(i, n):\n",
    "            if arr[j] == 1:\n",
    "                curr += 1\n",
    "            else:\n",
    "                break\n",
    "        res = max(res, curr)\n",
    "    return res"
   ]
  },
  {
   "cell_type": "code",
   "execution_count": 2,
   "id": "7de5c36f",
   "metadata": {},
   "outputs": [
    {
     "data": {
      "text/plain": [
       "4"
      ]
     },
     "execution_count": 2,
     "metadata": {},
     "output_type": "execute_result"
    }
   ],
   "source": [
    "MaxConsecutive1s([1,0,0,1,1,1,1,0])"
   ]
  },
  {
   "cell_type": "code",
   "execution_count": 3,
   "id": "187a2b67",
   "metadata": {},
   "outputs": [],
   "source": [
    "def MaxConsecutiveOnes(arr):\n",
    "    n = len(arr)\n",
    "    curr = 0\n",
    "    res = 0\n",
    "    for i in range(0, n):\n",
    "        if arr[i] == 0:\n",
    "            curr = 0\n",
    "        else:\n",
    "            curr += 1\n",
    "            res = max(res, curr)\n",
    "    return res"
   ]
  },
  {
   "cell_type": "code",
   "execution_count": 4,
   "id": "ec43bf65",
   "metadata": {},
   "outputs": [
    {
     "data": {
      "text/plain": [
       "4"
      ]
     },
     "execution_count": 4,
     "metadata": {},
     "output_type": "execute_result"
    }
   ],
   "source": [
    "MaxConsecutiveOnes([1,0,0,1,1,1,1,0])"
   ]
  },
  {
   "cell_type": "code",
   "execution_count": null,
   "id": "f3f9fec5",
   "metadata": {},
   "outputs": [],
   "source": []
  }
 ],
 "metadata": {
  "kernelspec": {
   "display_name": "Python 3",
   "language": "python",
   "name": "python3"
  },
  "language_info": {
   "codemirror_mode": {
    "name": "ipython",
    "version": 3
   },
   "file_extension": ".py",
   "mimetype": "text/x-python",
   "name": "python",
   "nbconvert_exporter": "python",
   "pygments_lexer": "ipython3",
   "version": "3.8.8"
  }
 },
 "nbformat": 4,
 "nbformat_minor": 5
}
