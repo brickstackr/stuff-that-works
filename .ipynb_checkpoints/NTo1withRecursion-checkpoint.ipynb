{
 "cells": [
  {
   "cell_type": "code",
   "execution_count": 3,
   "id": "09e9cc26",
   "metadata": {},
   "outputs": [],
   "source": [
    "def NTo1(n):\n",
    "    if n > 0:\n",
    "        print(n)\n",
    "        NTo1(n-1)"
   ]
  },
  {
   "cell_type": "code",
   "execution_count": 4,
   "id": "ddc56f69",
   "metadata": {},
   "outputs": [
    {
     "name": "stdout",
     "output_type": "stream",
     "text": [
      "4\n",
      "3\n",
      "2\n",
      "1\n"
     ]
    }
   ],
   "source": [
    "NTo1(4)"
   ]
  },
  {
   "cell_type": "code",
   "execution_count": 7,
   "id": "ed518694",
   "metadata": {},
   "outputs": [],
   "source": [
    "def OneToN(n):\n",
    "    diff = 0\n",
    "    if n > 0:\n",
    "        for i in range(1, (n+1)):\n",
    "            print(1+diff)\n",
    "            diff = diff + 1"
   ]
  },
  {
   "cell_type": "code",
   "execution_count": 8,
   "id": "c7a9a895",
   "metadata": {},
   "outputs": [
    {
     "name": "stdout",
     "output_type": "stream",
     "text": [
      "1\n",
      "2\n",
      "3\n",
      "4\n",
      "5\n",
      "6\n",
      "7\n",
      "8\n",
      "9\n",
      "10\n",
      "11\n",
      "12\n"
     ]
    }
   ],
   "source": [
    "OneToN(12)"
   ]
  },
  {
   "cell_type": "code",
   "execution_count": 9,
   "id": "1798d3c8",
   "metadata": {},
   "outputs": [],
   "source": [
    "def OneToN2(n):\n",
    "    if n == 0:\n",
    "        return 0\n",
    "    else:\n",
    "        print(OneToN2(n-1))\n",
    "        print(n)"
   ]
  },
  {
   "cell_type": "code",
   "execution_count": 10,
   "id": "f76932cd",
   "metadata": {},
   "outputs": [
    {
     "name": "stdout",
     "output_type": "stream",
     "text": [
      "0\n",
      "1\n",
      "None\n",
      "2\n",
      "None\n",
      "3\n",
      "None\n",
      "4\n",
      "None\n",
      "5\n",
      "None\n",
      "6\n",
      "None\n",
      "7\n",
      "None\n",
      "8\n",
      "None\n",
      "9\n",
      "None\n",
      "10\n",
      "None\n",
      "11\n",
      "None\n",
      "12\n"
     ]
    }
   ],
   "source": [
    "OneToN2(12)"
   ]
  },
  {
   "cell_type": "code",
   "execution_count": 1,
   "id": "72a52680",
   "metadata": {},
   "outputs": [],
   "source": [
    "def fun(n, k):\n",
    "    if n == 0:\n",
    "        return 0\n",
    "    else:\n",
    "        print(k)\n",
    "        fun(n-1, k+1)"
   ]
  },
  {
   "cell_type": "code",
   "execution_count": 2,
   "id": "6e3df466",
   "metadata": {},
   "outputs": [
    {
     "name": "stdout",
     "output_type": "stream",
     "text": [
      "13\n",
      "14\n",
      "15\n",
      "16\n",
      "17\n",
      "18\n",
      "19\n",
      "20\n",
      "21\n",
      "22\n",
      "23\n",
      "24\n"
     ]
    }
   ],
   "source": [
    "fun(12, 13)"
   ]
  },
  {
   "cell_type": "code",
   "execution_count": 5,
   "id": "60c83043",
   "metadata": {},
   "outputs": [],
   "source": [
    "def fact(n, k):\n",
    "    if n == 0 or n == 1:\n",
    "        return k\n",
    "    else:\n",
    "        return(fact(n-1, k*n))"
   ]
  },
  {
   "cell_type": "code",
   "execution_count": 6,
   "id": "0e2c5562",
   "metadata": {},
   "outputs": [
    {
     "data": {
      "text/plain": [
       "120"
      ]
     },
     "execution_count": 6,
     "metadata": {},
     "output_type": "execute_result"
    }
   ],
   "source": [
    "# initially pass k = 1\n",
    "fact(5, 1)"
   ]
  },
  {
   "cell_type": "code",
   "execution_count": null,
   "id": "5ee06f0c",
   "metadata": {},
   "outputs": [],
   "source": []
  }
 ],
 "metadata": {
  "kernelspec": {
   "display_name": "Python 3 (ipykernel)",
   "language": "python",
   "name": "python3"
  },
  "language_info": {
   "codemirror_mode": {
    "name": "ipython",
    "version": 3
   },
   "file_extension": ".py",
   "mimetype": "text/x-python",
   "name": "python",
   "nbconvert_exporter": "python",
   "pygments_lexer": "ipython3",
   "version": "3.8.12"
  }
 },
 "nbformat": 4,
 "nbformat_minor": 5
}
