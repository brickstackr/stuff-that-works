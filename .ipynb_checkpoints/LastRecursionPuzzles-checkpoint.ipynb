{
 "cells": [
  {
   "cell_type": "code",
   "execution_count": 3,
   "id": "6f3deba4",
   "metadata": {},
   "outputs": [],
   "source": [
    "def ToH(n, A, B, C): \n",
    "    if n == 1:\n",
    "        print(\"Move 1 from \" + A + \" to \" + C) \n",
    "        return 0\n",
    "    ToH(n-1, A, C, B)\n",
    "    print(\"Move \" + str(n) + \" from \" + A + \" to \" + C) \n",
    "    ToH(n-1, B, A, C)"
   ]
  },
  {
   "cell_type": "code",
   "execution_count": 5,
   "id": "f879f774",
   "metadata": {},
   "outputs": [
    {
     "name": "stdout",
     "output_type": "stream",
     "text": [
      "Move 1 from A to C\n",
      "Move 2 from A to B\n",
      "Move 1 from C to B\n",
      "Move 3 from A to C\n",
      "Move 1 from B to A\n",
      "Move 2 from B to C\n",
      "Move 1 from A to C\n",
      "Move 4 from A to B\n",
      "Move 1 from C to B\n",
      "Move 2 from C to A\n",
      "Move 1 from B to A\n",
      "Move 3 from C to B\n",
      "Move 1 from A to C\n",
      "Move 2 from A to B\n",
      "Move 1 from C to B\n",
      "Move 5 from A to C\n",
      "Move 1 from B to A\n",
      "Move 2 from B to C\n",
      "Move 1 from A to C\n",
      "Move 3 from B to A\n",
      "Move 1 from C to B\n",
      "Move 2 from C to A\n",
      "Move 1 from B to A\n",
      "Move 4 from B to C\n",
      "Move 1 from A to C\n",
      "Move 2 from A to B\n",
      "Move 1 from C to B\n",
      "Move 3 from A to C\n",
      "Move 1 from B to A\n",
      "Move 2 from B to C\n",
      "Move 1 from A to C\n"
     ]
    }
   ],
   "source": [
    "ToH(5, \"A\", \"B\", \"C\")"
   ]
  },
  {
   "cell_type": "code",
   "execution_count": 10,
   "id": "64c041c0",
   "metadata": {},
   "outputs": [],
   "source": [
    "def Josephus(n, k):\n",
    "    if n == 1:\n",
    "        return 0\n",
    "    else:\n",
    "        return (Josephus(n-1, k) + k) % n\n",
    "\n",
    "def MyJos(n, k):\n",
    "    return Josephus(n, k) + 1"
   ]
  },
  {
   "cell_type": "code",
   "execution_count": 12,
   "id": "1de810dd",
   "metadata": {},
   "outputs": [
    {
     "data": {
      "text/plain": [
       "4"
      ]
     },
     "execution_count": 12,
     "metadata": {},
     "output_type": "execute_result"
    }
   ],
   "source": [
    "MyJos(5, 3)"
   ]
  },
  {
   "cell_type": "code",
   "execution_count": 22,
   "id": "5babb562",
   "metadata": {},
   "outputs": [],
   "source": [
    "def isSubsetSum(set, n, sum):    \n",
    "    # Base Cases\n",
    "    if (sum == 0) :\n",
    "        return True\n",
    "    if (n == 0 and sum != 0) :\n",
    "        return False\n",
    "   \n",
    "    # If last element is greater than\n",
    "    # sum, then ignore it\n",
    "    if (set[n - 1] > sum) :\n",
    "        return isSubsetSum(set, n - 1, sum);\n",
    "   \n",
    "    # else, check if sum can be obtained\n",
    "    # by any of the following\n",
    "    # (a) including the last element\n",
    "    # (b) excluding the last element   \n",
    "    return isSubsetSum(set, n-1, sum) or isSubsetSum(set, n-1, sum-set[n-1])"
   ]
  },
  {
   "cell_type": "code",
   "execution_count": 23,
   "id": "15a3e0dd",
   "metadata": {},
   "outputs": [
    {
     "data": {
      "text/plain": [
       "True"
      ]
     },
     "execution_count": 23,
     "metadata": {},
     "output_type": "execute_result"
    }
   ],
   "source": [
    "isSubsetSum(2, [234, 123, 456], 0)"
   ]
  },
  {
   "cell_type": "code",
   "execution_count": 26,
   "id": "d37f2058",
   "metadata": {},
   "outputs": [],
   "source": [
    "from itertools import permutations \n",
    "def AllPermutations(s, i):\n",
    "    if i == len(s) - 1: \n",
    "        print(s)\n",
    "    else: \n",
    "        j = i\n",
    "        for j in range(i, len(s)):\n",
    "            temp = s[i]\n",
    "            temp2 = s[j]\n",
    "            newstring = s[:i]+temp2+s[:j]+temp\n",
    "            listy = permutations(s)\n",
    "            temp = s[j]\n",
    "            temp2 = s[i]\n",
    "            newstring2 = s[:i]+temp2+s[:j]+temp\n",
    "            print(newstring, listy, newstring2)"
   ]
  },
  {
   "cell_type": "code",
   "execution_count": 27,
   "id": "8fcdf075",
   "metadata": {},
   "outputs": [
    {
     "name": "stdout",
     "output_type": "stream",
     "text": [
      "ww <itertools.permutations object at 0x7fe770024a40> ww\n",
      "aww <itertools.permutations object at 0x7fe7c182ae00> wwa\n",
      "fwaw <itertools.permutations object at 0x7fe770024a40> wwaf\n",
      "fwafw <itertools.permutations object at 0x7fe7c182ae00> wwaff\n",
      "lwaffw <itertools.permutations object at 0x7fe770024a40> wwaffl\n",
      "ewafflw <itertools.permutations object at 0x7fe7c182ae00> wwaffle\n"
     ]
    }
   ],
   "source": [
    "AllPermutations(\"waffle\", 0)"
   ]
  },
  {
   "cell_type": "code",
   "execution_count": 28,
   "id": "234df012",
   "metadata": {},
   "outputs": [
    {
     "name": "stdout",
     "output_type": "stream",
     "text": [
      "ABC\n",
      "ACB\n",
      "BAC\n",
      "BCA\n",
      "CBA\n",
      "CAB\n"
     ]
    }
   ],
   "source": [
    "def toString(List):\n",
    "    return ''.join(List)\n",
    " \n",
    "# Function to print permutations\n",
    "# of string\n",
    "# This function takes three parameters:\n",
    "# 1. String\n",
    "# 2. Starting index of the string\n",
    "# 3. Ending index of the string.\n",
    "def permute(a, l, r):\n",
    "    if l == r:\n",
    "        print (toString(a))\n",
    "    else:\n",
    "        for i in range(l, r + 1):\n",
    "            a[l], a[i] = a[i], a[l]\n",
    "            permute(a, l + 1, r)\n",
    " \n",
    "            # backtrack\n",
    "            a[l], a[i] = a[i], a[l]\n",
    " \n",
    "# Driver code\n",
    "string = \"ABC\"\n",
    "n = len(string)\n",
    "a = list(string)\n",
    "permute(a, 0, n-1)\n",
    "# This code is contributed by Bhavya Jain"
   ]
  },
  {
   "cell_type": "code",
   "execution_count": null,
   "id": "5f6b0d87",
   "metadata": {},
   "outputs": [],
   "source": []
  }
 ],
 "metadata": {
  "kernelspec": {
   "display_name": "Python 3 (ipykernel)",
   "language": "python",
   "name": "python3"
  },
  "language_info": {
   "codemirror_mode": {
    "name": "ipython",
    "version": 3
   },
   "file_extension": ".py",
   "mimetype": "text/x-python",
   "name": "python",
   "nbconvert_exporter": "python",
   "pygments_lexer": "ipython3",
   "version": "3.8.12"
  }
 },
 "nbformat": 4,
 "nbformat_minor": 5
}
