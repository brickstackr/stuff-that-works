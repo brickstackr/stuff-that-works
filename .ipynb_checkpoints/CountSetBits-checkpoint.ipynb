{
 "cells": [
  {
   "cell_type": "code",
   "execution_count": 15,
   "id": "b3ab45f8",
   "metadata": {},
   "outputs": [],
   "source": [
    "def CountSetBits(n):\n",
    "    count = 0\n",
    "    while (n):\n",
    "        count += n & 1\n",
    "        n >>= 1\n",
    "    return count"
   ]
  },
  {
   "cell_type": "code",
   "execution_count": 16,
   "id": "fab1f11c",
   "metadata": {},
   "outputs": [
    {
     "data": {
      "text/plain": [
       "3"
      ]
     },
     "execution_count": 16,
     "metadata": {},
     "output_type": "execute_result"
    }
   ],
   "source": [
    "CountSetBits(22)"
   ]
  },
  {
   "cell_type": "code",
   "execution_count": 18,
   "id": "c1fef2d2",
   "metadata": {},
   "outputs": [],
   "source": [
    "def CountSetBits2(n):\n",
    "     \n",
    "    # base case\n",
    "    if (n == 0):\n",
    "        return 0\n",
    " \n",
    "    else:\n",
    " \n",
    "        # if last bit set add 1 else\n",
    "        # add 0\n",
    "        return (n & 1) + CountSetBits2(n >> 1)"
   ]
  },
  {
   "cell_type": "code",
   "execution_count": 19,
   "id": "d54e264f",
   "metadata": {},
   "outputs": [
    {
     "data": {
      "text/plain": [
       "3"
      ]
     },
     "execution_count": 19,
     "metadata": {},
     "output_type": "execute_result"
    }
   ],
   "source": [
    "CountSetBits2(22)"
   ]
  },
  {
   "cell_type": "code",
   "execution_count": 21,
   "id": "ec6e557a",
   "metadata": {},
   "outputs": [],
   "source": [
    "def CountSetBits3(n):\n",
    "    result = 0\n",
    "    while n > 0:\n",
    "        n = n & (n-1)\n",
    "        result += 1\n",
    "    return result"
   ]
  },
  {
   "cell_type": "code",
   "execution_count": 22,
   "id": "16e4fc65",
   "metadata": {},
   "outputs": [
    {
     "data": {
      "text/plain": [
       "3"
      ]
     },
     "execution_count": 22,
     "metadata": {},
     "output_type": "execute_result"
    }
   ],
   "source": [
    "CountSetBits3(22)"
   ]
  },
  {
   "cell_type": "code",
   "execution_count": null,
   "id": "071a15f1",
   "metadata": {},
   "outputs": [],
   "source": []
  }
 ],
 "metadata": {
  "kernelspec": {
   "display_name": "Python 3 (ipykernel)",
   "language": "python",
   "name": "python3"
  },
  "language_info": {
   "codemirror_mode": {
    "name": "ipython",
    "version": 3
   },
   "file_extension": ".py",
   "mimetype": "text/x-python",
   "name": "python",
   "nbconvert_exporter": "python",
   "pygments_lexer": "ipython3",
   "version": "3.8.12"
  }
 },
 "nbformat": 4,
 "nbformat_minor": 5
}
