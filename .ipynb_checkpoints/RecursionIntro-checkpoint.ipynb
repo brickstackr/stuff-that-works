{
 "cells": [
  {
   "cell_type": "code",
   "execution_count": 1,
   "id": "45ac18a6",
   "metadata": {},
   "outputs": [],
   "source": [
    "def fun1():\n",
    "    print(\"fun1\")\n",
    "def fun2():\n",
    "    print(\"before fun1\")\n",
    "    print(fun1())\n",
    "    print(\"after fun1\")\n",
    "def main():\n",
    "    print(\"before fun2\")\n",
    "    print(fun2())\n",
    "    print(\"after fun2\")"
   ]
  },
  {
   "cell_type": "code",
   "execution_count": 2,
   "id": "0a111482",
   "metadata": {},
   "outputs": [
    {
     "name": "stdout",
     "output_type": "stream",
     "text": [
      "before fun2\n",
      "before fun1\n",
      "fun1\n",
      "None\n",
      "after fun1\n",
      "None\n",
      "after fun2\n"
     ]
    }
   ],
   "source": [
    "main()"
   ]
  },
  {
   "cell_type": "code",
   "execution_count": null,
   "id": "74f2a86e",
   "metadata": {},
   "outputs": [],
   "source": []
  }
 ],
 "metadata": {
  "kernelspec": {
   "display_name": "Python 3 (ipykernel)",
   "language": "python",
   "name": "python3"
  },
  "language_info": {
   "codemirror_mode": {
    "name": "ipython",
    "version": 3
   },
   "file_extension": ".py",
   "mimetype": "text/x-python",
   "name": "python",
   "nbconvert_exporter": "python",
   "pygments_lexer": "ipython3",
   "version": "3.8.12"
  }
 },
 "nbformat": 4,
 "nbformat_minor": 5
}
