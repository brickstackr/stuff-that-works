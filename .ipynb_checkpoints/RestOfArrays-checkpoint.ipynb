{
 "cells": [
  {
   "cell_type": "code",
   "execution_count": 15,
   "id": "adb50d04",
   "metadata": {},
   "outputs": [],
   "source": [
    "def MaxEvenOdd(arr):\n",
    "    n = len(arr)\n",
    "    res = 1\n",
    "    for i in range(0, n):\n",
    "        curr = 1\n",
    "        for j in range(i+1, n):\n",
    "            if (arr[j] % 2 == 0 and arr[j-1] % 2 != 0) or (arr[j] % 2 != 0 and arr[j-1] % 2 == 0):\n",
    "                curr += 1\n",
    "            else:\n",
    "                break\n",
    "        res = max(res, curr)\n",
    "    return res"
   ]
  },
  {
   "cell_type": "code",
   "execution_count": 18,
   "id": "7d480c39",
   "metadata": {},
   "outputs": [
    {
     "data": {
      "text/plain": [
       "3"
      ]
     },
     "execution_count": 18,
     "metadata": {},
     "output_type": "execute_result"
    }
   ],
   "source": [
    "MaxEvenOdd([5, 10, 20, 6, 3, 8])"
   ]
  },
  {
   "cell_type": "code",
   "execution_count": 21,
   "id": "28338f9d",
   "metadata": {},
   "outputs": [],
   "source": [
    "def MaxEvenOdd2(arr):\n",
    "    n = len(arr)\n",
    "    res = 1\n",
    "    curr = 1\n",
    "    for i in range(1, n):\n",
    "        if (arr[i] % 2 == 0 and arr[i-1] % 2 != 0) or (arr[i] % 2 != 0 and arr[i-1] % 2 == 0):\n",
    "                curr += 1\n",
    "                res = max(res, curr)\n",
    "        else:\n",
    "            curr = 1\n",
    "    return res"
   ]
  },
  {
   "cell_type": "code",
   "execution_count": 22,
   "id": "7f258041",
   "metadata": {},
   "outputs": [
    {
     "data": {
      "text/plain": [
       "3"
      ]
     },
     "execution_count": 22,
     "metadata": {},
     "output_type": "execute_result"
    }
   ],
   "source": [
    "MaxEvenOdd2([5, 10, 20, 6, 3, 8])"
   ]
  },
  {
   "cell_type": "code",
   "execution_count": 25,
   "id": "da00c874",
   "metadata": {},
   "outputs": [],
   "source": [
    "def MaxCircularSum(arr):\n",
    "    n = len(arr)\n",
    "    res = arr[0]\n",
    "    for i in range(0, n):\n",
    "        curr_max = arr[i]\n",
    "        curr_sum = arr[i]\n",
    "        for j in range(1, n):\n",
    "            index = (i+j)%n\n",
    "            curr_sum += arr[index]\n",
    "            curr_max = max(curr_max, curr_sum)\n",
    "        res = max(res, curr_max)\n",
    "    return res"
   ]
  },
  {
   "cell_type": "code",
   "execution_count": 26,
   "id": "5a9de752",
   "metadata": {},
   "outputs": [
    {
     "data": {
      "text/plain": [
       "12"
      ]
     },
     "execution_count": 26,
     "metadata": {},
     "output_type": "execute_result"
    }
   ],
   "source": [
    "MaxCircularSum([5,-2,3,4])"
   ]
  },
  {
   "cell_type": "code",
   "execution_count": 27,
   "id": "eb02e14b",
   "metadata": {},
   "outputs": [],
   "source": [
    "def NormalMaxSum(arr):\n",
    "    n = len(arr)\n",
    "    res = arr[0]\n",
    "    maxEnding = arr[0]\n",
    "    for i in range(1, n):\n",
    "        maxEnding = max(arr[i], maxEnding + arr[i])\n",
    "        res = max(res, maxEnding)\n",
    "    return res\n",
    "def OverallMaxSum(arr):\n",
    "    n = len(arr)\n",
    "    max_normal = NormalMaxSum(arr)\n",
    "    if max_normal < 0:\n",
    "        return max_normal\n",
    "    arr_sum = 0\n",
    "    for i in range(0, n):\n",
    "        arr_sum += arr[i]\n",
    "        arr[i] = -arr[i]\n",
    "    max_circular = arr_sum + NormalMaxSum(arr)\n",
    "    return max(max_normal, max_circular)"
   ]
  },
  {
   "cell_type": "code",
   "execution_count": 28,
   "id": "f52d2dad",
   "metadata": {},
   "outputs": [
    {
     "data": {
      "text/plain": [
       "12"
      ]
     },
     "execution_count": 28,
     "metadata": {},
     "output_type": "execute_result"
    }
   ],
   "source": [
    "OverallMaxSum([5,-2,3,4])"
   ]
  },
  {
   "cell_type": "code",
   "execution_count": null,
   "id": "6133a695",
   "metadata": {},
   "outputs": [],
   "source": []
  }
 ],
 "metadata": {
  "kernelspec": {
   "display_name": "Python 3",
   "language": "python",
   "name": "python3"
  },
  "language_info": {
   "codemirror_mode": {
    "name": "ipython",
    "version": 3
   },
   "file_extension": ".py",
   "mimetype": "text/x-python",
   "name": "python",
   "nbconvert_exporter": "python",
   "pygments_lexer": "ipython3",
   "version": "3.8.8"
  }
 },
 "nbformat": 4,
 "nbformat_minor": 5
}
