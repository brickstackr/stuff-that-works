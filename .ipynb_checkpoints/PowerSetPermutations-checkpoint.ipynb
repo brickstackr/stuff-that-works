{
 "cells": [
  {
   "cell_type": "code",
   "execution_count": 15,
   "id": "fbcdafb9",
   "metadata": {},
   "outputs": [],
   "source": [
    "def get_subsets(fullset):\n",
    "    listrep = list(fullset)\n",
    "    subsets = []\n",
    "    for i in range(2**len(listrep)):\n",
    "        subset = []\n",
    "    for k in range(len(listrep)):            \n",
    "        if i & 1<<k:\n",
    "            subset.append(listrep[k])\n",
    "            subsets.append(subset)        \n",
    "    return subsets"
   ]
  },
  {
   "cell_type": "code",
   "execution_count": 16,
   "id": "56e5e6cc",
   "metadata": {},
   "outputs": [
    {
     "name": "stdout",
     "output_type": "stream",
     "text": [
      "[[1, 2, 3, 4], [1, 2, 3, 4], [1, 2, 3, 4], [1, 2, 3, 4]]\n",
      "4\n"
     ]
    }
   ],
   "source": [
    "subsets = get_subsets([1,2,3,4])\n",
    "print(subsets)\n",
    "print(len(subsets))"
   ]
  },
  {
   "cell_type": "code",
   "execution_count": 17,
   "id": "cba54be3",
   "metadata": {},
   "outputs": [],
   "source": [
    "def get_subsets2(fullset):\n",
    "    listrep = list(fullset)\n",
    "    n = len(listrep)\n",
    "    return [[listrep[k] for k in range(n) if i&1<<k] for i in range(2**n)]"
   ]
  },
  {
   "cell_type": "code",
   "execution_count": 18,
   "id": "5c47c0ce",
   "metadata": {},
   "outputs": [
    {
     "data": {
      "text/plain": [
       "[[],\n",
       " [1],\n",
       " [2],\n",
       " [1, 2],\n",
       " [3],\n",
       " [1, 3],\n",
       " [2, 3],\n",
       " [1, 2, 3],\n",
       " [4],\n",
       " [1, 4],\n",
       " [2, 4],\n",
       " [1, 2, 4],\n",
       " [3, 4],\n",
       " [1, 3, 4],\n",
       " [2, 3, 4],\n",
       " [1, 2, 3, 4]]"
      ]
     },
     "execution_count": 18,
     "metadata": {},
     "output_type": "execute_result"
    }
   ],
   "source": [
    "get_subsets2([1,2,3,4])"
   ]
  },
  {
   "cell_type": "code",
   "execution_count": null,
   "id": "f079af27",
   "metadata": {},
   "outputs": [],
   "source": []
  }
 ],
 "metadata": {
  "kernelspec": {
   "display_name": "Python 3 (ipykernel)",
   "language": "python",
   "name": "python3"
  },
  "language_info": {
   "codemirror_mode": {
    "name": "ipython",
    "version": 3
   },
   "file_extension": ".py",
   "mimetype": "text/x-python",
   "name": "python",
   "nbconvert_exporter": "python",
   "pygments_lexer": "ipython3",
   "version": "3.8.12"
  }
 },
 "nbformat": 4,
 "nbformat_minor": 5
}
