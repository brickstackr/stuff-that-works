{
 "cells": [
  {
   "cell_type": "code",
   "execution_count": 15,
   "id": "fbcdafb9",
   "metadata": {},
   "outputs": [],
   "source": [
    "def get_subsets(fullset):\n",
    "    listrep = list(fullset)\n",
    "    subsets = []\n",
    "    for i in range(2**len(listrep)):\n",
    "        subset = []\n",
    "    for k in range(len(listrep)):            \n",
    "        if i & 1<<k:\n",
    "            subset.append(listrep[k])\n",
    "            subsets.append(subset)        \n",
    "    return subsets"
   ]
  },
  {
   "cell_type": "code",
   "execution_count": 16,
   "id": "56e5e6cc",
   "metadata": {},
   "outputs": [
    {
     "name": "stdout",
     "output_type": "stream",
     "text": [
      "[[1, 2, 3, 4], [1, 2, 3, 4], [1, 2, 3, 4], [1, 2, 3, 4]]\n",
      "4\n"
     ]
    }
   ],
   "source": [
    "subsets = get_subsets([1,2,3,4])\n",
    "print(subsets)\n",
    "print(len(subsets))"
   ]
  },
  {
   "cell_type": "code",
   "execution_count": 17,
   "id": "cba54be3",
   "metadata": {},
   "outputs": [],
   "source": [
    "def get_subsets2(fullset):\n",
    "    listrep = list(fullset)\n",
    "    n = len(listrep)\n",
    "    return [[listrep[k] for k in range(n) if i&1<<k] for i in range(2**n)]"
   ]
  },
  {
   "cell_type": "code",
   "execution_count": 18,
   "id": "5c47c0ce",
   "metadata": {},
   "outputs": [
    {
     "data": {
      "text/plain": [
       "[[],\n",
       " [1],\n",
       " [2],\n",
       " [1, 2],\n",
       " [3],\n",
       " [1, 3],\n",
       " [2, 3],\n",
       " [1, 2, 3],\n",
       " [4],\n",
       " [1, 4],\n",
       " [2, 4],\n",
       " [1, 2, 4],\n",
       " [3, 4],\n",
       " [1, 3, 4],\n",
       " [2, 3, 4],\n",
       " [1, 2, 3, 4]]"
      ]
     },
     "execution_count": 18,
     "metadata": {},
     "output_type": "execute_result"
    }
   ],
   "source": [
    "get_subsets2([1,2,3,4])"
   ]
  },
  {
   "cell_type": "code",
   "execution_count": 4,
   "id": "f079af27",
   "metadata": {},
   "outputs": [],
   "source": [
    "# Python program to print all permutations with\n",
    "# duplicates allowed\n",
    "\n",
    "def toString(List):\n",
    "    return ''.join(List)\n",
    "\n",
    "# Function to print permutations of string\n",
    "# This function takes three parameters:\n",
    "# 1. String\n",
    "# 2. Starting index of the string\n",
    "# 3. Ending index of the string.\n",
    "def permute(a, l, r):\n",
    "    if l==r:\n",
    "        print(toString(a))\n",
    "    else:\n",
    "        for i in range(l,r+1):\n",
    "            a[l], a[i] = a[i], a[l]\n",
    "            permute(a, l+1, r)\n",
    "            a[l], a[i] = a[i], a[l] # backtrack"
   ]
  },
  {
   "cell_type": "code",
   "execution_count": 5,
   "id": "651d1fb1",
   "metadata": {},
   "outputs": [
    {
     "name": "stdout",
     "output_type": "stream",
     "text": [
      "ABC\n",
      "ACB\n",
      "BAC\n",
      "BCA\n",
      "CBA\n",
      "CAB\n"
     ]
    }
   ],
   "source": [
    "# Driver program to test the above function\n",
    "string = \"ABC\"\n",
    "n = len(string)\n",
    "a = list(string)\n",
    "permute(a, 0, n-1)"
   ]
  },
  {
   "cell_type": "code",
   "execution_count": null,
   "id": "86764bdb",
   "metadata": {},
   "outputs": [],
   "source": []
  }
 ],
 "metadata": {
  "kernelspec": {
   "display_name": "Python 3 (ipykernel)",
   "language": "python",
   "name": "python3"
  },
  "language_info": {
   "codemirror_mode": {
    "name": "ipython",
    "version": 3
   },
   "file_extension": ".py",
   "mimetype": "text/x-python",
   "name": "python",
   "nbconvert_exporter": "python",
   "pygments_lexer": "ipython3",
   "version": "3.8.12"
  }
 },
 "nbformat": 4,
 "nbformat_minor": 5
}
