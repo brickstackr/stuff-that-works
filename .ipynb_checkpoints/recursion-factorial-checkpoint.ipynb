{
 "cells": [
  {
   "cell_type": "code",
   "execution_count": 1,
   "id": "3adf14bb",
   "metadata": {},
   "outputs": [],
   "source": [
    "def get_recursive_factorial(n):\n",
    "    if n < 0:\n",
    "        return -1\n",
    "    elif n < 2:\n",
    "        return 1\n",
    "    else:\n",
    "        return n * get_recursive_factorial(n-1)"
   ]
  },
  {
   "cell_type": "code",
   "execution_count": 2,
   "id": "e3604160",
   "metadata": {},
   "outputs": [
    {
     "data": {
      "text/plain": [
       "720"
      ]
     },
     "execution_count": 2,
     "metadata": {},
     "output_type": "execute_result"
    }
   ],
   "source": [
    "get_recursive_factorial(6)"
   ]
  },
  {
   "cell_type": "code",
   "execution_count": null,
   "id": "82c182b4",
   "metadata": {},
   "outputs": [],
   "source": []
  }
 ],
 "metadata": {
  "kernelspec": {
   "display_name": "Python 3 (ipykernel)",
   "language": "python",
   "name": "python3"
  },
  "language_info": {
   "codemirror_mode": {
    "name": "ipython",
    "version": 3
   },
   "file_extension": ".py",
   "mimetype": "text/x-python",
   "name": "python",
   "nbconvert_exporter": "python",
   "pygments_lexer": "ipython3",
   "version": "3.8.12"
  }
 },
 "nbformat": 4,
 "nbformat_minor": 5
}
