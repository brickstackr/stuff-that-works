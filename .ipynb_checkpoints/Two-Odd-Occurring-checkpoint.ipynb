{
 "cells": [
  {
   "cell_type": "code",
   "execution_count": 7,
   "id": "403f720a",
   "metadata": {},
   "outputs": [],
   "source": [
    "def TwoOddOccurring(arr):\n",
    "    n = len(arr)\n",
    "    for i in range(0, n):\n",
    "        count = 0\n",
    "        for j in range(0, n):\n",
    "            if arr[i] == arr[j]:\n",
    "                count += 1\n",
    "        if count % 2 != 0:\n",
    "            print(arr[i])"
   ]
  },
  {
   "cell_type": "code",
   "execution_count": 8,
   "id": "ef255673",
   "metadata": {},
   "outputs": [],
   "source": [
    "arr = [1,1,2,2,2,3,3,3,4,4]"
   ]
  },
  {
   "cell_type": "code",
   "execution_count": 9,
   "id": "1b622c06",
   "metadata": {},
   "outputs": [
    {
     "name": "stdout",
     "output_type": "stream",
     "text": [
      "2\n",
      "2\n",
      "2\n",
      "3\n",
      "3\n",
      "3\n"
     ]
    }
   ],
   "source": [
    "TwoOddOccurring(arr)"
   ]
  },
  {
   "cell_type": "code",
   "execution_count": 10,
   "id": "28632f32",
   "metadata": {},
   "outputs": [],
   "source": [
    "def TwoOddOccurring2(arr):\n",
    "    n = len(arr)\n",
    "    xor = 0\n",
    "    res1 = 0\n",
    "    res2 = 0\n",
    "    for i in range(0, n):\n",
    "        xor = xor^arr[i]\n",
    "    #find rightmost set bit \n",
    "    sb = xor & ~(xor-1)\n",
    "    for i in range(0, n):\n",
    "        if arr[i] & sb != 0:\n",
    "            res1 = res1^arr[i]\n",
    "        else:\n",
    "            res2 = res2^arr[i]\n",
    "    print(res1, res2)"
   ]
  },
  {
   "cell_type": "code",
   "execution_count": 12,
   "id": "5764b3f5",
   "metadata": {},
   "outputs": [
    {
     "name": "stdout",
     "output_type": "stream",
     "text": [
      "3 2\n"
     ]
    }
   ],
   "source": [
    "TwoOddOccurring2(arr)"
   ]
  },
  {
   "cell_type": "code",
   "execution_count": null,
   "id": "8b927292",
   "metadata": {},
   "outputs": [],
   "source": []
  }
 ],
 "metadata": {
  "kernelspec": {
   "display_name": "Python 3 (ipykernel)",
   "language": "python",
   "name": "python3"
  },
  "language_info": {
   "codemirror_mode": {
    "name": "ipython",
    "version": 3
   },
   "file_extension": ".py",
   "mimetype": "text/x-python",
   "name": "python",
   "nbconvert_exporter": "python",
   "pygments_lexer": "ipython3",
   "version": "3.8.12"
  }
 },
 "nbformat": 4,
 "nbformat_minor": 5
}
