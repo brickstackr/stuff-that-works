{
 "cells": [
  {
   "cell_type": "code",
   "execution_count": 4,
   "id": "0d02126a",
   "metadata": {},
   "outputs": [],
   "source": [
    "def FirstnNatural(n):\n",
    "    if n == 0:\n",
    "        return 0\n",
    "    else:\n",
    "        return n + FirstnNatural(n-1)"
   ]
  },
  {
   "cell_type": "code",
   "execution_count": 5,
   "id": "71a83ad5",
   "metadata": {},
   "outputs": [
    {
     "data": {
      "text/plain": [
       "10"
      ]
     },
     "execution_count": 5,
     "metadata": {},
     "output_type": "execute_result"
    }
   ],
   "source": [
    "FirstnNatural(4)"
   ]
  },
  {
   "cell_type": "code",
   "execution_count": 12,
   "id": "e794c618",
   "metadata": {},
   "outputs": [],
   "source": [
    "def IsPalindrome(s, start, end):\n",
    "    if start >= end:\n",
    "        return True\n",
    "    if s[start] == s[end] and IsPalindrome(s, start+1, end-1):\n",
    "        return True\n",
    "    else: \n",
    "        return False"
   ]
  },
  {
   "cell_type": "code",
   "execution_count": 13,
   "id": "20b6f3d6",
   "metadata": {},
   "outputs": [
    {
     "data": {
      "text/plain": [
       "False"
      ]
     },
     "execution_count": 13,
     "metadata": {},
     "output_type": "execute_result"
    }
   ],
   "source": [
    "IsPalindrome(\"test\", 0, 3)"
   ]
  },
  {
   "cell_type": "code",
   "execution_count": 14,
   "id": "a9fe10e8",
   "metadata": {},
   "outputs": [
    {
     "data": {
      "text/plain": [
       "True"
      ]
     },
     "execution_count": 14,
     "metadata": {},
     "output_type": "execute_result"
    }
   ],
   "source": [
    "IsPalindrome(\"abba\", 0, 3)"
   ]
  },
  {
   "cell_type": "code",
   "execution_count": 15,
   "id": "3fe44f92",
   "metadata": {},
   "outputs": [
    {
     "data": {
      "text/plain": [
       "False"
      ]
     },
     "execution_count": 15,
     "metadata": {},
     "output_type": "execute_result"
    }
   ],
   "source": [
    "IsPalindrome(\"HelloWorld\", 0, 9)"
   ]
  },
  {
   "cell_type": "code",
   "execution_count": 16,
   "id": "de36c29b",
   "metadata": {},
   "outputs": [
    {
     "data": {
      "text/plain": [
       "True"
      ]
     },
     "execution_count": 16,
     "metadata": {},
     "output_type": "execute_result"
    }
   ],
   "source": [
    "IsPalindrome(\"HelloWorld\", 2, 3)"
   ]
  },
  {
   "cell_type": "code",
   "execution_count": 38,
   "id": "718056ae",
   "metadata": {},
   "outputs": [],
   "source": [
    "def SumOfDigits(n):\n",
    "    if n == 0:\n",
    "        return 0\n",
    "    else:\n",
    "        return SumOfDigits(n//10) + n%10"
   ]
  },
  {
   "cell_type": "code",
   "execution_count": 39,
   "id": "7064e0c1",
   "metadata": {},
   "outputs": [
    {
     "data": {
      "text/plain": [
       "8"
      ]
     },
     "execution_count": 39,
     "metadata": {},
     "output_type": "execute_result"
    }
   ],
   "source": [
    "SumOfDigits(44)"
   ]
  },
  {
   "cell_type": "code",
   "execution_count": 55,
   "id": "d09a7072",
   "metadata": {},
   "outputs": [],
   "source": [
    "def maxPieces(n, a, b, c):\n",
    "    if n == 0:\n",
    "        return 0\n",
    "    if n < 0:\n",
    "        return -1\n",
    "    result = max(maxPieces(n-a, a, b, c), max(maxPieces(n-b, a, b, c), maxPieces(n-c, a, b, c)))\n",
    "    if result == -1:\n",
    "        return -1\n",
    "    return result + 1\n"
   ]
  },
  {
   "cell_type": "code",
   "execution_count": 56,
   "id": "8605c0b5",
   "metadata": {},
   "outputs": [
    {
     "data": {
      "text/plain": [
       "5"
      ]
     },
     "execution_count": 56,
     "metadata": {},
     "output_type": "execute_result"
    }
   ],
   "source": [
    "MaxPieces(5,2,1,2)"
   ]
  },
  {
   "cell_type": "code",
   "execution_count": 66,
   "id": "0e63ae57",
   "metadata": {},
   "outputs": [],
   "source": [
    "def GenerateSubsets(s, curr, i):\n",
    "    if i == len(s):\n",
    "        return curr\n",
    "    print(GenerateSubsets(s, curr, i+1)) \n",
    "    print(GenerateSubsets(s, curr+s[i], i+1))"
   ]
  },
  {
   "cell_type": "code",
   "execution_count": 67,
   "id": "172660cd",
   "metadata": {},
   "outputs": [
    {
     "name": "stdout",
     "output_type": "stream",
     "text": [
      "\n",
      "o\n",
      "None\n",
      "l\n",
      "lo\n",
      "None\n",
      "None\n",
      "l\n",
      "lo\n",
      "None\n",
      "ll\n",
      "llo\n",
      "None\n",
      "None\n",
      "None\n",
      "e\n",
      "eo\n",
      "None\n",
      "el\n",
      "elo\n",
      "None\n",
      "None\n",
      "el\n",
      "elo\n",
      "None\n",
      "ell\n",
      "ello\n",
      "None\n",
      "None\n",
      "None\n",
      "None\n",
      "h\n",
      "ho\n",
      "None\n",
      "hl\n",
      "hlo\n",
      "None\n",
      "None\n",
      "hl\n",
      "hlo\n",
      "None\n",
      "hll\n",
      "hllo\n",
      "None\n",
      "None\n",
      "None\n",
      "he\n",
      "heo\n",
      "None\n",
      "hel\n",
      "helo\n",
      "None\n",
      "None\n",
      "hel\n",
      "helo\n",
      "None\n",
      "hell\n",
      "hello\n",
      "None\n",
      "None\n",
      "None\n",
      "None\n"
     ]
    }
   ],
   "source": [
    "GenerateSubsets(\"hello\", \"\", 0)"
   ]
  },
  {
   "cell_type": "code",
   "execution_count": null,
   "id": "e0660cc9",
   "metadata": {},
   "outputs": [],
   "source": []
  }
 ],
 "metadata": {
  "kernelspec": {
   "display_name": "Python 3 (ipykernel)",
   "language": "python",
   "name": "python3"
  },
  "language_info": {
   "codemirror_mode": {
    "name": "ipython",
    "version": 3
   },
   "file_extension": ".py",
   "mimetype": "text/x-python",
   "name": "python",
   "nbconvert_exporter": "python",
   "pygments_lexer": "ipython3",
   "version": "3.8.12"
  }
 },
 "nbformat": 4,
 "nbformat_minor": 5
}
