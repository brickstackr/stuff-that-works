{
 "cells": [
  {
   "cell_type": "code",
   "execution_count": 1,
   "id": "2c1a1f9d",
   "metadata": {},
   "outputs": [],
   "source": [
    "def FirstOccurrence(arr, x):\n",
    "    n = len(arr)\n",
    "    for i in range(0, n):\n",
    "        if arr[i] == x:\n",
    "            return i\n",
    "    return -1"
   ]
  },
  {
   "cell_type": "code",
   "execution_count": 2,
   "id": "28af8994",
   "metadata": {},
   "outputs": [
    {
     "data": {
      "text/plain": [
       "4"
      ]
     },
     "execution_count": 2,
     "metadata": {},
     "output_type": "execute_result"
    }
   ],
   "source": [
    "FirstOccurrence([1,2,3,4,5], 5)"
   ]
  },
  {
   "cell_type": "code",
   "execution_count": 10,
   "id": "d57f396f",
   "metadata": {},
   "outputs": [],
   "source": [
    "def FirstOccurrenceRecursive(arr, low, high, x):\n",
    "    if low > high:\n",
    "        return -1\n",
    "    mid = (low+high)/2\n",
    "    mid = int(mid)\n",
    "    if x > arr[mid]:\n",
    "        return FirstOccurrenceRecursive(arr, mid+1, high, x)\n",
    "    elif x < arr[mid]:\n",
    "        return FirstOccurrenceRecursive(arr, low, mid-1, x)\n",
    "    else: \n",
    "        if mid == 0 or arr[mid-1] != arr[mid]:\n",
    "            return mid\n",
    "        return FirstOccurrenceRecursive(arr, low, mid-1, x)"
   ]
  },
  {
   "cell_type": "code",
   "execution_count": 11,
   "id": "fe3feb57",
   "metadata": {},
   "outputs": [
    {
     "data": {
      "text/plain": [
       "4"
      ]
     },
     "execution_count": 11,
     "metadata": {},
     "output_type": "execute_result"
    }
   ],
   "source": [
    "FirstOccurrenceRecursive([1,2,3,4,5], 0, 4, 5)"
   ]
  },
  {
   "cell_type": "code",
   "execution_count": null,
   "id": "cb15e26d",
   "metadata": {},
   "outputs": [],
   "source": []
  }
 ],
 "metadata": {
  "kernelspec": {
   "display_name": "Python 3",
   "language": "python",
   "name": "python3"
  },
  "language_info": {
   "codemirror_mode": {
    "name": "ipython",
    "version": 3
   },
   "file_extension": ".py",
   "mimetype": "text/x-python",
   "name": "python",
   "nbconvert_exporter": "python",
   "pygments_lexer": "ipython3",
   "version": "3.8.8"
  }
 },
 "nbformat": 4,
 "nbformat_minor": 5
}
