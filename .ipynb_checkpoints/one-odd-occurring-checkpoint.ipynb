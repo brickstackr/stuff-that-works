{
 "cells": [
  {
   "cell_type": "code",
   "execution_count": 14,
   "id": "c10f7958",
   "metadata": {},
   "outputs": [],
   "source": [
    "def OneOddOccurring(arr):\n",
    "    n = len(arr)\n",
    "    for i in range(0, n):\n",
    "        count = 0\n",
    "        for j in range(0, n):\n",
    "            if arr[j] == arr[i]:\n",
    "                count += 1\n",
    "        if count % 2 != 0:\n",
    "            print(arr[i])"
   ]
  },
  {
   "cell_type": "code",
   "execution_count": 15,
   "id": "64f2ccf4",
   "metadata": {},
   "outputs": [],
   "source": [
    "arr = [1,1,2,2,3,3,3]"
   ]
  },
  {
   "cell_type": "code",
   "execution_count": 16,
   "id": "8ce79f87",
   "metadata": {},
   "outputs": [
    {
     "name": "stdout",
     "output_type": "stream",
     "text": [
      "3\n",
      "3\n",
      "3\n"
     ]
    }
   ],
   "source": [
    "OneOddOccurring(arr)"
   ]
  },
  {
   "cell_type": "code",
   "execution_count": 21,
   "id": "255ad687",
   "metadata": {},
   "outputs": [],
   "source": [
    "def OneOddOccurring2(arr):\n",
    "    result = 0\n",
    "    n = len(arr)\n",
    "    for i in range (0, n):\n",
    "        result = result ^ arr[i]\n",
    "    return result"
   ]
  },
  {
   "cell_type": "code",
   "execution_count": 22,
   "id": "d55afa58",
   "metadata": {},
   "outputs": [
    {
     "data": {
      "text/plain": [
       "3"
      ]
     },
     "execution_count": 22,
     "metadata": {},
     "output_type": "execute_result"
    }
   ],
   "source": [
    "OneOddOccurring2(arr)"
   ]
  },
  {
   "cell_type": "code",
   "execution_count": null,
   "id": "a8567f71",
   "metadata": {},
   "outputs": [],
   "source": []
  }
 ],
 "metadata": {
  "kernelspec": {
   "display_name": "Python 3 (ipykernel)",
   "language": "python",
   "name": "python3"
  },
  "language_info": {
   "codemirror_mode": {
    "name": "ipython",
    "version": 3
   },
   "file_extension": ".py",
   "mimetype": "text/x-python",
   "name": "python",
   "nbconvert_exporter": "python",
   "pygments_lexer": "ipython3",
   "version": "3.8.12"
  }
 },
 "nbformat": 4,
 "nbformat_minor": 5
}
