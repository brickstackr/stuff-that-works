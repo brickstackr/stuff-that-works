{
 "cells": [
  {
   "cell_type": "code",
   "execution_count": 5,
   "id": "8ce35ba0",
   "metadata": {},
   "outputs": [],
   "source": [
    "def gcd(x, y):\n",
    "    result = min(x, y)\n",
    "    while result > 0:\n",
    "        if (x%result==0) and (y%result==0):\n",
    "            break\n",
    "        result = result - 1\n",
    "    return result"
   ]
  },
  {
   "cell_type": "code",
   "execution_count": 6,
   "id": "43635622",
   "metadata": {},
   "outputs": [
    {
     "data": {
      "text/plain": [
       "5"
      ]
     },
     "execution_count": 6,
     "metadata": {},
     "output_type": "execute_result"
    }
   ],
   "source": [
    "gcd(5,10)"
   ]
  },
  {
   "cell_type": "code",
   "execution_count": 7,
   "id": "247eda67",
   "metadata": {},
   "outputs": [
    {
     "data": {
      "text/plain": [
       "1"
      ]
     },
     "execution_count": 7,
     "metadata": {},
     "output_type": "execute_result"
    }
   ],
   "source": [
    "gcd(9,10)"
   ]
  },
  {
   "cell_type": "code",
   "execution_count": 8,
   "id": "2832e133",
   "metadata": {},
   "outputs": [],
   "source": [
    "#euclidean algorithm version\n",
    "def gcd2(a,b):\n",
    "    while a != b:\n",
    "        if a>b:\n",
    "            a = a-b\n",
    "        else:\n",
    "            b = b-a\n",
    "    return a"
   ]
  },
  {
   "cell_type": "code",
   "execution_count": 9,
   "id": "fbcfe071",
   "metadata": {},
   "outputs": [
    {
     "data": {
      "text/plain": [
       "5"
      ]
     },
     "execution_count": 9,
     "metadata": {},
     "output_type": "execute_result"
    }
   ],
   "source": [
    "gcd2(5,10)"
   ]
  },
  {
   "cell_type": "code",
   "execution_count": 11,
   "id": "132888f6",
   "metadata": {},
   "outputs": [
    {
     "data": {
      "text/plain": [
       "1"
      ]
     },
     "execution_count": 11,
     "metadata": {},
     "output_type": "execute_result"
    }
   ],
   "source": [
    "gcd2(9,10)"
   ]
  },
  {
   "cell_type": "code",
   "execution_count": 12,
   "id": "9e8d24f2",
   "metadata": {},
   "outputs": [
    {
     "data": {
      "text/plain": [
       "3"
      ]
     },
     "execution_count": 12,
     "metadata": {},
     "output_type": "execute_result"
    }
   ],
   "source": [
    "gcd2(12,15)"
   ]
  },
  {
   "cell_type": "code",
   "execution_count": 13,
   "id": "ba341918",
   "metadata": {},
   "outputs": [
    {
     "data": {
      "text/plain": [
       "3"
      ]
     },
     "execution_count": 13,
     "metadata": {},
     "output_type": "execute_result"
    }
   ],
   "source": [
    "gcd2(3,3)"
   ]
  },
  {
   "cell_type": "code",
   "execution_count": 14,
   "id": "aecd3abf",
   "metadata": {},
   "outputs": [
    {
     "data": {
      "text/plain": [
       "3"
      ]
     },
     "execution_count": 14,
     "metadata": {},
     "output_type": "execute_result"
    }
   ],
   "source": [
    "gcd2(6,3)"
   ]
  },
  {
   "cell_type": "code",
   "execution_count": 15,
   "id": "0ada868d",
   "metadata": {},
   "outputs": [],
   "source": [
    "#optimized euclidean algorithm\n",
    "def gcd3(a,b):\n",
    "    if b ==0:\n",
    "        return a\n",
    "    else:\n",
    "        return gcd(b, a%b)"
   ]
  },
  {
   "cell_type": "code",
   "execution_count": 16,
   "id": "72831b5a",
   "metadata": {},
   "outputs": [
    {
     "data": {
      "text/plain": [
       "5"
      ]
     },
     "execution_count": 16,
     "metadata": {},
     "output_type": "execute_result"
    }
   ],
   "source": [
    "gcd3(5,10)"
   ]
  },
  {
   "cell_type": "code",
   "execution_count": 17,
   "id": "7ab5acb0",
   "metadata": {},
   "outputs": [
    {
     "data": {
      "text/plain": [
       "3"
      ]
     },
     "execution_count": 17,
     "metadata": {},
     "output_type": "execute_result"
    }
   ],
   "source": [
    "gcd3(3,6)"
   ]
  },
  {
   "cell_type": "code",
   "execution_count": 19,
   "id": "ae383d38",
   "metadata": {},
   "outputs": [
    {
     "data": {
      "text/plain": [
       "2"
      ]
     },
     "execution_count": 19,
     "metadata": {},
     "output_type": "execute_result"
    }
   ],
   "source": [
    "gcd3(23478,4)"
   ]
  },
  {
   "cell_type": "code",
   "execution_count": null,
   "id": "a2904f5d",
   "metadata": {},
   "outputs": [],
   "source": []
  }
 ],
 "metadata": {
  "kernelspec": {
   "display_name": "Python 3 (ipykernel)",
   "language": "python",
   "name": "python3"
  },
  "language_info": {
   "codemirror_mode": {
    "name": "ipython",
    "version": 3
   },
   "file_extension": ".py",
   "mimetype": "text/x-python",
   "name": "python",
   "nbconvert_exporter": "python",
   "pygments_lexer": "ipython3",
   "version": "3.8.12"
  }
 },
 "nbformat": 4,
 "nbformat_minor": 5
}
