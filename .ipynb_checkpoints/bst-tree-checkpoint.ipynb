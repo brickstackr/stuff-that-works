{
 "cells": [
  {
   "cell_type": "code",
   "execution_count": 60,
   "id": "f693206d",
   "metadata": {},
   "outputs": [],
   "source": [
    "class BinarySearchTreeNode:\n",
    "    def __init__(self, data):\n",
    "        self.data = data\n",
    "        self.left = None\n",
    "        self.right = None\n",
    "    \n",
    "    def add_child(self, data):\n",
    "        if data == self.data:\n",
    "            return\n",
    "        if data < self.data:\n",
    "            # add data in left subtree\n",
    "            if self.left:\n",
    "                self.left.add_child(data)\n",
    "            else: \n",
    "                self.left = BinarySearchTreeNode(data)\n",
    "        else: \n",
    "            if self.right:\n",
    "                self.right.add_child(data)\n",
    "            else: \n",
    "                self.right = BinarySearchTreeNode(data)\n",
    "    \n",
    "    def search(self, val):\n",
    "        if self.data == val:\n",
    "            return True\n",
    "        elif val < self.data:\n",
    "            if self.left is not None:\n",
    "                self.left.search(val)\n",
    "        elif val > self.data:\n",
    "            if self.right is not None:\n",
    "                self.right.search(val)\n",
    "        else:\n",
    "            return False\n",
    "    \n",
    "    def in_order_traversal(self):\n",
    "        elements = []\n",
    "        #visit left tree\n",
    "        if self.left:\n",
    "            elements += self.left.in_order_traversal()\n",
    "        #visit base node\n",
    "        elements.append(self.data)\n",
    "        \n",
    "        #visit right tree\n",
    "        if self.right:\n",
    "            elements += self.right.in_order_traversal()\n",
    "            \n",
    "        return elements\n",
    "    \n",
    "    def build_tree(elements):\n",
    "        root = BinarySearchTreeNode(elements[0])\n",
    "        for i in range(1,len(elements)):\n",
    "            root.add_child(elements[i])\n",
    "        return root"
   ]
  },
  {
   "cell_type": "code",
   "execution_count": 61,
   "id": "6501a527",
   "metadata": {},
   "outputs": [
    {
     "name": "stdout",
     "output_type": "stream",
     "text": [
      "In order traversal gives this sorted list: [1, 4, 9, 17, 18, 20, 23, 34]\n",
      "None\n"
     ]
    }
   ],
   "source": [
    "numbers_tree = BinarySearchTreeNode.build_tree([17, 4, 1, 20, 9, 23, 18, 34])\n",
    "print(\"In order traversal gives this sorted list:\",numbers_tree.in_order_traversal())\n",
    "print(numbers_tree.search(4)) ## This search function still doesn't work. "
   ]
  },
  {
   "cell_type": "code",
   "execution_count": null,
   "id": "682a23f3",
   "metadata": {},
   "outputs": [],
   "source": []
  }
 ],
 "metadata": {
  "kernelspec": {
   "display_name": "Python 3",
   "language": "python",
   "name": "python3"
  },
  "language_info": {
   "codemirror_mode": {
    "name": "ipython",
    "version": 3
   },
   "file_extension": ".py",
   "mimetype": "text/x-python",
   "name": "python",
   "nbconvert_exporter": "python",
   "pygments_lexer": "ipython3",
   "version": "3.8.8"
  }
 },
 "nbformat": 4,
 "nbformat_minor": 5
}
