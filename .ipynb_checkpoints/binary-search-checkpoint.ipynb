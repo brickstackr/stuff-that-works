{
 "cells": [
  {
   "cell_type": "code",
   "execution_count": 3,
   "id": "ac40736c",
   "metadata": {},
   "outputs": [],
   "source": [
    "def bSearchNaive(arr, x):\n",
    "    n = len(arr)\n",
    "    low = 0\n",
    "    high = n-1\n",
    "    while low <= high:\n",
    "        mid = int((low+high)/2)\n",
    "        if arr[mid] == x:\n",
    "            return mid\n",
    "        elif arr[mid] > x:\n",
    "            high = mid - 1\n",
    "        else:\n",
    "            low = mid + 1\n",
    "    return -1"
   ]
  },
  {
   "cell_type": "code",
   "execution_count": 4,
   "id": "a6f154ae",
   "metadata": {},
   "outputs": [
    {
     "data": {
      "text/plain": [
       "1"
      ]
     },
     "execution_count": 4,
     "metadata": {},
     "output_type": "execute_result"
    }
   ],
   "source": [
    "bSearchNaive([1,2,3,4,5], 2)"
   ]
  },
  {
   "cell_type": "code",
   "execution_count": 7,
   "id": "8e351c98",
   "metadata": {},
   "outputs": [],
   "source": [
    "def bSearchRecursive(arr, high, low, x):\n",
    "    if low > high:\n",
    "        return -1\n",
    "    mid = int((low+high)/2)\n",
    "    if arr[mid] == x:\n",
    "        return mid\n",
    "    elif arr[mid] > x:\n",
    "        return bSearchRecursive(arr, low, mid-1, x)\n",
    "    else:\n",
    "        return bSearchRecursive(arr, mid+1, high, x)"
   ]
  },
  {
   "cell_type": "code",
   "execution_count": 14,
   "id": "95a7c1bc",
   "metadata": {},
   "outputs": [
    {
     "data": {
      "text/plain": [
       "4"
      ]
     },
     "execution_count": 14,
     "metadata": {},
     "output_type": "execute_result"
    }
   ],
   "source": [
    "bSearchRecursive([1,2,3,4,5],1,0,5)"
   ]
  },
  {
   "cell_type": "code",
   "execution_count": null,
   "id": "db2d52a9",
   "metadata": {},
   "outputs": [],
   "source": []
  }
 ],
 "metadata": {
  "kernelspec": {
   "display_name": "Python 3",
   "language": "python",
   "name": "python3"
  },
  "language_info": {
   "codemirror_mode": {
    "name": "ipython",
    "version": 3
   },
   "file_extension": ".py",
   "mimetype": "text/x-python",
   "name": "python",
   "nbconvert_exporter": "python",
   "pygments_lexer": "ipython3",
   "version": "3.8.8"
  }
 },
 "nbformat": 4,
 "nbformat_minor": 5
}
