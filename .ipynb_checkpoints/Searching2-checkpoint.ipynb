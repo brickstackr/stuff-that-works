{
 "cells": [
  {
   "cell_type": "code",
   "execution_count": null,
   "id": "cb5590b7",
   "metadata": {},
   "outputs": [],
   "source": [
    "def CountInstances(arr, x):\n",
    "    n = len(arr)\n",
    "    low = 0\n",
    "    high = n-1\n",
    "    while low <= high:\n",
    "        mid = (low+high)/2\n",
    "        if x > arr[mid]:\n",
    "            low = mid + 1\n",
    "        elif x < arr[mid]:\n",
    "            high = mid - 1\n",
    "        else:\n",
    "            if(mid == 0 || arr[mid - 1] != arr[mid]):\n",
    "                    return mid\n",
    "            else:\n",
    "                high = mid - 1\n",
    "    return -1"
   ]
  },
  {
   "cell_type": "code",
   "execution_count": 6,
   "id": "e1756906",
   "metadata": {},
   "outputs": [],
   "source": [
    "def countOnes(arr):\n",
    "    n = len(arr)\n",
    "    low = 0\n",
    "    high = n - 1\n",
    "    while low <= high:\n",
    "        mid = int((low + high) / 2)\n",
    "        if(arr[mid] == 0):\n",
    "            low = mid + 1\n",
    "        else:\n",
    "            if(mid == 0 or arr[mid - 1] == 0):\n",
    "                return n - mid\n",
    "            else: \n",
    "                high = mid - 1\n",
    "    return 0"
   ]
  },
  {
   "cell_type": "code",
   "execution_count": 8,
   "id": "34fdff24",
   "metadata": {},
   "outputs": [
    {
     "data": {
      "text/plain": [
       "5"
      ]
     },
     "execution_count": 8,
     "metadata": {},
     "output_type": "execute_result"
    }
   ],
   "source": [
    "countOnes([0, 0, 1, 1, 1, 1, 1])"
   ]
  },
  {
   "cell_type": "code",
   "execution_count": 9,
   "id": "59a784ba",
   "metadata": {},
   "outputs": [],
   "source": [
    "def InfiniteArrayNaive(arr, x):\n",
    "    IsTrue = True\n",
    "    i = 0\n",
    "    while IsTrue == True:\n",
    "        if arr[i] == x: \n",
    "            return i\n",
    "        if arr[i] > x: \n",
    "            return -1\n",
    "        i+=1 "
   ]
  },
  {
   "cell_type": "code",
   "execution_count": 10,
   "id": "1fa9cf6c",
   "metadata": {},
   "outputs": [
    {
     "data": {
      "text/plain": [
       "-1"
      ]
     },
     "execution_count": 10,
     "metadata": {},
     "output_type": "execute_result"
    }
   ],
   "source": [
    "InfiniteArrayNaive([2,4,4,5,5,6,8],7)"
   ]
  },
  {
   "cell_type": "code",
   "execution_count": 11,
   "id": "39ac6ebf",
   "metadata": {},
   "outputs": [
    {
     "data": {
      "text/plain": [
       "5"
      ]
     },
     "execution_count": 11,
     "metadata": {},
     "output_type": "execute_result"
    }
   ],
   "source": [
    "InfiniteArrayNaive([2,4,4,5,5,6,8],6)"
   ]
  },
  {
   "cell_type": "code",
   "execution_count": 52,
   "id": "7ee80093",
   "metadata": {},
   "outputs": [
    {
     "name": "stdout",
     "output_type": "stream",
     "text": [
      "Element found at index 4\n"
     ]
    }
   ],
   "source": [
    "def binary_search(arr,low,high,x):\n",
    "    if high >= low:\n",
    "        mid = low+(high-low)//2\n",
    "        if arr[mid] == x:\n",
    "            return mid\n",
    "        if arr[mid] > x:\n",
    "            return binary_search(arr,low,mid-1,x)\n",
    "        return binary_search(arr,mid+1,high,x)\n",
    "    return -1\n",
    "# function takes an infinite size array and a key to be\n",
    "# searched and returns its position if found else -1.\n",
    "# We don't know size of a[] and we can assume size to be\n",
    "# infinite in this function.\n",
    "# NOTE THAT THIS FUNCTION ASSUMES a[] TO BE OF INFINITE SIZE\n",
    "# THEREFORE, THERE IS NO INDEX OUT OF BOUND CHECKING\n",
    "def findPos(a, key):\n",
    "    low, high, val = 0, 1, arr[0]\n",
    "    # Find h to do binary search\n",
    "    while val < key:\n",
    "        low = high\n",
    "        high = 2*high\n",
    "        val = arr[high]\n",
    "    # at this point we have updated low and high indices,\n",
    "    # thus use binary search between them\n",
    "    return binary_search(a, low, high, key)\n",
    "# Driver function\n",
    "arr = [3, 5, 7, 9, 10, 90, 100, 130, 140, 160, 170]\n",
    "ans = findPos(arr,10)\n",
    "if ans == -1:\n",
    "    print (\"Element not found\")\n",
    "else:\n",
    "    print(\"Element found at index\",ans)"
   ]
  },
  {
   "cell_type": "code",
   "execution_count": 49,
   "id": "61586f1e",
   "metadata": {},
   "outputs": [
    {
     "ename": "TypeError",
     "evalue": "InfiniteArrayEff() takes 2 positional arguments but 4 were given",
     "output_type": "error",
     "traceback": [
      "\u001b[0;31m---------------------------------------------------------------------------\u001b[0m",
      "\u001b[0;31mTypeError\u001b[0m                                 Traceback (most recent call last)",
      "\u001b[0;32m<ipython-input-49-329895c2ff70>\u001b[0m in \u001b[0;36m<module>\u001b[0;34m\u001b[0m\n\u001b[0;32m----> 1\u001b[0;31m \u001b[0msearch\u001b[0m\u001b[0;34m(\u001b[0m\u001b[0;34m[\u001b[0m\u001b[0;36m1\u001b[0m\u001b[0;34m,\u001b[0m\u001b[0;36m2\u001b[0m\u001b[0;34m,\u001b[0m\u001b[0;36m3\u001b[0m\u001b[0;34m,\u001b[0m\u001b[0;36m4\u001b[0m\u001b[0;34m,\u001b[0m\u001b[0;36m4\u001b[0m\u001b[0;34m,\u001b[0m\u001b[0;36m5\u001b[0m\u001b[0;34m]\u001b[0m\u001b[0;34m,\u001b[0m\u001b[0;36m3\u001b[0m\u001b[0;34m)\u001b[0m\u001b[0;34m\u001b[0m\u001b[0;34m\u001b[0m\u001b[0m\n\u001b[0m",
      "\u001b[0;32m<ipython-input-47-9cd52aeaf12b>\u001b[0m in \u001b[0;36msearch\u001b[0;34m(arr, x)\u001b[0m\n\u001b[1;32m     20\u001b[0m     \u001b[0;32mif\u001b[0m \u001b[0marr\u001b[0m\u001b[0;34m[\u001b[0m\u001b[0mi\u001b[0m\u001b[0;34m]\u001b[0m \u001b[0;34m==\u001b[0m \u001b[0mx\u001b[0m\u001b[0;34m:\u001b[0m\u001b[0;34m\u001b[0m\u001b[0;34m\u001b[0m\u001b[0m\n\u001b[1;32m     21\u001b[0m         \u001b[0;32mreturn\u001b[0m \u001b[0mi\u001b[0m\u001b[0;34m\u001b[0m\u001b[0;34m\u001b[0m\u001b[0m\n\u001b[0;32m---> 22\u001b[0;31m     \u001b[0;32mreturn\u001b[0m \u001b[0mInfiniteArrayEff\u001b[0m\u001b[0;34m(\u001b[0m\u001b[0marr\u001b[0m\u001b[0;34m,\u001b[0m \u001b[0mi\u001b[0m \u001b[0;34m/\u001b[0m \u001b[0;36m2\u001b[0m \u001b[0;34m+\u001b[0m \u001b[0;36m1\u001b[0m\u001b[0;34m,\u001b[0m \u001b[0mi\u001b[0m \u001b[0;34m-\u001b[0m \u001b[0;36m1\u001b[0m\u001b[0;34m,\u001b[0m \u001b[0mx\u001b[0m\u001b[0;34m)\u001b[0m\u001b[0;34m\u001b[0m\u001b[0;34m\u001b[0m\u001b[0m\n\u001b[0m",
      "\u001b[0;31mTypeError\u001b[0m: InfiniteArrayEff() takes 2 positional arguments but 4 were given"
     ]
    }
   ],
   "source": []
  },
  {
   "cell_type": "code",
   "execution_count": null,
   "id": "715402db",
   "metadata": {},
   "outputs": [],
   "source": []
  }
 ],
 "metadata": {
  "kernelspec": {
   "display_name": "Python 3",
   "language": "python",
   "name": "python3"
  },
  "language_info": {
   "codemirror_mode": {
    "name": "ipython",
    "version": 3
   },
   "file_extension": ".py",
   "mimetype": "text/x-python",
   "name": "python",
   "nbconvert_exporter": "python",
   "pygments_lexer": "ipython3",
   "version": "3.8.8"
  }
 },
 "nbformat": 4,
 "nbformat_minor": 5
}
