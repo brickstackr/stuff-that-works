{
 "cells": [
  {
   "cell_type": "code",
   "execution_count": null,
   "id": "08eddf02",
   "metadata": {},
   "outputs": [],
   "source": [
    "def CountInstances(arr, x):\n",
    "    n = len(arr)\n",
    "    low = 0\n",
    "    high = n-1\n",
    "    while low <= high:\n",
    "        mid = (low+high)/2\n",
    "        if x > arr[mid]:\n",
    "            low = mid + 1\n",
    "        elif x < arr[mid]:\n",
    "            high = mid - 1\n",
    "        else:\n",
    "            if(mid == 0 || arr[mid - 1] != arr[mid]):\n",
    "                    return mid\n",
    "            else:\n",
    "                high = mid - 1\n",
    "    return -1"
   ]
  },
  {
   "cell_type": "code",
   "execution_count": 6,
   "id": "18e1ed8f",
   "metadata": {},
   "outputs": [],
   "source": [
    "def countOnes(arr):\n",
    "    n = len(arr)\n",
    "    low = 0\n",
    "    high = n - 1\n",
    "    while low <= high:\n",
    "        mid = int((low + high) / 2)\n",
    "        if(arr[mid] == 0):\n",
    "            low = mid + 1\n",
    "        else:\n",
    "            if(mid == 0 or arr[mid - 1] == 0):\n",
    "                return n - mid\n",
    "            else: \n",
    "                high = mid - 1\n",
    "    return 0"
   ]
  },
  {
   "cell_type": "code",
   "execution_count": 8,
   "id": "ef584567",
   "metadata": {},
   "outputs": [
    {
     "data": {
      "text/plain": [
       "5"
      ]
     },
     "execution_count": 8,
     "metadata": {},
     "output_type": "execute_result"
    }
   ],
   "source": [
    "countOnes([0, 0, 1, 1, 1, 1, 1])"
   ]
  },
  {
   "cell_type": "code",
   "execution_count": null,
   "id": "8a742814",
   "metadata": {},
   "outputs": [],
   "source": []
  }
 ],
 "metadata": {
  "kernelspec": {
   "display_name": "Python 3",
   "language": "python",
   "name": "python3"
  },
  "language_info": {
   "codemirror_mode": {
    "name": "ipython",
    "version": 3
   },
   "file_extension": ".py",
   "mimetype": "text/x-python",
   "name": "python",
   "nbconvert_exporter": "python",
   "pygments_lexer": "ipython3",
   "version": "3.8.8"
  }
 },
 "nbformat": 4,
 "nbformat_minor": 5
}
