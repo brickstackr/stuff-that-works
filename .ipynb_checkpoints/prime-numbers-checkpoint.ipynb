{
 "cells": [
  {
   "cell_type": "code",
   "execution_count": 9,
   "id": "8a10f06e",
   "metadata": {},
   "outputs": [],
   "source": [
    "def IsPrime(n):\n",
    "    # If given number is greater than 1\n",
    "    if n > 1:\n",
    "  \n",
    "    # Iterate from 2 to n / 2\n",
    "        for i in range(2, int(n/2)+1):\n",
    "  \n",
    "        # If num is divisible by any number between\n",
    "        # 2 and n / 2, it is not prime\n",
    "            if (n % i) == 0:\n",
    "                return False\n",
    "                break\n",
    "            else:\n",
    "                return True"
   ]
  },
  {
   "cell_type": "code",
   "execution_count": 10,
   "id": "c2d8d902",
   "metadata": {},
   "outputs": [
    {
     "data": {
      "text/plain": [
       "False"
      ]
     },
     "execution_count": 10,
     "metadata": {},
     "output_type": "execute_result"
    }
   ],
   "source": [
    "IsPrime(22)"
   ]
  },
  {
   "cell_type": "code",
   "execution_count": 11,
   "id": "afc6e0f6",
   "metadata": {},
   "outputs": [
    {
     "data": {
      "text/plain": [
       "True"
      ]
     },
     "execution_count": 11,
     "metadata": {},
     "output_type": "execute_result"
    }
   ],
   "source": [
    "IsPrime(23)"
   ]
  },
  {
   "cell_type": "code",
   "execution_count": 52,
   "id": "eec98ba9",
   "metadata": {},
   "outputs": [
    {
     "name": "stdout",
     "output_type": "stream",
     "text": [
      "Total prime numbers in range : 9592\n",
      "Time required : 0.1967008113861084\n"
     ]
    }
   ],
   "source": [
    "# Python Program to find prime numbers in a range\n",
    "import math\n",
    "import time\n",
    "def IsPrime2(n):\n",
    "    if n <= 1:\n",
    "        return False\n",
    "\n",
    "    max_div = math.floor(math.sqrt(n))\n",
    "    for i in range(2, 1 + max_div):\n",
    "        if n % i == 0:\n",
    "            return False\n",
    "    return True\n",
    "\n",
    "# Driver function\n",
    "t0 = time.time()\n",
    "c = 0 #for counting\n",
    "\n",
    "for n in range(1,100000):\n",
    "    x = IsPrime2(n)\n",
    "    c += x\n",
    "print(\"Total prime numbers in range :\", c)\n",
    "\n",
    "t1 = time.time()\n",
    "print(\"Time required :\", t1 - t0)\n"
   ]
  },
  {
   "cell_type": "code",
   "execution_count": 53,
   "id": "9c159d38",
   "metadata": {},
   "outputs": [
    {
     "data": {
      "text/plain": [
       "False"
      ]
     },
     "execution_count": 53,
     "metadata": {},
     "output_type": "execute_result"
    }
   ],
   "source": [
    "IsPrime2(8)"
   ]
  },
  {
   "cell_type": "code",
   "execution_count": 54,
   "id": "adbcb62a",
   "metadata": {},
   "outputs": [
    {
     "data": {
      "text/plain": [
       "True"
      ]
     },
     "execution_count": 54,
     "metadata": {},
     "output_type": "execute_result"
    }
   ],
   "source": [
    "IsPrime2(19)"
   ]
  },
  {
   "cell_type": "code",
   "execution_count": 64,
   "id": "ec13978e",
   "metadata": {},
   "outputs": [],
   "source": [
    "def PrimeFactors(n):\n",
    " \n",
    "    c = 2\n",
    "    while(n > 1):\n",
    " \n",
    "        if(n % c == 0):\n",
    "            print(c, end=\" \")\n",
    "            n = n / c\n",
    "        else:\n",
    "            c = c + 1"
   ]
  },
  {
   "cell_type": "code",
   "execution_count": 65,
   "id": "0668fda7",
   "metadata": {},
   "outputs": [
    {
     "name": "stdout",
     "output_type": "stream",
     "text": [
      "2 2 3 "
     ]
    }
   ],
   "source": [
    "PrimeFactors(12)"
   ]
  },
  {
   "cell_type": "code",
   "execution_count": 69,
   "id": "572c1d31",
   "metadata": {},
   "outputs": [],
   "source": [
    "def PrimeFactors2(n):\n",
    "    if n <= 1:\n",
    "        return -1\n",
    "    i = 2\n",
    "    while i*i <= n:\n",
    "        while n%i ==0:\n",
    "            print(i)\n",
    "            n = n/i\n",
    "            i = i + 1\n",
    "#    if n>1:\n",
    "#        print(n)"
   ]
  },
  {
   "cell_type": "code",
   "execution_count": 70,
   "id": "66bce8c3",
   "metadata": {},
   "outputs": [
    {
     "name": "stdout",
     "output_type": "stream",
     "text": [
      "2\n",
      "3\n"
     ]
    }
   ],
   "source": [
    "PrimeFactors2(12)"
   ]
  },
  {
   "cell_type": "code",
   "execution_count": null,
   "id": "a319730c",
   "metadata": {},
   "outputs": [],
   "source": []
  }
 ],
 "metadata": {
  "kernelspec": {
   "display_name": "Python 3 (ipykernel)",
   "language": "python",
   "name": "python3"
  },
  "language_info": {
   "codemirror_mode": {
    "name": "ipython",
    "version": 3
   },
   "file_extension": ".py",
   "mimetype": "text/x-python",
   "name": "python",
   "nbconvert_exporter": "python",
   "pygments_lexer": "ipython3",
   "version": "3.8.12"
  }
 },
 "nbformat": 4,
 "nbformat_minor": 5
}
