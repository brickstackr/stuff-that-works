{
 "cells": [
  {
   "cell_type": "code",
   "execution_count": 1,
   "id": "72ac6867",
   "metadata": {},
   "outputs": [],
   "source": [
    "def IsPow2(n):\n",
    "    if n == 0:\n",
    "        return False\n",
    "    while n != 1:\n",
    "        if n % 2 != 0:\n",
    "            return False\n",
    "        n = n / 2\n",
    "    return True"
   ]
  },
  {
   "cell_type": "code",
   "execution_count": 2,
   "id": "75e45716",
   "metadata": {},
   "outputs": [
    {
     "data": {
      "text/plain": [
       "False"
      ]
     },
     "execution_count": 2,
     "metadata": {},
     "output_type": "execute_result"
    }
   ],
   "source": [
    "IsPow2(3)"
   ]
  },
  {
   "cell_type": "code",
   "execution_count": 3,
   "id": "1dd7c3ce",
   "metadata": {},
   "outputs": [
    {
     "data": {
      "text/plain": [
       "True"
      ]
     },
     "execution_count": 3,
     "metadata": {},
     "output_type": "execute_result"
    }
   ],
   "source": [
    "IsPow2(8)"
   ]
  },
  {
   "cell_type": "code",
   "execution_count": null,
   "id": "2c3e2b6e",
   "metadata": {},
   "outputs": [],
   "source": []
  }
 ],
 "metadata": {
  "kernelspec": {
   "display_name": "Python 3 (ipykernel)",
   "language": "python",
   "name": "python3"
  },
  "language_info": {
   "codemirror_mode": {
    "name": "ipython",
    "version": 3
   },
   "file_extension": ".py",
   "mimetype": "text/x-python",
   "name": "python",
   "nbconvert_exporter": "python",
   "pygments_lexer": "ipython3",
   "version": "3.8.12"
  }
 },
 "nbformat": 4,
 "nbformat_minor": 5
}
