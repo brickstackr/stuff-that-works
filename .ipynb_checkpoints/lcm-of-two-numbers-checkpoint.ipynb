{
 "cells": [
  {
   "cell_type": "code",
   "execution_count": 7,
   "id": "7fe89a71",
   "metadata": {},
   "outputs": [],
   "source": [
    "#optimized euclidean algorithm\n",
    "def gcd(a,b):\n",
    "    if b ==0:\n",
    "        return a\n",
    "    else:\n",
    "        return gcd(b, a%b)"
   ]
  },
  {
   "cell_type": "code",
   "execution_count": 8,
   "id": "b682f07a",
   "metadata": {},
   "outputs": [],
   "source": [
    "def lcm(a,b):\n",
    "    return(a*b)/gcd(a,b)"
   ]
  },
  {
   "cell_type": "code",
   "execution_count": 9,
   "id": "5ce579ea",
   "metadata": {},
   "outputs": [
    {
     "data": {
      "text/plain": [
       "12.0"
      ]
     },
     "execution_count": 9,
     "metadata": {},
     "output_type": "execute_result"
    }
   ],
   "source": [
    "lcm(4,6)"
   ]
  },
  {
   "cell_type": "code",
   "execution_count": null,
   "id": "b15ce9db",
   "metadata": {},
   "outputs": [],
   "source": []
  }
 ],
 "metadata": {
  "kernelspec": {
   "display_name": "Python 3 (ipykernel)",
   "language": "python",
   "name": "python3"
  },
  "language_info": {
   "codemirror_mode": {
    "name": "ipython",
    "version": 3
   },
   "file_extension": ".py",
   "mimetype": "text/x-python",
   "name": "python",
   "nbconvert_exporter": "python",
   "pygments_lexer": "ipython3",
   "version": "3.8.12"
  }
 },
 "nbformat": 4,
 "nbformat_minor": 5
}
