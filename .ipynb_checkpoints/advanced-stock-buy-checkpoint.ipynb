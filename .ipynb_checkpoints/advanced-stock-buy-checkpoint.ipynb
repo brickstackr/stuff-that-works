{
 "cells": [
  {
   "cell_type": "code",
   "execution_count": 5,
   "id": "837e6adc",
   "metadata": {},
   "outputs": [],
   "source": [
    "def MaxProfit(price):\n",
    "    n = len(price)\n",
    "    profit = 0\n",
    "    for i in range(0, n):\n",
    "        if price[i] > price[i-1]:\n",
    "            profit += (price[i]-price[i-1])\n",
    "    return profit"
   ]
  },
  {
   "cell_type": "code",
   "execution_count": 6,
   "id": "dce67f77",
   "metadata": {},
   "outputs": [
    {
     "data": {
      "text/plain": [
       "13"
      ]
     },
     "execution_count": 6,
     "metadata": {},
     "output_type": "execute_result"
    }
   ],
   "source": [
    "MaxProfit([1,5,3,8,12])"
   ]
  },
  {
   "cell_type": "code",
   "execution_count": null,
   "id": "29bdb434",
   "metadata": {},
   "outputs": [],
   "source": []
  }
 ],
 "metadata": {
  "kernelspec": {
   "display_name": "Python 3",
   "language": "python",
   "name": "python3"
  },
  "language_info": {
   "codemirror_mode": {
    "name": "ipython",
    "version": 3
   },
   "file_extension": ".py",
   "mimetype": "text/x-python",
   "name": "python",
   "nbconvert_exporter": "python",
   "pygments_lexer": "ipython3",
   "version": "3.8.8"
  }
 },
 "nbformat": 4,
 "nbformat_minor": 5
}
