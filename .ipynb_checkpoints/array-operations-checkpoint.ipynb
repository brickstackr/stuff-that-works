{
 "cells": [
  {
   "cell_type": "code",
   "execution_count": 1,
   "id": "c7739e2a",
   "metadata": {},
   "outputs": [],
   "source": [
    "def search(arr, n, x):\n",
    "    for i in range (0, n-1):\n",
    "        if arr[i] == x:\n",
    "            return i\n",
    "        return -1"
   ]
  },
  {
   "cell_type": "code",
   "execution_count": 3,
   "id": "1c153516",
   "metadata": {},
   "outputs": [
    {
     "data": {
      "text/plain": [
       "-1"
      ]
     },
     "execution_count": 3,
     "metadata": {},
     "output_type": "execute_result"
    }
   ],
   "source": [
    "search([1,2,3,4], 2, 6)"
   ]
  },
  {
   "cell_type": "code",
   "execution_count": 7,
   "id": "428f05e9",
   "metadata": {},
   "outputs": [],
   "source": [
    "def insert(arr, n, x, cap, pos):\n",
    "    if n == cap:\n",
    "        return n\n",
    "    idx = pos - 1\n",
    "    for i in range(idx, n-1):\n",
    "        arr[i+1] = arr[i]\n",
    "    arr[idx] = x\n",
    "    print(arr)    "
   ]
  },
  {
   "cell_type": "code",
   "execution_count": 8,
   "id": "b5831b20",
   "metadata": {},
   "outputs": [
    {
     "name": "stdout",
     "output_type": "stream",
     "text": [
      "[4, 4, 3, 12]\n"
     ]
    }
   ],
   "source": [
    "insert([1,2,3,4], 2, 12, 0, 0)"
   ]
  },
  {
   "cell_type": "code",
   "execution_count": 40,
   "id": "1d0e2080",
   "metadata": {},
   "outputs": [],
   "source": [
    "# this does not work in python any way i have tried it.\n",
    "def delete(arr, n, x):\n",
    "    for i in range(0, n):\n",
    "        if arr[i] == x:\n",
    "            break\n",
    "        if(i == n):\n",
    "            return n\n",
    "        for j in range(i, n-1):\n",
    "            arr[j] = arr[j + 1]\n",
    "    print(arr)"
   ]
  },
  {
   "cell_type": "code",
   "execution_count": 41,
   "id": "5e77cc58",
   "metadata": {},
   "outputs": [
    {
     "name": "stdout",
     "output_type": "stream",
     "text": [
      "[1, 2, 3, 4]\n"
     ]
    }
   ],
   "source": [
    "delete([1,2,3,4], 4, 1)"
   ]
  },
  {
   "cell_type": "code",
   "execution_count": 16,
   "id": "da392f93",
   "metadata": {},
   "outputs": [],
   "source": [
    "def GetLargest(arr, n):\n",
    " \n",
    "    # Initialize maximum element\n",
    "    max = arr[0]\n",
    " \n",
    "    # Traverse array elements from second\n",
    "    # and compare every element with\n",
    "    # current max\n",
    "    for i in range(1, n):\n",
    "        if arr[i] > max:\n",
    "            max = arr[i]\n",
    "    return max"
   ]
  },
  {
   "cell_type": "code",
   "execution_count": 17,
   "id": "034ad86e",
   "metadata": {},
   "outputs": [
    {
     "data": {
      "text/plain": [
       "67"
      ]
     },
     "execution_count": 17,
     "metadata": {},
     "output_type": "execute_result"
    }
   ],
   "source": [
    "GetLargest([5,1,2,4,67], 5)"
   ]
  },
  {
   "cell_type": "code",
   "execution_count": 33,
   "id": "ee2f3ecd",
   "metadata": {},
   "outputs": [],
   "source": [
    "def GetLargestIndex(arr, n):\n",
    "    for i in range(0, n-1):\n",
    "        flag = True\n",
    "        i += 1\n",
    "        for j in range(0, n-1):\n",
    "            if arr[j] > arr[i]:\n",
    "                flag = False\n",
    "                j += 1\n",
    "                break\n",
    "        if flag == True:\n",
    "            return i\n",
    "    return -1"
   ]
  },
  {
   "cell_type": "code",
   "execution_count": 34,
   "id": "b701a3e2",
   "metadata": {},
   "outputs": [
    {
     "data": {
      "text/plain": [
       "4"
      ]
     },
     "execution_count": 34,
     "metadata": {},
     "output_type": "execute_result"
    }
   ],
   "source": [
    "GetLargestIndex([5,1,2,4,67], 5)"
   ]
  },
  {
   "cell_type": "code",
   "execution_count": 35,
   "id": "f3c0cef5",
   "metadata": {},
   "outputs": [],
   "source": [
    "def SecondLargest(arr, n):\n",
    "    largest = GetLargestIndex(arr, n)\n",
    "    res = -1\n",
    "    for i in range(0, n-1):\n",
    "        if arr[i] != arr[largest]:\n",
    "            if res == -1:\n",
    "                res = i\n",
    "            elif arr[i] > arr[res]:\n",
    "                res = i\n",
    "    return res"
   ]
  },
  {
   "cell_type": "code",
   "execution_count": 36,
   "id": "76ff4213",
   "metadata": {},
   "outputs": [
    {
     "data": {
      "text/plain": [
       "0"
      ]
     },
     "execution_count": 36,
     "metadata": {},
     "output_type": "execute_result"
    }
   ],
   "source": [
    "SecondLargest([5,1,2,4,67], 5)"
   ]
  },
  {
   "cell_type": "code",
   "execution_count": 45,
   "id": "9ba9b24a",
   "metadata": {},
   "outputs": [
    {
     "name": "stdout",
     "output_type": "stream",
     "text": [
      "Second highest number is :  45\n"
     ]
    }
   ],
   "source": [
    "# list of numbers - length of\n",
    "# list should be at least 2\n",
    "list1 = [10, 20, 4, 45, 99]\n",
    " \n",
    "mx = max(list1[0], list1[1])\n",
    "secondmax = min(list1[0], list1[1])\n",
    "n = len(list1)\n",
    "for i in range(2,n):\n",
    "    if list1[i] > mx:\n",
    "        secondmax = mx\n",
    "        mx = list1[i]\n",
    "    elif list1[i] > secondmax and \\\n",
    "        mx != list1[i]:\n",
    "        secondmax = list1[i]\n",
    "    elif mx == secondmax and \\\n",
    "        secondmax != list1[i]:\n",
    "          secondmax = list1[i]\n",
    " \n",
    "print(\"Second highest number is : \",\\\n",
    "      str(secondmax))"
   ]
  },
  {
   "cell_type": "code",
   "execution_count": 7,
   "id": "14d3bb74",
   "metadata": {},
   "outputs": [],
   "source": [
    "def IsSorted(arr):\n",
    "    n = len(arr) - 1\n",
    "    for i in range(0, n):\n",
    "        for j in range(i+1, n):\n",
    "            if arr[j] < arr[i]:\n",
    "                return False\n",
    "    return True"
   ]
  },
  {
   "cell_type": "code",
   "execution_count": 8,
   "id": "c707d3f0",
   "metadata": {},
   "outputs": [
    {
     "data": {
      "text/plain": [
       "True"
      ]
     },
     "execution_count": 8,
     "metadata": {},
     "output_type": "execute_result"
    }
   ],
   "source": [
    "IsSorted([4,5,6,7,9])"
   ]
  },
  {
   "cell_type": "code",
   "execution_count": 11,
   "id": "9d3e9be4",
   "metadata": {},
   "outputs": [],
   "source": [
    "def IsSortedEfficient(arr):\n",
    "    n = len(arr) - 1\n",
    "    for i in range (1, n-1):\n",
    "        if arr[i] < arr[i-1]:\n",
    "            return False\n",
    "    return True"
   ]
  },
  {
   "cell_type": "code",
   "execution_count": 12,
   "id": "9a5362a0",
   "metadata": {},
   "outputs": [
    {
     "data": {
      "text/plain": [
       "False"
      ]
     },
     "execution_count": 12,
     "metadata": {},
     "output_type": "execute_result"
    }
   ],
   "source": [
    "IsSortedEfficient([5,4,21,1,0])"
   ]
  },
  {
   "cell_type": "code",
   "execution_count": 1,
   "id": "cc84f8b6",
   "metadata": {},
   "outputs": [],
   "source": [
    "def reverse(arr):\n",
    "    n = len(arr)\n",
    "    low = 0\n",
    "    high = n - 1\n",
    "    while low < high:\n",
    "        temp = arr[low]\n",
    "        arr[low] = arr[high]\n",
    "        arr[high] = temp\n",
    "        low += 1\n",
    "        high -= 1\n",
    "    return arr"
   ]
  },
  {
   "cell_type": "code",
   "execution_count": 3,
   "id": "35f4a8f2",
   "metadata": {},
   "outputs": [
    {
     "data": {
      "text/plain": [
       "[5, 4, 3, 2, 1]"
      ]
     },
     "execution_count": 3,
     "metadata": {},
     "output_type": "execute_result"
    }
   ],
   "source": [
    "reverse([1,2,3,4,5])"
   ]
  },
  {
   "cell_type": "code",
   "execution_count": 28,
   "id": "13f5cdea",
   "metadata": {},
   "outputs": [],
   "source": [
    "def CountUniques(arr):\n",
    "    n = len(arr) -1\n",
    "    res = 0\n",
    "    uniques = []\n",
    "    for i in range(1, n):\n",
    "        if(arr[res - 1] != arr[i]):\n",
    "            arr[res] = arr[i]\n",
    "            res += 1\n",
    "            uniques.append(arr[i])\n",
    "    print(uniques)\n",
    "    return res;"
   ]
  },
  {
   "cell_type": "code",
   "execution_count": 29,
   "id": "5ff370f4",
   "metadata": {},
   "outputs": [
    {
     "name": "stdout",
     "output_type": "stream",
     "text": [
      "[4, 3, 2]\n"
     ]
    },
    {
     "data": {
      "text/plain": [
       "3"
      ]
     },
     "execution_count": 29,
     "metadata": {},
     "output_type": "execute_result"
    }
   ],
   "source": [
    "CountUniques([5,4,3,2,2,1])"
   ]
  },
  {
   "cell_type": "code",
   "execution_count": null,
   "id": "dbf36437",
   "metadata": {},
   "outputs": [],
   "source": []
  }
 ],
 "metadata": {
  "kernelspec": {
   "display_name": "Python 3 (ipykernel)",
   "language": "python",
   "name": "python3"
  },
  "language_info": {
   "codemirror_mode": {
    "name": "ipython",
    "version": 3
   },
   "file_extension": ".py",
   "mimetype": "text/x-python",
   "name": "python",
   "nbconvert_exporter": "python",
   "pygments_lexer": "ipython3",
   "version": "3.8.12"
  }
 },
 "nbformat": 4,
 "nbformat_minor": 5
}
