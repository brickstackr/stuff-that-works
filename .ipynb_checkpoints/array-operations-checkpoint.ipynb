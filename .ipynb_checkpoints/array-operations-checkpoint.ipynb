{
 "cells": [
  {
   "cell_type": "code",
   "execution_count": 1,
   "id": "c7739e2a",
   "metadata": {},
   "outputs": [],
   "source": [
    "def search(arr, n, x):\n",
    "    for i in range (0, n-1):\n",
    "        if arr[i] == x:\n",
    "            return i\n",
    "        return -1"
   ]
  },
  {
   "cell_type": "code",
   "execution_count": 3,
   "id": "1c153516",
   "metadata": {},
   "outputs": [
    {
     "data": {
      "text/plain": [
       "-1"
      ]
     },
     "execution_count": 3,
     "metadata": {},
     "output_type": "execute_result"
    }
   ],
   "source": [
    "search([1,2,3,4], 2, 6)"
   ]
  },
  {
   "cell_type": "code",
   "execution_count": 7,
   "id": "428f05e9",
   "metadata": {},
   "outputs": [],
   "source": [
    "def insert(arr, n, x, cap, pos):\n",
    "    if n == cap:\n",
    "        return n\n",
    "    idx = pos - 1\n",
    "    for i in range(idx, n-1):\n",
    "        arr[i+1] = arr[i]\n",
    "    arr[idx] = x\n",
    "    print(arr)    "
   ]
  },
  {
   "cell_type": "code",
   "execution_count": 8,
   "id": "b5831b20",
   "metadata": {},
   "outputs": [
    {
     "name": "stdout",
     "output_type": "stream",
     "text": [
      "[4, 4, 3, 12]\n"
     ]
    }
   ],
   "source": [
    "insert([1,2,3,4], 2, 12, 0, 0)"
   ]
  },
  {
   "cell_type": "code",
   "execution_count": 40,
   "id": "1d0e2080",
   "metadata": {},
   "outputs": [],
   "source": [
    "# this does not work in python any way i have tried it.\n",
    "def delete(arr, n, x):\n",
    "    for i in range(0, n):\n",
    "        if arr[i] == x:\n",
    "            break\n",
    "        if(i == n):\n",
    "            return n\n",
    "        for j in range(i, n-1):\n",
    "            arr[j] = arr[j + 1]\n",
    "    print(arr)"
   ]
  },
  {
   "cell_type": "code",
   "execution_count": 41,
   "id": "5e77cc58",
   "metadata": {},
   "outputs": [
    {
     "name": "stdout",
     "output_type": "stream",
     "text": [
      "[1, 2, 3, 4]\n"
     ]
    }
   ],
   "source": [
    "delete([1,2,3,4], 4, 1)"
   ]
  },
  {
   "cell_type": "code",
   "execution_count": null,
   "id": "da392f93",
   "metadata": {},
   "outputs": [],
   "source": []
  }
 ],
 "metadata": {
  "kernelspec": {
   "display_name": "Python 3 (ipykernel)",
   "language": "python",
   "name": "python3"
  },
  "language_info": {
   "codemirror_mode": {
    "name": "ipython",
    "version": 3
   },
   "file_extension": ".py",
   "mimetype": "text/x-python",
   "name": "python",
   "nbconvert_exporter": "python",
   "pygments_lexer": "ipython3",
   "version": "3.8.12"
  }
 },
 "nbformat": 4,
 "nbformat_minor": 5
}
