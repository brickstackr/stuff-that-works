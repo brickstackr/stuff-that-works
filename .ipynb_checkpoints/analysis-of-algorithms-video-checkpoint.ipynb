{
 "cells": [
  {
   "cell_type": "code",
   "execution_count": 1,
   "id": "85a0a0b6",
   "metadata": {},
   "outputs": [],
   "source": [
    "# function to return sum of first n natural numbers \n",
    "def SumOfN(n):\n",
    "    return n*((n+1)/2)"
   ]
  },
  {
   "cell_type": "code",
   "execution_count": 2,
   "id": "2ba05741",
   "metadata": {},
   "outputs": [
    {
     "data": {
      "text/plain": [
       "78.0"
      ]
     },
     "execution_count": 2,
     "metadata": {},
     "output_type": "execute_result"
    }
   ],
   "source": [
    "SumOfN(12)"
   ]
  },
  {
   "cell_type": "code",
   "execution_count": 4,
   "id": "791b637b",
   "metadata": {},
   "outputs": [],
   "source": [
    "#nested loops version\n",
    "def SumOfVal(val):\n",
    "    if val < 0:\n",
    "        print(\"Wrong Input\")\n",
    "    else:\n",
    "        sumvalue = 0\n",
    "        for i in range(1,val+1):\n",
    "            sumvalue += i\n",
    "        return sumvalue"
   ]
  },
  {
   "cell_type": "code",
   "execution_count": 5,
   "id": "4d789e87",
   "metadata": {},
   "outputs": [
    {
     "data": {
      "text/plain": [
       "78"
      ]
     },
     "execution_count": 5,
     "metadata": {},
     "output_type": "execute_result"
    }
   ],
   "source": [
    "SumOfVal(12)"
   ]
  },
  {
   "cell_type": "code",
   "execution_count": 6,
   "id": "487ff2a7",
   "metadata": {},
   "outputs": [],
   "source": [
    "# Python program to check if\n",
    "# given number is prime or not\n",
    "\n",
    "def CheckPrime(n):\n",
    "\n",
    "# If given number is greater than 1\n",
    "    if n > 1:\n",
    "\n",
    "# Iterate from 2 to n / 2\n",
    "        for i in range(2, int(n/2)+1):\n",
    "\n",
    "# If num is divisible by any number between\n",
    "# 2 and n / 2, it is not prime\n",
    "            if (n % i) == 0:\n",
    "                return False\n",
    "                break\n",
    "            else:\n",
    "                return True"
   ]
  },
  {
   "cell_type": "code",
   "execution_count": 7,
   "id": "cae85457",
   "metadata": {},
   "outputs": [
    {
     "data": {
      "text/plain": [
       "False"
      ]
     },
     "execution_count": 7,
     "metadata": {},
     "output_type": "execute_result"
    }
   ],
   "source": [
    "CheckPrime(12)"
   ]
  },
  {
   "cell_type": "code",
   "execution_count": 8,
   "id": "bc426401",
   "metadata": {},
   "outputs": [
    {
     "data": {
      "text/plain": [
       "True"
      ]
     },
     "execution_count": 8,
     "metadata": {},
     "output_type": "execute_result"
    }
   ],
   "source": [
    "CheckPrime(71)"
   ]
  },
  {
   "cell_type": "code",
   "execution_count": 19,
   "id": "9dd5db6b",
   "metadata": {},
   "outputs": [],
   "source": [
    "#fibonnaci sequence\n",
    "def FibNumber(q):\n",
    "    if (q == 0) or (q == 1):\n",
    "        return q\n",
    "    else:\n",
    "        a = 0\n",
    "        b = 1\n",
    "        i = 2\n",
    "        n = q - 1\n",
    "        for q in range(n):\n",
    "            c = a + b\n",
    "            a = b\n",
    "            b = c\n",
    "            n = n + 1\n",
    "        return c"
   ]
  },
  {
   "cell_type": "code",
   "execution_count": 20,
   "id": "976603ff",
   "metadata": {},
   "outputs": [
    {
     "data": {
      "text/plain": [
       "55"
      ]
     },
     "execution_count": 20,
     "metadata": {},
     "output_type": "execute_result"
    }
   ],
   "source": [
    "FibNumber(10)"
   ]
  },
  {
   "cell_type": "code",
   "execution_count": 21,
   "id": "46e55f5b",
   "metadata": {},
   "outputs": [
    {
     "data": {
      "text/plain": [
       "17711"
      ]
     },
     "execution_count": 21,
     "metadata": {},
     "output_type": "execute_result"
    }
   ],
   "source": [
    "FibNumber(22)"
   ]
  },
  {
   "cell_type": "code",
   "execution_count": null,
   "id": "872f0020",
   "metadata": {},
   "outputs": [],
   "source": []
  }
 ],
 "metadata": {
  "kernelspec": {
   "display_name": "Python 3 (ipykernel)",
   "language": "python",
   "name": "python3"
  },
  "language_info": {
   "codemirror_mode": {
    "name": "ipython",
    "version": 3
   },
   "file_extension": ".py",
   "mimetype": "text/x-python",
   "name": "python",
   "nbconvert_exporter": "python",
   "pygments_lexer": "ipython3",
   "version": "3.8.12"
  }
 },
 "nbformat": 4,
 "nbformat_minor": 5
}
