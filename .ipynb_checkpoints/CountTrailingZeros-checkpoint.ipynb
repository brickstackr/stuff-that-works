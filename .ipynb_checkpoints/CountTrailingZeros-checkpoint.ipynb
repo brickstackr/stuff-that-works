{
 "cells": [
  {
   "cell_type": "code",
   "execution_count": 1,
   "id": "45d7e8ea",
   "metadata": {},
   "outputs": [],
   "source": [
    "def CountTrailingZeros(n):\n",
    "    result = 0\n",
    "    i = 5\n",
    "    while (n / i>= 1):\n",
    "        result += int(n / i)\n",
    "        i *= 5\n",
    "    return result"
   ]
  },
  {
   "cell_type": "code",
   "execution_count": 2,
   "id": "852a2307",
   "metadata": {},
   "outputs": [
    {
     "data": {
      "text/plain": [
       "2998"
      ]
     },
     "execution_count": 2,
     "metadata": {},
     "output_type": "execute_result"
    }
   ],
   "source": [
    "CountTrailingZeros(12000)"
   ]
  },
  {
   "cell_type": "code",
   "execution_count": null,
   "id": "20d44acd",
   "metadata": {},
   "outputs": [],
   "source": []
  }
 ],
 "metadata": {
  "kernelspec": {
   "display_name": "Python 3 (ipykernel)",
   "language": "python",
   "name": "python3"
  },
  "language_info": {
   "codemirror_mode": {
    "name": "ipython",
    "version": 3
   },
   "file_extension": ".py",
   "mimetype": "text/x-python",
   "name": "python",
   "nbconvert_exporter": "python",
   "pygments_lexer": "ipython3",
   "version": "3.8.12"
  }
 },
 "nbformat": 4,
 "nbformat_minor": 5
}
