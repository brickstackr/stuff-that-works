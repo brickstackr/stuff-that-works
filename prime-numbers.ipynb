{
 "cells": [
  {
   "cell_type": "code",
   "execution_count": 9,
   "id": "c182aae7",
   "metadata": {},
   "outputs": [],
   "source": [
    "def IsPrime(n):\n",
    "    # If given number is greater than 1\n",
    "    if n > 1:\n",
    "  \n",
    "    # Iterate from 2 to n / 2\n",
    "        for i in range(2, int(n/2)+1):\n",
    "  \n",
    "        # If num is divisible by any number between\n",
    "        # 2 and n / 2, it is not prime\n",
    "            if (n % i) == 0:\n",
    "                return False\n",
    "                break\n",
    "            else:\n",
    "                return True"
   ]
  },
  {
   "cell_type": "code",
   "execution_count": 10,
   "id": "1368fd58",
   "metadata": {},
   "outputs": [
    {
     "data": {
      "text/plain": [
       "False"
      ]
     },
     "execution_count": 10,
     "metadata": {},
     "output_type": "execute_result"
    }
   ],
   "source": [
    "IsPrime(22)"
   ]
  },
  {
   "cell_type": "code",
   "execution_count": 11,
   "id": "ef6cc0cd",
   "metadata": {},
   "outputs": [
    {
     "data": {
      "text/plain": [
       "True"
      ]
     },
     "execution_count": 11,
     "metadata": {},
     "output_type": "execute_result"
    }
   ],
   "source": [
    "IsPrime(23)"
   ]
  },
  {
   "cell_type": "code",
   "execution_count": 52,
   "id": "1f616393",
   "metadata": {},
   "outputs": [
    {
     "name": "stdout",
     "output_type": "stream",
     "text": [
      "Total prime numbers in range : 9592\n",
      "Time required : 0.1967008113861084\n"
     ]
    }
   ],
   "source": [
    "# Python Program to find prime numbers in a range\n",
    "import math\n",
    "import time\n",
    "def IsPrime2(n):\n",
    "    if n <= 1:\n",
    "        return False\n",
    "\n",
    "    max_div = math.floor(math.sqrt(n))\n",
    "    for i in range(2, 1 + max_div):\n",
    "        if n % i == 0:\n",
    "            return False\n",
    "    return True\n",
    "\n",
    "# Driver function\n",
    "t0 = time.time()\n",
    "c = 0 #for counting\n",
    "\n",
    "for n in range(1,100000):\n",
    "    x = IsPrime2(n)\n",
    "    c += x\n",
    "print(\"Total prime numbers in range :\", c)\n",
    "\n",
    "t1 = time.time()\n",
    "print(\"Time required :\", t1 - t0)\n"
   ]
  },
  {
   "cell_type": "code",
   "execution_count": 53,
   "id": "8cd6106a",
   "metadata": {},
   "outputs": [
    {
     "data": {
      "text/plain": [
       "False"
      ]
     },
     "execution_count": 53,
     "metadata": {},
     "output_type": "execute_result"
    }
   ],
   "source": [
    "IsPrime2(8)"
   ]
  },
  {
   "cell_type": "code",
   "execution_count": 54,
   "id": "c9188743",
   "metadata": {},
   "outputs": [
    {
     "data": {
      "text/plain": [
       "True"
      ]
     },
     "execution_count": 54,
     "metadata": {},
     "output_type": "execute_result"
    }
   ],
   "source": [
    "IsPrime2(19)"
   ]
  },
  {
   "cell_type": "code",
   "execution_count": 64,
   "id": "679cdae1",
   "metadata": {},
   "outputs": [],
   "source": [
    "def PrimeFactors(n):\n",
    " \n",
    "    c = 2\n",
    "    while(n > 1):\n",
    " \n",
    "        if(n % c == 0):\n",
    "            print(c, end=\" \")\n",
    "            n = n / c\n",
    "        else:\n",
    "            c = c + 1"
   ]
  },
  {
   "cell_type": "code",
   "execution_count": 65,
   "id": "087d049e",
   "metadata": {},
   "outputs": [
    {
     "name": "stdout",
     "output_type": "stream",
     "text": [
      "2 2 3 "
     ]
    }
   ],
   "source": [
    "PrimeFactors(12)"
   ]
  },
  {
   "cell_type": "code",
   "execution_count": 69,
   "id": "b5e9bff3",
   "metadata": {},
   "outputs": [],
   "source": [
    "def PrimeFactors2(n):\n",
    "    if n <= 1:\n",
    "        return -1\n",
    "    i = 2\n",
    "    while i*i <= n:\n",
    "        while n%i ==0:\n",
    "            print(i)\n",
    "            n = n/i\n",
    "            i = i + 1\n",
    "#    if n>1:\n",
    "#        print(n)"
   ]
  },
  {
   "cell_type": "code",
   "execution_count": 76,
   "id": "7c42dd53",
   "metadata": {},
   "outputs": [
    {
     "name": "stdout",
     "output_type": "stream",
     "text": [
      "2\n",
      "3\n"
     ]
    }
   ],
   "source": [
    "PrimeFactors2(12)"
   ]
  },
  {
   "cell_type": "code",
   "execution_count": 80,
   "id": "229d260b",
   "metadata": {},
   "outputs": [],
   "source": [
    "def AllDivisors(n):\n",
    "    i = 1\n",
    "    for i in range(1, n+1):\n",
    "        if n%i == 0:\n",
    "            print(i)\n",
    "            i = i +1"
   ]
  },
  {
   "cell_type": "code",
   "execution_count": 81,
   "id": "390a5342",
   "metadata": {},
   "outputs": [
    {
     "name": "stdout",
     "output_type": "stream",
     "text": [
      "1\n",
      "5\n",
      "25\n"
     ]
    }
   ],
   "source": [
    "AllDivisors(25)"
   ]
  },
  {
   "cell_type": "code",
   "execution_count": 88,
   "id": "e74b2f37",
   "metadata": {},
   "outputs": [
    {
     "name": "stdout",
     "output_type": "stream",
     "text": [
      "The divisors of 100 are: \n",
      "1 2 4 5 10 20 25 50 100 "
     ]
    }
   ],
   "source": [
    "import math\n",
    "\n",
    "# Method to print the divisors\n",
    "def printDivisors(n) :\n",
    "  list = []\n",
    "  \n",
    "  # List to store half of the divisors\n",
    "  for i in range(1, int(math.sqrt(n) + 1)) :\n",
    "    \n",
    "    if (n % i == 0) :\n",
    "      \n",
    "      # Check if divisors are equal\n",
    "      if (n / i == i) :\n",
    "        print (i, end =\" \")\n",
    "      else :\n",
    "        # Otherwise print both\n",
    "        print (i, end =\" \")\n",
    "        list.append(int(n / i))\n",
    "        \n",
    "  # The list will be printed in reverse\n",
    "  for i in list[::-1] :\n",
    "    print (i, end =\" \")\n",
    "    \n",
    "# Driver method\n",
    "print (\"The divisors of 100 are: \")\n",
    "printDivisors(100)"
   ]
  },
  {
   "cell_type": "code",
   "execution_count": 89,
   "id": "91624b13",
   "metadata": {},
   "outputs": [
    {
     "name": "stdout",
     "output_type": "stream",
     "text": [
      "The divisors of 100 are: \n",
      "1 2 4 5 10 20 25 50 100 "
     ]
    }
   ],
   "source": [
    "from math import *\n",
    " \n",
    "# Function to print the divisors\n",
    "def printDivisors (n):\n",
    " \n",
    "    i = 1\n",
    "    while (i * i < n):\n",
    "        if (n % i == 0):\n",
    "            print(i, end = \" \")\n",
    " \n",
    "        i += 1\n",
    " \n",
    "    for i in range(int(sqrt(n)), 0, -1):\n",
    "        if (n % i == 0):\n",
    "            print(n // i, end = \" \")\n",
    " \n",
    "# Driver Code\n",
    "print(\"The divisors of 100 are: \")\n",
    " \n",
    "printDivisors(100)"
   ]
  },
  {
   "cell_type": "code",
   "execution_count": 90,
   "id": "15a6ee7c",
   "metadata": {},
   "outputs": [],
   "source": [
    "def PrintPrimes(n):\n",
    "    for i in range (2, n):\n",
    "        if IsPrime(i) == True:\n",
    "            print(i)"
   ]
  },
  {
   "cell_type": "code",
   "execution_count": 91,
   "id": "da4b3096",
   "metadata": {},
   "outputs": [
    {
     "name": "stdout",
     "output_type": "stream",
     "text": [
      "5\n",
      "7\n",
      "9\n",
      "11\n",
      "13\n",
      "15\n",
      "17\n",
      "19\n",
      "21\n",
      "23\n",
      "25\n"
     ]
    }
   ],
   "source": [
    "PrintPrimes(27)"
   ]
  },
  {
   "cell_type": "code",
   "execution_count": 112,
   "id": "3debe34a",
   "metadata": {},
   "outputs": [],
   "source": [
    "def SieveOfEratosthenes(n):\n",
    "    prime = [True for i in range(n+1)]\n",
    "# boolean array\n",
    "    p = 2\n",
    "    while (p * p <= n):\n",
    " \n",
    "        # If prime[p] is not\n",
    "        # changed, then it is a prime\n",
    "        if (prime[p] == True):\n",
    " \n",
    "            # Updating all multiples of p\n",
    "            for i in range(p * p, n+1, p):\n",
    "                prime[i] = False\n",
    "        p += 1\n",
    " \n",
    "    # Print all prime numbers\n",
    "    for p in range(2, n+1):\n",
    "        if prime[p]:\n",
    "            print(p)"
   ]
  },
  {
   "cell_type": "code",
   "execution_count": 113,
   "id": "d99bf988",
   "metadata": {},
   "outputs": [
    {
     "name": "stdout",
     "output_type": "stream",
     "text": [
      "2\n",
      "3\n",
      "5\n",
      "7\n",
      "11\n",
      "13\n",
      "17\n",
      "19\n",
      "23\n"
     ]
    }
   ],
   "source": [
    "SieveOfEratosthenes(25)"
   ]
  },
  {
   "cell_type": "code",
   "execution_count": 98,
   "id": "2902d25b",
   "metadata": {},
   "outputs": [],
   "source": []
  },
  {
   "cell_type": "code",
   "execution_count": 99,
   "id": "29a5562d",
   "metadata": {},
   "outputs": [
    {
     "ename": "KeyboardInterrupt",
     "evalue": "",
     "output_type": "error",
     "traceback": [
      "\u001b[0;31m---------------------------------------------------------------------------\u001b[0m",
      "\u001b[0;31mKeyboardInterrupt\u001b[0m                         Traceback (most recent call last)",
      "\u001b[0;32m/var/folders/gd/cnxt07x51bv60x33dpbyz2_00000gn/T/ipykernel_14839/2733251547.py\u001b[0m in \u001b[0;36m<module>\u001b[0;34m\u001b[0m\n\u001b[0;32m----> 1\u001b[0;31m \u001b[0msieve2\u001b[0m\u001b[0;34m(\u001b[0m\u001b[0;36m25\u001b[0m\u001b[0;34m)\u001b[0m\u001b[0;34m\u001b[0m\u001b[0;34m\u001b[0m\u001b[0m\n\u001b[0m",
      "\u001b[0;32m/var/folders/gd/cnxt07x51bv60x33dpbyz2_00000gn/T/ipykernel_14839/2805576069.py\u001b[0m in \u001b[0;36msieve2\u001b[0;34m(n)\u001b[0m\n\u001b[1;32m      3\u001b[0m     \u001b[0mi\u001b[0m \u001b[0;34m=\u001b[0m \u001b[0;36m2\u001b[0m\u001b[0;34m\u001b[0m\u001b[0;34m\u001b[0m\u001b[0m\n\u001b[1;32m      4\u001b[0m     \u001b[0;32mwhile\u001b[0m \u001b[0mi\u001b[0m\u001b[0;34m<=\u001b[0m\u001b[0mn\u001b[0m\u001b[0;34m:\u001b[0m\u001b[0;34m\u001b[0m\u001b[0;34m\u001b[0m\u001b[0m\n\u001b[0;32m----> 5\u001b[0;31m         \u001b[0;32mif\u001b[0m \u001b[0mIsPrime\u001b[0m\u001b[0;34m(\u001b[0m\u001b[0mi\u001b[0m\u001b[0;34m)\u001b[0m\u001b[0;34m:\u001b[0m\u001b[0;34m\u001b[0m\u001b[0;34m\u001b[0m\u001b[0m\n\u001b[0m\u001b[1;32m      6\u001b[0m             \u001b[0mprint\u001b[0m\u001b[0;34m(\u001b[0m\u001b[0mi\u001b[0m\u001b[0;34m)\u001b[0m\u001b[0;34m\u001b[0m\u001b[0;34m\u001b[0m\u001b[0m\n\u001b[1;32m      7\u001b[0m             \u001b[0mj\u001b[0m \u001b[0;34m=\u001b[0m \u001b[0mi\u001b[0m\u001b[0;34m*\u001b[0m\u001b[0mi\u001b[0m\u001b[0;34m\u001b[0m\u001b[0;34m\u001b[0m\u001b[0m\n",
      "\u001b[0;32m/var/folders/gd/cnxt07x51bv60x33dpbyz2_00000gn/T/ipykernel_14839/117737252.py\u001b[0m in \u001b[0;36mIsPrime\u001b[0;34m(n)\u001b[0m\n\u001b[1;32m      4\u001b[0m \u001b[0;34m\u001b[0m\u001b[0m\n\u001b[1;32m      5\u001b[0m     \u001b[0;31m# Iterate from 2 to n / 2\u001b[0m\u001b[0;34m\u001b[0m\u001b[0;34m\u001b[0m\u001b[0;34m\u001b[0m\u001b[0m\n\u001b[0;32m----> 6\u001b[0;31m         \u001b[0;32mfor\u001b[0m \u001b[0mi\u001b[0m \u001b[0;32min\u001b[0m \u001b[0mrange\u001b[0m\u001b[0;34m(\u001b[0m\u001b[0;36m2\u001b[0m\u001b[0;34m,\u001b[0m \u001b[0mint\u001b[0m\u001b[0;34m(\u001b[0m\u001b[0mn\u001b[0m\u001b[0;34m/\u001b[0m\u001b[0;36m2\u001b[0m\u001b[0;34m)\u001b[0m\u001b[0;34m+\u001b[0m\u001b[0;36m1\u001b[0m\u001b[0;34m)\u001b[0m\u001b[0;34m:\u001b[0m\u001b[0;34m\u001b[0m\u001b[0;34m\u001b[0m\u001b[0m\n\u001b[0m\u001b[1;32m      7\u001b[0m \u001b[0;34m\u001b[0m\u001b[0m\n\u001b[1;32m      8\u001b[0m         \u001b[0;31m# If num is divisible by any number between\u001b[0m\u001b[0;34m\u001b[0m\u001b[0;34m\u001b[0m\u001b[0;34m\u001b[0m\u001b[0m\n",
      "\u001b[0;31mKeyboardInterrupt\u001b[0m: "
     ]
    }
   ],
   "source": []
  },
  {
   "cell_type": "code",
   "execution_count": null,
   "id": "ecf78da5",
   "metadata": {},
   "outputs": [],
   "source": []
  }
 ],
 "metadata": {
  "kernelspec": {
   "display_name": "Python 3 (ipykernel)",
   "language": "python",
   "name": "python3"
  },
  "language_info": {
   "codemirror_mode": {
    "name": "ipython",
    "version": 3
   },
   "file_extension": ".py",
   "mimetype": "text/x-python",
   "name": "python",
   "nbconvert_exporter": "python",
   "pygments_lexer": "ipython3",
   "version": "3.8.12"
  }
 },
 "nbformat": 4,
 "nbformat_minor": 5
}
