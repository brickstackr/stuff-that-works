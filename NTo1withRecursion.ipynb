{
 "cells": [
  {
   "cell_type": "code",
   "execution_count": 3,
   "id": "5091f09a",
   "metadata": {},
   "outputs": [],
   "source": [
    "def NTo1(n):\n",
    "    if n > 0:\n",
    "        print(n)\n",
    "        NTo1(n-1)"
   ]
  },
  {
   "cell_type": "code",
   "execution_count": 4,
   "id": "a42672d8",
   "metadata": {},
   "outputs": [
    {
     "name": "stdout",
     "output_type": "stream",
     "text": [
      "4\n",
      "3\n",
      "2\n",
      "1\n"
     ]
    }
   ],
   "source": [
    "NTo1(4)"
   ]
  },
  {
   "cell_type": "code",
   "execution_count": 7,
   "id": "80bdbc2f",
   "metadata": {},
   "outputs": [],
   "source": [
    "def OneToN(n):\n",
    "    diff = 0\n",
    "    if n > 0:\n",
    "        for i in range(1, (n+1)):\n",
    "            print(1+diff)\n",
    "            diff = diff + 1"
   ]
  },
  {
   "cell_type": "code",
   "execution_count": 8,
   "id": "b1850532",
   "metadata": {},
   "outputs": [
    {
     "name": "stdout",
     "output_type": "stream",
     "text": [
      "1\n",
      "2\n",
      "3\n",
      "4\n",
      "5\n",
      "6\n",
      "7\n",
      "8\n",
      "9\n",
      "10\n",
      "11\n",
      "12\n"
     ]
    }
   ],
   "source": [
    "OneToN(12)"
   ]
  },
  {
   "cell_type": "code",
   "execution_count": 9,
   "id": "abbe0e6e",
   "metadata": {},
   "outputs": [],
   "source": [
    "def OneToN2(n):\n",
    "    if n == 0:\n",
    "        return 0\n",
    "    else:\n",
    "        print(OneToN2(n-1))\n",
    "        print(n)"
   ]
  },
  {
   "cell_type": "code",
   "execution_count": 10,
   "id": "6daf03aa",
   "metadata": {},
   "outputs": [
    {
     "name": "stdout",
     "output_type": "stream",
     "text": [
      "0\n",
      "1\n",
      "None\n",
      "2\n",
      "None\n",
      "3\n",
      "None\n",
      "4\n",
      "None\n",
      "5\n",
      "None\n",
      "6\n",
      "None\n",
      "7\n",
      "None\n",
      "8\n",
      "None\n",
      "9\n",
      "None\n",
      "10\n",
      "None\n",
      "11\n",
      "None\n",
      "12\n"
     ]
    }
   ],
   "source": [
    "OneToN2(12)"
   ]
  },
  {
   "cell_type": "code",
   "execution_count": null,
   "id": "5fd2596a",
   "metadata": {},
   "outputs": [],
   "source": []
  }
 ],
 "metadata": {
  "kernelspec": {
   "display_name": "Python 3 (ipykernel)",
   "language": "python",
   "name": "python3"
  },
  "language_info": {
   "codemirror_mode": {
    "name": "ipython",
    "version": 3
   },
   "file_extension": ".py",
   "mimetype": "text/x-python",
   "name": "python",
   "nbconvert_exporter": "python",
   "pygments_lexer": "ipython3",
   "version": "3.8.12"
  }
 },
 "nbformat": 4,
 "nbformat_minor": 5
}
