{
 "cells": [
  {
   "cell_type": "code",
   "execution_count": 4,
   "id": "4c1630e2",
   "metadata": {},
   "outputs": [],
   "source": [
    "def FirstnNatural(n):\n",
    "    if n == 0:\n",
    "        return 0\n",
    "    else:\n",
    "        return n + FirstnNatural(n-1)"
   ]
  },
  {
   "cell_type": "code",
   "execution_count": 5,
   "id": "4328bee8",
   "metadata": {},
   "outputs": [
    {
     "data": {
      "text/plain": [
       "10"
      ]
     },
     "execution_count": 5,
     "metadata": {},
     "output_type": "execute_result"
    }
   ],
   "source": [
    "FirstnNatural(4)"
   ]
  },
  {
   "cell_type": "code",
   "execution_count": 12,
   "id": "9b54a07a",
   "metadata": {},
   "outputs": [],
   "source": [
    "def IsPalindrome(s, start, end):\n",
    "    if start >= end:\n",
    "        return True\n",
    "    if s[start] == s[end] and IsPalindrome(s, start+1, end-1):\n",
    "        return True\n",
    "    else: \n",
    "        return False"
   ]
  },
  {
   "cell_type": "code",
   "execution_count": 13,
   "id": "2197a738",
   "metadata": {},
   "outputs": [
    {
     "data": {
      "text/plain": [
       "False"
      ]
     },
     "execution_count": 13,
     "metadata": {},
     "output_type": "execute_result"
    }
   ],
   "source": [
    "IsPalindrome(\"test\", 0, 3)"
   ]
  },
  {
   "cell_type": "code",
   "execution_count": 14,
   "id": "53ea67fb",
   "metadata": {},
   "outputs": [
    {
     "data": {
      "text/plain": [
       "True"
      ]
     },
     "execution_count": 14,
     "metadata": {},
     "output_type": "execute_result"
    }
   ],
   "source": [
    "IsPalindrome(\"abba\", 0, 3)"
   ]
  },
  {
   "cell_type": "code",
   "execution_count": 15,
   "id": "35d7fd32",
   "metadata": {},
   "outputs": [
    {
     "data": {
      "text/plain": [
       "False"
      ]
     },
     "execution_count": 15,
     "metadata": {},
     "output_type": "execute_result"
    }
   ],
   "source": [
    "IsPalindrome(\"HelloWorld\", 0, 9)"
   ]
  },
  {
   "cell_type": "code",
   "execution_count": 16,
   "id": "d6372bb3",
   "metadata": {},
   "outputs": [
    {
     "data": {
      "text/plain": [
       "True"
      ]
     },
     "execution_count": 16,
     "metadata": {},
     "output_type": "execute_result"
    }
   ],
   "source": [
    "IsPalindrome(\"HelloWorld\", 2, 3)"
   ]
  },
  {
   "cell_type": "code",
   "execution_count": 38,
   "id": "70e5ae99",
   "metadata": {},
   "outputs": [],
   "source": [
    "def SumOfDigits(n):\n",
    "    if n == 0:\n",
    "        return 0\n",
    "    else:\n",
    "        return SumOfDigits(n//10) + n%10"
   ]
  },
  {
   "cell_type": "code",
   "execution_count": 39,
   "id": "520beb4c",
   "metadata": {},
   "outputs": [
    {
     "data": {
      "text/plain": [
       "8"
      ]
     },
     "execution_count": 39,
     "metadata": {},
     "output_type": "execute_result"
    }
   ],
   "source": [
    "SumOfDigits(44)"
   ]
  },
  {
   "cell_type": "code",
   "execution_count": null,
   "id": "37283ab4",
   "metadata": {},
   "outputs": [],
   "source": []
  }
 ],
 "metadata": {
  "kernelspec": {
   "display_name": "Python 3 (ipykernel)",
   "language": "python",
   "name": "python3"
  },
  "language_info": {
   "codemirror_mode": {
    "name": "ipython",
    "version": 3
   },
   "file_extension": ".py",
   "mimetype": "text/x-python",
   "name": "python",
   "nbconvert_exporter": "python",
   "pygments_lexer": "ipython3",
   "version": "3.8.12"
  }
 },
 "nbformat": 4,
 "nbformat_minor": 5
}
