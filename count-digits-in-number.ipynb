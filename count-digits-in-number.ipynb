{
 "cells": [
  {
   "cell_type": "code",
   "execution_count": 20,
   "id": "8862f3ff",
   "metadata": {},
   "outputs": [],
   "source": [
    "#iterative\n",
    "#this stupid double slash thing // is apparently a \"floor operator\" in python\n",
    "def countDigit(n):\n",
    "    count = 0\n",
    "    while n != 0:\n",
    "        n //= 10\n",
    "        count += 1\n",
    "    return count"
   ]
  },
  {
   "cell_type": "code",
   "execution_count": 21,
   "id": "a6e7e87a",
   "metadata": {},
   "outputs": [
    {
     "data": {
      "text/plain": [
       "3"
      ]
     },
     "execution_count": 21,
     "metadata": {},
     "output_type": "execute_result"
    }
   ],
   "source": [
    "countDigit(123)"
   ]
  },
  {
   "cell_type": "code",
   "execution_count": 22,
   "id": "8feaee00",
   "metadata": {},
   "outputs": [],
   "source": [
    "#recursive\n",
    "def countDigit(n):\n",
    "    if n//10 == 0:\n",
    "        return 1\n",
    "    return 1 + countDigit(n // 10)"
   ]
  },
  {
   "cell_type": "code",
   "execution_count": 23,
   "id": "0fbd5fc0",
   "metadata": {},
   "outputs": [
    {
     "data": {
      "text/plain": [
       "3"
      ]
     },
     "execution_count": 23,
     "metadata": {},
     "output_type": "execute_result"
    }
   ],
   "source": [
    "countDigit(123)"
   ]
  },
  {
   "cell_type": "code",
   "execution_count": 24,
   "id": "a3d60dd0",
   "metadata": {},
   "outputs": [],
   "source": [
    "#logarithmic\n",
    "# function to import ceil and log\n",
    "import math\n",
    "def countDigit(n):\n",
    "    return math.floor(math.log10(n)+1)"
   ]
  },
  {
   "cell_type": "code",
   "execution_count": 25,
   "id": "c1917b5b",
   "metadata": {},
   "outputs": [
    {
     "data": {
      "text/plain": [
       "3"
      ]
     },
     "execution_count": 25,
     "metadata": {},
     "output_type": "execute_result"
    }
   ],
   "source": [
    "countDigit(123)"
   ]
  },
  {
   "cell_type": "code",
   "execution_count": null,
   "id": "be05dc58",
   "metadata": {},
   "outputs": [],
   "source": []
  }
 ],
 "metadata": {
  "kernelspec": {
   "display_name": "Python 3 (ipykernel)",
   "language": "python",
   "name": "python3"
  },
  "language_info": {
   "codemirror_mode": {
    "name": "ipython",
    "version": 3
   },
   "file_extension": ".py",
   "mimetype": "text/x-python",
   "name": "python",
   "nbconvert_exporter": "python",
   "pygments_lexer": "ipython3",
   "version": "3.8.12"
  }
 },
 "nbformat": 4,
 "nbformat_minor": 5
}
