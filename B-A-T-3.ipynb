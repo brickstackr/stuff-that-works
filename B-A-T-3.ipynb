{
 "cells": [
  {
   "cell_type": "code",
   "execution_count": 1,
   "metadata": {},
   "outputs": [],
   "source": [
    "story = \"\"\"A long time ago, two brothers, Darren and Dylan set out upon a quest to Adelade. No sooner than they left, they met David, and the three continued on toward the castle. Suddenly, a dragon appeared, the great beast Humungulous, with four hundred eyes and twelve wings. If they weren’t careful, they would be roasted alive! Fortunately, they were quick on their feet. Thirty feet away, they spied a sporebloom, the bane of all dragons. as they dashed for the rare herb, the dragon swiped a mighty claw and grabbed david. the moral of the story: you don’t need to be first. you just need to be faster than the slowest guy.\"\"\""
   ]
  },
  {
   "cell_type": "code",
   "execution_count": 2,
   "metadata": {},
   "outputs": [
    {
     "name": "stdout",
     "output_type": "stream",
     "text": [
      "A long time ago, two brothers, Darren and Dylan set out upon a quest to Adelade. No sooner than they left, they met David, and the three continued on toward the castle. Suddenly, a dragon appeared, the great beast Humungulous, with four hundred eyes and twelve wings. If they weren’t careful, they would be roasted alive! Fortunately, they were quick on their feet. Thirty feet away, they spied a sporebloom, the bane of all dragons. as they dashed for the rare herb, the dragon swiped a mighty claw and grabbed david. the moral of the story: you don’t need to be first. you just need to be faster than the slowest guy.\n"
     ]
    }
   ],
   "source": [
    "print(story)"
   ]
  },
  {
   "cell_type": "code",
   "execution_count": 3,
   "metadata": {},
   "outputs": [],
   "source": [
    "import string"
   ]
  },
  {
   "cell_type": "code",
   "execution_count": 4,
   "metadata": {},
   "outputs": [
    {
     "data": {
      "text/plain": [
       "'ADDANDSHIFT'"
      ]
     },
     "execution_count": 4,
     "metadata": {},
     "output_type": "execute_result"
    }
   ],
   "source": [
    "''.join(\n",
    "    c for c in story\n",
    "    if c in string.ascii_uppercase\n",
    ")"
   ]
  },
  {
   "cell_type": "code",
   "execution_count": 5,
   "metadata": {},
   "outputs": [
    {
     "data": {
      "text/plain": [
       "['2 < 3 400 12 30 - 1']"
      ]
     },
     "execution_count": 5,
     "metadata": {},
     "output_type": "execute_result"
    }
   ],
   "source": [
    "[\n",
    "    '2 < 3 400 12 30 - 1'\n",
    "]"
   ]
  },
  {
   "cell_type": "code",
   "execution_count": 6,
   "metadata": {},
   "outputs": [
    {
     "data": {
      "text/plain": [
       "447"
      ]
     },
     "execution_count": 6,
     "metadata": {},
     "output_type": "execute_result"
    }
   ],
   "source": [
    "2 + 3 + 400 + 12 + 30 "
   ]
  },
  {
   "cell_type": "code",
   "execution_count": 7,
   "metadata": {},
   "outputs": [
    {
     "data": {
      "text/plain": [
       "'0b110111111'"
      ]
     },
     "execution_count": 7,
     "metadata": {},
     "output_type": "execute_result"
    }
   ],
   "source": [
    "bin(447)"
   ]
  },
  {
   "cell_type": "code",
   "execution_count": 8,
   "metadata": {},
   "outputs": [
    {
     "data": {
      "text/plain": [
       "894"
      ]
     },
     "execution_count": 8,
     "metadata": {},
     "output_type": "execute_result"
    }
   ],
   "source": [
    "int(bin(447) + '0', 2)"
   ]
  },
  {
   "cell_type": "code",
   "execution_count": null,
   "metadata": {},
   "outputs": [],
   "source": []
  }
 ],
 "metadata": {
  "kernelspec": {
   "display_name": "Python 3 (ipykernel)",
   "language": "python",
   "name": "python3"
  },
  "language_info": {
   "codemirror_mode": {
    "name": "ipython",
    "version": 3
   },
   "file_extension": ".py",
   "mimetype": "text/x-python",
   "name": "python",
   "nbconvert_exporter": "python",
   "pygments_lexer": "ipython3",
   "version": "3.8.12"
  }
 },
 "nbformat": 4,
 "nbformat_minor": 4
}
