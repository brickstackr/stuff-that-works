{
 "cells": [
  {
   "cell_type": "code",
   "execution_count": null,
   "id": "dce86070",
   "metadata": {},
   "outputs": [],
   "source": [
    "def TrappingRainWater1(arr):\n",
    "    n = len(arr)\n",
    "    res = 0\n",
    "    for i in range(0,n):\n",
    "        lmax = arr[i]\n",
    "        for j in range(0,i):\n",
    "            lmax = max(lmax, arr[j])\n",
    "        rmax = arr[i]\n",
    "        for j in range(0,i):\n",
    "            rmax = max(rmax, arr[j])\n",
    "        res = res + (min(lmax, rmax) - arr[i])\n",
    "    return res"
   ]
  },
  {
   "cell_type": "code",
   "execution_count": null,
   "id": "a8a84c78",
   "metadata": {},
   "outputs": [],
   "source": [
    "TrappingRainWater1([3,0,1,2,5])"
   ]
  },
  {
   "cell_type": "code",
   "execution_count": 5,
   "id": "63f161a0",
   "metadata": {},
   "outputs": [],
   "source": [
    "def TrappingRainwater2(arr):\n",
    "    n = len(arr)\n",
    "    left = [0]*n\n",
    "    right = [0]*n\n",
    "\n",
    "    # Initialize result\n",
    "    water = 0\n",
    "\n",
    "    # Fill left array\n",
    "    left[0] = arr[0]\n",
    "    for i in range(1, n):\n",
    "        left[i] = max(left[i-1], arr[i])\n",
    "\n",
    "    # Fill right array\n",
    "    right[n-1] = arr[n-1]\n",
    "    for i in range(n-2, -1, -1):\n",
    "        right[i] = max(right[i + 1], arr[i])\n",
    "        \n",
    "    for i in range(0, n):\n",
    "        water += min(left[i], right[i]) - arr[i]\n",
    "\n",
    "    return water"
   ]
  },
  {
   "cell_type": "code",
   "execution_count": 6,
   "id": "8df619ce",
   "metadata": {},
   "outputs": [
    {
     "data": {
      "text/plain": [
       "6"
      ]
     },
     "execution_count": 6,
     "metadata": {},
     "output_type": "execute_result"
    }
   ],
   "source": [
    "arr = [0, 1, 0, 2, 1, 0, 1, 3, 2, 1, 2, 1]\n",
    "TrappingRainwater2(arr)"
   ]
  },
  {
   "cell_type": "code",
   "execution_count": null,
   "id": "85ec8746",
   "metadata": {},
   "outputs": [],
   "source": []
  }
 ],
 "metadata": {
  "kernelspec": {
   "display_name": "Python 3",
   "language": "python",
   "name": "python3"
  },
  "language_info": {
   "codemirror_mode": {
    "name": "ipython",
    "version": 3
   },
   "file_extension": ".py",
   "mimetype": "text/x-python",
   "name": "python",
   "nbconvert_exporter": "python",
   "pygments_lexer": "ipython3",
   "version": "3.8.8"
  }
 },
 "nbformat": 4,
 "nbformat_minor": 5
}
