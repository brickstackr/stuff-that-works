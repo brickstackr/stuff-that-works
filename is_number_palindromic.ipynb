{
 "cells": [
  {
   "cell_type": "code",
   "execution_count": 3,
   "id": "ddfb682d",
   "metadata": {},
   "outputs": [],
   "source": [
    "import math\n",
    "def is_palindrome_number(x: int) -> bool:\n",
    "    if x <= 0:\n",
    "        return x == 0\n",
    "    num_digits = math.floor(math.log10(x)) + 1\n",
    "    msd_mask = 10**(num_digits -1)\n",
    "    for i in range(num_digits // 2):\n",
    "        if x // msd_mask != x % 10:\n",
    "            return False\n",
    "        x %= msd_mask #remove last most significant digit of x \n",
    "        x //= 10 #remove leaset significant digit of x\n",
    "        msd_mask //= 100\n",
    "    return True"
   ]
  },
  {
   "cell_type": "code",
   "execution_count": 4,
   "id": "305eaa86",
   "metadata": {},
   "outputs": [
    {
     "data": {
      "text/plain": [
       "False"
      ]
     },
     "execution_count": 4,
     "metadata": {},
     "output_type": "execute_result"
    }
   ],
   "source": [
    "is_palindrome_number(300)"
   ]
  },
  {
   "cell_type": "code",
   "execution_count": 5,
   "id": "6aa5222f",
   "metadata": {},
   "outputs": [
    {
     "data": {
      "text/plain": [
       "True"
      ]
     },
     "execution_count": 5,
     "metadata": {},
     "output_type": "execute_result"
    }
   ],
   "source": [
    "is_palindrome_number(272)"
   ]
  },
  {
   "cell_type": "code",
   "execution_count": 6,
   "id": "4f167757",
   "metadata": {},
   "outputs": [],
   "source": [
    "def power(x: float, y: int) -> float:\n",
    "    result, power = 1.0, y\n",
    "    if y < 0:\n",
    "        power, x = -power, 1.0 / x\n",
    "    while power:\n",
    "        if power & 1:\n",
    "            result *= x \n",
    "        x, power = x * x, power >> 1\n",
    "    return result "
   ]
  },
  {
   "cell_type": "code",
   "execution_count": 7,
   "id": "ab3ce87a",
   "metadata": {},
   "outputs": [
    {
     "data": {
      "text/plain": [
       "1e+200"
      ]
     },
     "execution_count": 7,
     "metadata": {},
     "output_type": "execute_result"
    }
   ],
   "source": [
    "power(100, 100)"
   ]
  },
  {
   "cell_type": "code",
   "execution_count": 8,
   "id": "7060b7b5",
   "metadata": {},
   "outputs": [],
   "source": [
    "def reverse(x: int) -> int:\n",
    "    result, x_remaining = 0, abs(x)\n",
    "    while x_remaining:\n",
    "        result = result * 10 + x_remaining % 10\n",
    "        x_remaining //= 10\n",
    "    return -result if x < 0 else result"
   ]
  },
  {
   "cell_type": "code",
   "execution_count": 9,
   "id": "ca11ba90",
   "metadata": {},
   "outputs": [
    {
     "data": {
      "text/plain": [
       "843"
      ]
     },
     "execution_count": 9,
     "metadata": {},
     "output_type": "execute_result"
    }
   ],
   "source": [
    "reverse(348)"
   ]
  },
  {
   "cell_type": "code",
   "execution_count": 10,
   "id": "9ff7c397",
   "metadata": {},
   "outputs": [
    {
     "data": {
      "text/plain": [
       "-1132"
      ]
     },
     "execution_count": 10,
     "metadata": {},
     "output_type": "execute_result"
    }
   ],
   "source": [
    "reverse(-2311)"
   ]
  },
  {
   "cell_type": "code",
   "execution_count": null,
   "id": "26d6b1de",
   "metadata": {},
   "outputs": [],
   "source": []
  }
 ],
 "metadata": {
  "kernelspec": {
   "display_name": "Python 3",
   "language": "python",
   "name": "python3"
  },
  "language_info": {
   "codemirror_mode": {
    "name": "ipython",
    "version": 3
   },
   "file_extension": ".py",
   "mimetype": "text/x-python",
   "name": "python",
   "nbconvert_exporter": "python",
   "pygments_lexer": "ipython3",
   "version": "3.8.8"
  }
 },
 "nbformat": 4,
 "nbformat_minor": 5
}
