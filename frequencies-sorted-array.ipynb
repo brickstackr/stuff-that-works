{
 "cells": [
  {
   "cell_type": "code",
   "execution_count": 4,
   "id": "b4632b79",
   "metadata": {},
   "outputs": [],
   "source": [
    "def PrintFreq(arr):\n",
    "    n = len(arr)\n",
    "    i = 1\n",
    "    freq = 1\n",
    "    while i < n:\n",
    "        while i < n and arr[i] == arr[i-1]:\n",
    "            freq += 1\n",
    "            i += 1\n",
    "        print(arr[i-1], freq, \"times\")\n",
    "        i += 1\n",
    "        freq = 1 \n",
    "    if n == 1 or arr[n-1] != arr[n-2]:\n",
    "        print(arr[n-1], \"1 time\")"
   ]
  },
  {
   "cell_type": "code",
   "execution_count": 5,
   "id": "1db63e0b",
   "metadata": {},
   "outputs": [
    {
     "name": "stdout",
     "output_type": "stream",
     "text": [
      "1 5 times\n",
      "11 1 times\n",
      "1 1 times\n",
      "2 2 times\n",
      "3 1 times\n",
      "4 1 times\n",
      "5 4 times\n"
     ]
    }
   ],
   "source": [
    "PrintFreq([1,1,1,1,1,11,1,2,2,3,4,5,5,5,5])"
   ]
  },
  {
   "cell_type": "code",
   "execution_count": null,
   "id": "cffa398b",
   "metadata": {},
   "outputs": [],
   "source": []
  }
 ],
 "metadata": {
  "kernelspec": {
   "display_name": "Python 3",
   "language": "python",
   "name": "python3"
  },
  "language_info": {
   "codemirror_mode": {
    "name": "ipython",
    "version": 3
   },
   "file_extension": ".py",
   "mimetype": "text/x-python",
   "name": "python",
   "nbconvert_exporter": "python",
   "pygments_lexer": "ipython3",
   "version": "3.8.8"
  }
 },
 "nbformat": 4,
 "nbformat_minor": 5
}
