{
 "cells": [
  {
   "cell_type": "code",
   "execution_count": 1,
   "id": "8501ad55",
   "metadata": {},
   "outputs": [],
   "source": [
    "def fun1():\n",
    "    print(\"fun1\")\n",
    "def fun2():\n",
    "    print(\"before fun1\")\n",
    "    print(fun1())\n",
    "    print(\"after fun1\")\n",
    "def main():\n",
    "    print(\"before fun2\")\n",
    "    print(fun2())\n",
    "    print(\"after fun2\")"
   ]
  },
  {
   "cell_type": "code",
   "execution_count": 2,
   "id": "52a3e79b",
   "metadata": {},
   "outputs": [
    {
     "name": "stdout",
     "output_type": "stream",
     "text": [
      "before fun2\n",
      "before fun1\n",
      "fun1\n",
      "None\n",
      "after fun1\n",
      "None\n",
      "after fun2\n"
     ]
    }
   ],
   "source": [
    "main()"
   ]
  },
  {
   "cell_type": "code",
   "execution_count": 9,
   "id": "ac9dfa96",
   "metadata": {},
   "outputs": [],
   "source": [
    "def fun1(n):\n",
    "    if n == 0:\n",
    "        return 0\n",
    "    print(\"GFG\")\n",
    "    fun1(n-1)\n",
    "def main():\n",
    "    fun1(2)\n",
    "    return 0"
   ]
  },
  {
   "cell_type": "code",
   "execution_count": 10,
   "id": "70881ad9",
   "metadata": {},
   "outputs": [
    {
     "name": "stdout",
     "output_type": "stream",
     "text": [
      "GFG\n",
      "GFG\n"
     ]
    },
    {
     "data": {
      "text/plain": [
       "0"
      ]
     },
     "execution_count": 10,
     "metadata": {},
     "output_type": "execute_result"
    }
   ],
   "source": [
    "main()"
   ]
  },
  {
   "cell_type": "code",
   "execution_count": null,
   "id": "2f0ae775",
   "metadata": {},
   "outputs": [],
   "source": [
    "#typical structure of recursive cases\n",
    "#base cases first\n",
    "#recursive call with at least one change in the parameter"
   ]
  }
 ],
 "metadata": {
  "kernelspec": {
   "display_name": "Python 3 (ipykernel)",
   "language": "python",
   "name": "python3"
  },
  "language_info": {
   "codemirror_mode": {
    "name": "ipython",
    "version": 3
   },
   "file_extension": ".py",
   "mimetype": "text/x-python",
   "name": "python",
   "nbconvert_exporter": "python",
   "pygments_lexer": "ipython3",
   "version": "3.8.12"
  }
 },
 "nbformat": 4,
 "nbformat_minor": 5
}
