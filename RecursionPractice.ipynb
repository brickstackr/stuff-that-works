{
 "cells": [
  {
   "cell_type": "code",
   "execution_count": 1,
   "id": "eb4b2224",
   "metadata": {},
   "outputs": [],
   "source": [
    "def fun(n):\n",
    "    if n == 0:\n",
    "        return 0\n",
    "    print(n)\n",
    "    fun(n-1)\n",
    "    print(n)"
   ]
  },
  {
   "cell_type": "code",
   "execution_count": 2,
   "id": "e2c6dd76",
   "metadata": {},
   "outputs": [
    {
     "name": "stdout",
     "output_type": "stream",
     "text": [
      "3\n",
      "2\n",
      "1\n",
      "1\n",
      "2\n",
      "3\n"
     ]
    }
   ],
   "source": [
    "fun(3)"
   ]
  },
  {
   "cell_type": "code",
   "execution_count": 21,
   "id": "68d575ce",
   "metadata": {},
   "outputs": [],
   "source": [
    "def fun2(n):\n",
    "    if n == 0:\n",
    "        return 0\n",
    "    else:\n",
    "        fun2(n-1)\n",
    "        print(n)\n",
    "        fun2(n-1)\n",
    "        return 0"
   ]
  },
  {
   "cell_type": "code",
   "execution_count": 22,
   "id": "c9de3245",
   "metadata": {},
   "outputs": [
    {
     "name": "stdout",
     "output_type": "stream",
     "text": [
      "1\n",
      "2\n",
      "1\n",
      "3\n",
      "1\n",
      "2\n",
      "1\n"
     ]
    },
    {
     "data": {
      "text/plain": [
       "0"
      ]
     },
     "execution_count": 22,
     "metadata": {},
     "output_type": "execute_result"
    }
   ],
   "source": [
    "fun2(3)"
   ]
  },
  {
   "cell_type": "code",
   "execution_count": null,
   "id": "e44204ee",
   "metadata": {},
   "outputs": [],
   "source": []
  }
 ],
 "metadata": {
  "kernelspec": {
   "display_name": "Python 3 (ipykernel)",
   "language": "python",
   "name": "python3"
  },
  "language_info": {
   "codemirror_mode": {
    "name": "ipython",
    "version": 3
   },
   "file_extension": ".py",
   "mimetype": "text/x-python",
   "name": "python",
   "nbconvert_exporter": "python",
   "pygments_lexer": "ipython3",
   "version": "3.8.12"
  }
 },
 "nbformat": 4,
 "nbformat_minor": 5
}
