{
 "cells": [
  {
   "cell_type": "code",
   "execution_count": 3,
   "id": "66b6c37c",
   "metadata": {},
   "outputs": [],
   "source": [
    "def ToH(n, A, B, C): \n",
    "    if n == 1:\n",
    "        print(\"Move 1 from \" + A + \" to \" + C) \n",
    "        return 0\n",
    "    ToH(n-1, A, C, B)\n",
    "    print(\"Move \" + str(n) + \" from \" + A + \" to \" + C) \n",
    "    ToH(n-1, B, A, C)"
   ]
  },
  {
   "cell_type": "code",
   "execution_count": 5,
   "id": "586a34e9",
   "metadata": {},
   "outputs": [
    {
     "name": "stdout",
     "output_type": "stream",
     "text": [
      "Move 1 from A to C\n",
      "Move 2 from A to B\n",
      "Move 1 from C to B\n",
      "Move 3 from A to C\n",
      "Move 1 from B to A\n",
      "Move 2 from B to C\n",
      "Move 1 from A to C\n",
      "Move 4 from A to B\n",
      "Move 1 from C to B\n",
      "Move 2 from C to A\n",
      "Move 1 from B to A\n",
      "Move 3 from C to B\n",
      "Move 1 from A to C\n",
      "Move 2 from A to B\n",
      "Move 1 from C to B\n",
      "Move 5 from A to C\n",
      "Move 1 from B to A\n",
      "Move 2 from B to C\n",
      "Move 1 from A to C\n",
      "Move 3 from B to A\n",
      "Move 1 from C to B\n",
      "Move 2 from C to A\n",
      "Move 1 from B to A\n",
      "Move 4 from B to C\n",
      "Move 1 from A to C\n",
      "Move 2 from A to B\n",
      "Move 1 from C to B\n",
      "Move 3 from A to C\n",
      "Move 1 from B to A\n",
      "Move 2 from B to C\n",
      "Move 1 from A to C\n"
     ]
    }
   ],
   "source": [
    "ToH(5, \"A\", \"B\", \"C\")"
   ]
  },
  {
   "cell_type": "code",
   "execution_count": 10,
   "id": "b4ebe78c",
   "metadata": {},
   "outputs": [],
   "source": [
    "def Josephus(n, k):\n",
    "    if n == 1:\n",
    "        return 0\n",
    "    else:\n",
    "        return (Josephus(n-1, k) + k) % n\n",
    "\n",
    "def MyJos(n, k):\n",
    "    return Josephus(n, k) + 1"
   ]
  },
  {
   "cell_type": "code",
   "execution_count": 12,
   "id": "017c6018",
   "metadata": {},
   "outputs": [
    {
     "data": {
      "text/plain": [
       "4"
      ]
     },
     "execution_count": 12,
     "metadata": {},
     "output_type": "execute_result"
    }
   ],
   "source": [
    "MyJos(5, 3)"
   ]
  },
  {
   "cell_type": "code",
   "execution_count": null,
   "id": "7043e2e3",
   "metadata": {},
   "outputs": [],
   "source": []
  }
 ],
 "metadata": {
  "kernelspec": {
   "display_name": "Python 3 (ipykernel)",
   "language": "python",
   "name": "python3"
  },
  "language_info": {
   "codemirror_mode": {
    "name": "ipython",
    "version": 3
   },
   "file_extension": ".py",
   "mimetype": "text/x-python",
   "name": "python",
   "nbconvert_exporter": "python",
   "pygments_lexer": "ipython3",
   "version": "3.8.12"
  }
 },
 "nbformat": 4,
 "nbformat_minor": 5
}
