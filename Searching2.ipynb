{
 "cells": [
  {
   "cell_type": "code",
   "execution_count": null,
   "id": "6e32c0dc",
   "metadata": {},
   "outputs": [],
   "source": [
    "def CountInstances(arr, x):\n",
    "    n = len(arr)\n",
    "    low = 0\n",
    "    high = n-1\n",
    "    while low <= high:\n",
    "        mid = (low+high)/2\n",
    "        if x > arr[mid]:\n",
    "            low = mid + 1\n",
    "        elif x < arr[mid]:\n",
    "            high = mid - 1\n",
    "        else:\n",
    "            if(mid == 0 || arr[mid - 1] != arr[mid]):\n",
    "                    return mid\n",
    "            else:\n",
    "                high = mid - 1\n",
    "    return -1"
   ]
  },
  {
   "cell_type": "code",
   "execution_count": 6,
   "id": "6f657391",
   "metadata": {},
   "outputs": [],
   "source": [
    "def countOnes(arr):\n",
    "    n = len(arr)\n",
    "    low = 0\n",
    "    high = n - 1\n",
    "    while low <= high:\n",
    "        mid = int((low + high) / 2)\n",
    "        if(arr[mid] == 0):\n",
    "            low = mid + 1\n",
    "        else:\n",
    "            if(mid == 0 or arr[mid - 1] == 0):\n",
    "                return n - mid\n",
    "            else: \n",
    "                high = mid - 1\n",
    "    return 0"
   ]
  },
  {
   "cell_type": "code",
   "execution_count": 8,
   "id": "63deb02a",
   "metadata": {},
   "outputs": [
    {
     "data": {
      "text/plain": [
       "5"
      ]
     },
     "execution_count": 8,
     "metadata": {},
     "output_type": "execute_result"
    }
   ],
   "source": [
    "countOnes([0, 0, 1, 1, 1, 1, 1])"
   ]
  },
  {
   "cell_type": "code",
   "execution_count": 9,
   "id": "3f3e054e",
   "metadata": {},
   "outputs": [],
   "source": [
    "def InfiniteArrayNaive(arr, x):\n",
    "    IsTrue = True\n",
    "    i = 0\n",
    "    while IsTrue == True:\n",
    "        if arr[i] == x: \n",
    "            return i\n",
    "        if arr[i] > x: \n",
    "            return -1\n",
    "        i+=1 "
   ]
  },
  {
   "cell_type": "code",
   "execution_count": 10,
   "id": "f0c1b0ca",
   "metadata": {},
   "outputs": [
    {
     "data": {
      "text/plain": [
       "-1"
      ]
     },
     "execution_count": 10,
     "metadata": {},
     "output_type": "execute_result"
    }
   ],
   "source": [
    "InfiniteArrayNaive([2,4,4,5,5,6,8],7)"
   ]
  },
  {
   "cell_type": "code",
   "execution_count": 11,
   "id": "eaae847e",
   "metadata": {},
   "outputs": [
    {
     "data": {
      "text/plain": [
       "5"
      ]
     },
     "execution_count": 11,
     "metadata": {},
     "output_type": "execute_result"
    }
   ],
   "source": [
    "InfiniteArrayNaive([2,4,4,5,5,6,8],6)"
   ]
  },
  {
   "cell_type": "code",
   "execution_count": null,
   "id": "a5f5a2e4",
   "metadata": {},
   "outputs": [],
   "source": []
  }
 ],
 "metadata": {
  "kernelspec": {
   "display_name": "Python 3",
   "language": "python",
   "name": "python3"
  },
  "language_info": {
   "codemirror_mode": {
    "name": "ipython",
    "version": 3
   },
   "file_extension": ".py",
   "mimetype": "text/x-python",
   "name": "python",
   "nbconvert_exporter": "python",
   "pygments_lexer": "ipython3",
   "version": "3.8.8"
  }
 },
 "nbformat": 4,
 "nbformat_minor": 5
}
