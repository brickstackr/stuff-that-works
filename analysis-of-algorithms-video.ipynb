{
 "cells": [
  {
   "cell_type": "code",
   "execution_count": 1,
   "id": "3be7c9ec",
   "metadata": {},
   "outputs": [],
   "source": [
    "# function to return sum of first n natural numbers \n",
    "def SumOfN(n):\n",
    "    return n*((n+1)/2)"
   ]
  },
  {
   "cell_type": "code",
   "execution_count": 2,
   "id": "da134975",
   "metadata": {},
   "outputs": [
    {
     "data": {
      "text/plain": [
       "78.0"
      ]
     },
     "execution_count": 2,
     "metadata": {},
     "output_type": "execute_result"
    }
   ],
   "source": [
    "SumOfN(12)"
   ]
  },
  {
   "cell_type": "code",
   "execution_count": 4,
   "id": "84b06ec8",
   "metadata": {},
   "outputs": [],
   "source": [
    "#nested loops version\n",
    "def SumOfVal(val):\n",
    "    if val < 0:\n",
    "        print(\"Wrong Input\")\n",
    "    else:\n",
    "        sumvalue = 0\n",
    "        for i in range(1,val+1):\n",
    "            sumvalue += i\n",
    "        return sumvalue"
   ]
  },
  {
   "cell_type": "code",
   "execution_count": 5,
   "id": "7e435874",
   "metadata": {},
   "outputs": [
    {
     "data": {
      "text/plain": [
       "78"
      ]
     },
     "execution_count": 5,
     "metadata": {},
     "output_type": "execute_result"
    }
   ],
   "source": [
    "SumOfVal(12)"
   ]
  },
  {
   "cell_type": "code",
   "execution_count": null,
   "id": "c80c18a8",
   "metadata": {},
   "outputs": [],
   "source": []
  }
 ],
 "metadata": {
  "kernelspec": {
   "display_name": "Python 3 (ipykernel)",
   "language": "python",
   "name": "python3"
  },
  "language_info": {
   "codemirror_mode": {
    "name": "ipython",
    "version": 3
   },
   "file_extension": ".py",
   "mimetype": "text/x-python",
   "name": "python",
   "nbconvert_exporter": "python",
   "pygments_lexer": "ipython3",
   "version": "3.8.12"
  }
 },
 "nbformat": 4,
 "nbformat_minor": 5
}
