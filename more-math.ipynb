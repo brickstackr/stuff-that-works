{
 "cells": [
  {
   "cell_type": "code",
   "execution_count": 1,
   "id": "92f1a076",
   "metadata": {},
   "outputs": [],
   "source": [
    "def power(x,n):\n",
    "    result = 1\n",
    "    i = 0\n",
    "    for i in range(i, n):\n",
    "        result = result * x\n",
    "    return result"
   ]
  },
  {
   "cell_type": "code",
   "execution_count": 2,
   "id": "9e08d5fb",
   "metadata": {},
   "outputs": [
    {
     "data": {
      "text/plain": [
       "9"
      ]
     },
     "execution_count": 2,
     "metadata": {},
     "output_type": "execute_result"
    }
   ],
   "source": [
    "power(3,2)"
   ]
  },
  {
   "cell_type": "code",
   "execution_count": 15,
   "id": "87c5312e",
   "metadata": {},
   "outputs": [],
   "source": [
    "def power2(num, pow):\n",
    "    if pow == 0:  # base condition\n",
    "        return 1\n",
    "      # recurrence relation\n",
    "    return (num*power2(num, pow-1)) "
   ]
  },
  {
   "cell_type": "code",
   "execution_count": 16,
   "id": "97c87d25",
   "metadata": {},
   "outputs": [
    {
     "data": {
      "text/plain": [
       "9"
      ]
     },
     "execution_count": 16,
     "metadata": {},
     "output_type": "execute_result"
    }
   ],
   "source": [
    "power2(3,2)"
   ]
  },
  {
   "cell_type": "code",
   "execution_count": 23,
   "id": "61c24697",
   "metadata": {},
   "outputs": [],
   "source": [
    "def power3(num, power):\n",
    "    result = 1\n",
    "    while (power > 0):\n",
    "        if (power % 2 == 0):\n",
    "            num = num*num\n",
    "            power = power / 2\n",
    "         \n",
    "        else:\n",
    "            result = result * num\n",
    "            power = power - 1\n",
    "    return result"
   ]
  },
  {
   "cell_type": "code",
   "execution_count": 24,
   "id": "5faec7df",
   "metadata": {},
   "outputs": [
    {
     "data": {
      "text/plain": [
       "25"
      ]
     },
     "execution_count": 24,
     "metadata": {},
     "output_type": "execute_result"
    }
   ],
   "source": [
    "power3(5,2)"
   ]
  },
  {
   "cell_type": "code",
   "execution_count": null,
   "id": "6f153da1",
   "metadata": {},
   "outputs": [],
   "source": []
  }
 ],
 "metadata": {
  "kernelspec": {
   "display_name": "Python 3 (ipykernel)",
   "language": "python",
   "name": "python3"
  },
  "language_info": {
   "codemirror_mode": {
    "name": "ipython",
    "version": 3
   },
   "file_extension": ".py",
   "mimetype": "text/x-python",
   "name": "python",
   "nbconvert_exporter": "python",
   "pygments_lexer": "ipython3",
   "version": "3.8.12"
  }
 },
 "nbformat": 4,
 "nbformat_minor": 5
}
