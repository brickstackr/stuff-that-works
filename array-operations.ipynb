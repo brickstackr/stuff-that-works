{
 "cells": [
  {
   "cell_type": "code",
   "execution_count": 1,
   "id": "c7739e2a",
   "metadata": {},
   "outputs": [],
   "source": [
    "def search(arr, n, x):\n",
    "    for i in range (0, n-1):\n",
    "        if arr[i] == x:\n",
    "            return i\n",
    "        return -1"
   ]
  },
  {
   "cell_type": "code",
   "execution_count": 3,
   "id": "1c153516",
   "metadata": {},
   "outputs": [
    {
     "data": {
      "text/plain": [
       "-1"
      ]
     },
     "execution_count": 3,
     "metadata": {},
     "output_type": "execute_result"
    }
   ],
   "source": [
    "search([1,2,3,4], 2, 6)"
   ]
  },
  {
   "cell_type": "code",
   "execution_count": 7,
   "id": "428f05e9",
   "metadata": {},
   "outputs": [],
   "source": [
    "def insert(arr, n, x, cap, pos):\n",
    "    if n == cap:\n",
    "        return n\n",
    "    idx = pos - 1\n",
    "    for i in range(idx, n-1):\n",
    "        arr[i+1] = arr[i]\n",
    "    arr[idx] = x\n",
    "    print(arr)    "
   ]
  },
  {
   "cell_type": "code",
   "execution_count": 8,
   "id": "b5831b20",
   "metadata": {},
   "outputs": [
    {
     "name": "stdout",
     "output_type": "stream",
     "text": [
      "[4, 4, 3, 12]\n"
     ]
    }
   ],
   "source": [
    "insert([1,2,3,4], 2, 12, 0, 0)"
   ]
  },
  {
   "cell_type": "code",
   "execution_count": 40,
   "id": "1d0e2080",
   "metadata": {},
   "outputs": [],
   "source": [
    "# this does not work in python any way i have tried it.\n",
    "def delete(arr, n, x):\n",
    "    for i in range(0, n):\n",
    "        if arr[i] == x:\n",
    "            break\n",
    "        if(i == n):\n",
    "            return n\n",
    "        for j in range(i, n-1):\n",
    "            arr[j] = arr[j + 1]\n",
    "    print(arr)"
   ]
  },
  {
   "cell_type": "code",
   "execution_count": 41,
   "id": "5e77cc58",
   "metadata": {},
   "outputs": [
    {
     "name": "stdout",
     "output_type": "stream",
     "text": [
      "[1, 2, 3, 4]\n"
     ]
    }
   ],
   "source": [
    "delete([1,2,3,4], 4, 1)"
   ]
  },
  {
   "cell_type": "code",
   "execution_count": 16,
   "id": "da392f93",
   "metadata": {},
   "outputs": [],
   "source": [
    "def GetLargest(arr, n):\n",
    " \n",
    "    # Initialize maximum element\n",
    "    max = arr[0]\n",
    " \n",
    "    # Traverse array elements from second\n",
    "    # and compare every element with\n",
    "    # current max\n",
    "    for i in range(1, n):\n",
    "        if arr[i] > max:\n",
    "            max = arr[i]\n",
    "    return max"
   ]
  },
  {
   "cell_type": "code",
   "execution_count": 17,
   "id": "558817f2",
   "metadata": {},
   "outputs": [
    {
     "data": {
      "text/plain": [
       "67"
      ]
     },
     "execution_count": 17,
     "metadata": {},
     "output_type": "execute_result"
    }
   ],
   "source": [
    "GetLargest([5,1,2,4,67], 5)"
   ]
  },
  {
   "cell_type": "code",
   "execution_count": 33,
   "id": "e5eab2ec",
   "metadata": {},
   "outputs": [],
   "source": [
    "def GetLargestIndex(arr, n):\n",
    "    for i in range(0, n-1):\n",
    "        flag = True\n",
    "        i += 1\n",
    "        for j in range(0, n-1):\n",
    "            if arr[j] > arr[i]:\n",
    "                flag = False\n",
    "                j += 1\n",
    "                break\n",
    "        if flag == True:\n",
    "            return i\n",
    "    return -1"
   ]
  },
  {
   "cell_type": "code",
   "execution_count": 34,
   "id": "32fef3e5",
   "metadata": {},
   "outputs": [
    {
     "data": {
      "text/plain": [
       "4"
      ]
     },
     "execution_count": 34,
     "metadata": {},
     "output_type": "execute_result"
    }
   ],
   "source": [
    "GetLargestIndex([5,1,2,4,67], 5)"
   ]
  },
  {
   "cell_type": "code",
   "execution_count": 35,
   "id": "3c4a00bc",
   "metadata": {},
   "outputs": [],
   "source": [
    "def SecondLargest(arr, n):\n",
    "    largest = GetLargestIndex(arr, n)\n",
    "    res = -1\n",
    "    for i in range(0, n-1):\n",
    "        if arr[i] != arr[largest]:\n",
    "            if res == -1:\n",
    "                res = i\n",
    "            elif arr[i] > arr[res]:\n",
    "                res = i\n",
    "    return res"
   ]
  },
  {
   "cell_type": "code",
   "execution_count": 36,
   "id": "e2c8fefb",
   "metadata": {},
   "outputs": [
    {
     "data": {
      "text/plain": [
       "0"
      ]
     },
     "execution_count": 36,
     "metadata": {},
     "output_type": "execute_result"
    }
   ],
   "source": [
    "SecondLargest([5,1,2,4,67], 5)"
   ]
  },
  {
   "cell_type": "code",
   "execution_count": 45,
   "id": "3c51c4a2",
   "metadata": {},
   "outputs": [
    {
     "name": "stdout",
     "output_type": "stream",
     "text": [
      "Second highest number is :  45\n"
     ]
    }
   ],
   "source": [
    "# list of numbers - length of\n",
    "# list should be at least 2\n",
    "list1 = [10, 20, 4, 45, 99]\n",
    " \n",
    "mx = max(list1[0], list1[1])\n",
    "secondmax = min(list1[0], list1[1])\n",
    "n = len(list1)\n",
    "for i in range(2,n):\n",
    "    if list1[i] > mx:\n",
    "        secondmax = mx\n",
    "        mx = list1[i]\n",
    "    elif list1[i] > secondmax and \\\n",
    "        mx != list1[i]:\n",
    "        secondmax = list1[i]\n",
    "    elif mx == secondmax and \\\n",
    "        secondmax != list1[i]:\n",
    "          secondmax = list1[i]\n",
    " \n",
    "print(\"Second highest number is : \",\\\n",
    "      str(secondmax))"
   ]
  },
  {
   "cell_type": "code",
   "execution_count": 7,
   "id": "f88aabb9",
   "metadata": {},
   "outputs": [],
   "source": [
    "def IsSorted(arr):\n",
    "    n = len(arr) - 1\n",
    "    for i in range(0, n):\n",
    "        for j in range(i+1, n):\n",
    "            if arr[j] < arr[i]:\n",
    "                return False\n",
    "    return True"
   ]
  },
  {
   "cell_type": "code",
   "execution_count": 8,
   "id": "aee9a84f",
   "metadata": {},
   "outputs": [
    {
     "data": {
      "text/plain": [
       "True"
      ]
     },
     "execution_count": 8,
     "metadata": {},
     "output_type": "execute_result"
    }
   ],
   "source": [
    "IsSorted([4,5,6,7,9])"
   ]
  },
  {
   "cell_type": "code",
   "execution_count": 11,
   "id": "2c624322",
   "metadata": {},
   "outputs": [],
   "source": [
    "def IsSortedEfficient(arr):\n",
    "    n = len(arr) - 1\n",
    "    for i in range (1, n-1):\n",
    "        if arr[i] < arr[i-1]:\n",
    "            return False\n",
    "    return True"
   ]
  },
  {
   "cell_type": "code",
   "execution_count": 12,
   "id": "33e6292f",
   "metadata": {},
   "outputs": [
    {
     "data": {
      "text/plain": [
       "False"
      ]
     },
     "execution_count": 12,
     "metadata": {},
     "output_type": "execute_result"
    }
   ],
   "source": [
    "IsSortedEfficient([5,4,21,1,0])"
   ]
  },
  {
   "cell_type": "code",
   "execution_count": 1,
   "id": "db55d634",
   "metadata": {},
   "outputs": [],
   "source": [
    "def reverse(arr):\n",
    "    n = len(arr)\n",
    "    low = 0\n",
    "    high = n - 1\n",
    "    while low < high:\n",
    "        temp = arr[low]\n",
    "        arr[low] = arr[high]\n",
    "        arr[high] = temp\n",
    "        low += 1\n",
    "        high -= 1\n",
    "    return arr"
   ]
  },
  {
   "cell_type": "code",
   "execution_count": 3,
   "id": "29497cb4",
   "metadata": {},
   "outputs": [
    {
     "data": {
      "text/plain": [
       "[5, 4, 3, 2, 1]"
      ]
     },
     "execution_count": 3,
     "metadata": {},
     "output_type": "execute_result"
    }
   ],
   "source": [
    "reverse([1,2,3,4,5])"
   ]
  },
  {
   "cell_type": "code",
   "execution_count": 28,
   "id": "cb9cbf2e",
   "metadata": {},
   "outputs": [],
   "source": [
    "def CountUniques(arr):\n",
    "    n = len(arr) -1\n",
    "    res = 0\n",
    "    uniques = []\n",
    "    for i in range(1, n):\n",
    "        if(arr[res - 1] != arr[i]):\n",
    "            arr[res] = arr[i]\n",
    "            res += 1\n",
    "            uniques.append(arr[i])\n",
    "    print(uniques)\n",
    "    return res;"
   ]
  },
  {
   "cell_type": "code",
   "execution_count": 29,
   "id": "36074a90",
   "metadata": {},
   "outputs": [
    {
     "name": "stdout",
     "output_type": "stream",
     "text": [
      "[4, 3, 2]\n"
     ]
    },
    {
     "data": {
      "text/plain": [
       "3"
      ]
     },
     "execution_count": 29,
     "metadata": {},
     "output_type": "execute_result"
    }
   ],
   "source": [
    "CountUniques([5,4,3,2,2,1])"
   ]
  },
  {
   "cell_type": "code",
   "execution_count": 33,
   "id": "433000ae",
   "metadata": {},
   "outputs": [],
   "source": [
    "def MoveZerosToEnd(arr):\n",
    "    n = len(arr) - 1\n",
    "    for i in range(0, n):\n",
    "        if arr[i] == 0:\n",
    "            for j in range(i+1, n):\n",
    "                if arr[j] != 0:\n",
    "                    arr[i] = arr[j]\n",
    "                    arr[j] = 0\n",
    "    return(arr)"
   ]
  },
  {
   "cell_type": "code",
   "execution_count": 34,
   "id": "9983c9ed",
   "metadata": {},
   "outputs": [
    {
     "data": {
      "text/plain": [
       "[1, 1, 0, 0, 0, 0, 0, 0, 0, 0, 0, 0]"
      ]
     },
     "execution_count": 34,
     "metadata": {},
     "output_type": "execute_result"
    }
   ],
   "source": [
    "MoveZerosToEnd([1,0,0,0,0,1,0,0,1,0,1,0])"
   ]
  },
  {
   "cell_type": "code",
   "execution_count": 37,
   "id": "0649294c",
   "metadata": {},
   "outputs": [],
   "source": [
    "def MoveZeros(arr):\n",
    "    n = len(arr)\n",
    "    count = 0\n",
    "    for i in range(0, n):\n",
    "        if arr[i] != 0:\n",
    "            arr[i] = arr[count]\n",
    "            count += 1\n",
    "    return(arr)"
   ]
  },
  {
   "cell_type": "code",
   "execution_count": 38,
   "id": "8720d291",
   "metadata": {},
   "outputs": [
    {
     "data": {
      "text/plain": [
       "[1, 1, 0, 0, 0, 0, 0, 0, 0, 0, 0, 0, 0, 0, 0, 0, 0, 0, 0, 0, 0]"
      ]
     },
     "execution_count": 38,
     "metadata": {},
     "output_type": "execute_result"
    }
   ],
   "source": [
    "MoveZeros([1,1,0,0,0,0,1,1,1,1,1,1,1,0,1,1,1,0,0,0,1])"
   ]
  },
  {
   "cell_type": "code",
   "execution_count": 42,
   "id": "850c8b64",
   "metadata": {},
   "outputs": [],
   "source": [
    "def LeftByOne(arr):\n",
    "    temp = arr[0]\n",
    "    n = len(arr)\n",
    "    for i in range(1, n):\n",
    "        arr[i-1] = arr[i]\n",
    "    arr[n-1] = temp\n",
    "    return(arr)"
   ]
  },
  {
   "cell_type": "code",
   "execution_count": 43,
   "id": "affbe9a7",
   "metadata": {},
   "outputs": [
    {
     "data": {
      "text/plain": [
       "[2, 3, 4, 5, 1]"
      ]
     },
     "execution_count": 43,
     "metadata": {},
     "output_type": "execute_result"
    }
   ],
   "source": [
    "LeftByOne([1,2,3,4,5])"
   ]
  },
  {
   "cell_type": "code",
   "execution_count": 46,
   "id": "87f26075",
   "metadata": {},
   "outputs": [],
   "source": [
    "def LeftRotate(arr, d):\n",
    "    n = len(arr)\n",
    "    for i in range(0, d):\n",
    "        LeftByOne(arr)\n",
    "    return arr"
   ]
  },
  {
   "cell_type": "code",
   "execution_count": 47,
   "id": "32440109",
   "metadata": {},
   "outputs": [
    {
     "data": {
      "text/plain": [
       "[4, 5, 1, 2, 3]"
      ]
     },
     "execution_count": 47,
     "metadata": {},
     "output_type": "execute_result"
    }
   ],
   "source": [
    "LeftRotate([1,2,3,4,5], 3)"
   ]
  },
  {
   "cell_type": "code",
   "execution_count": 50,
   "id": "0a346b05",
   "metadata": {},
   "outputs": [],
   "source": [
    "def LeftRotateFresh(arr, d):\n",
    "    temp = []\n",
    "    for i in range(0, d):\n",
    "        temp[i] = arr[i]\n",
    "    for i in range(d+1, n):\n",
    "        arr[i-d] = arr[i]\n",
    "    for i in range(0, d):\n",
    "        arr[n-d+i] = temp[i]\n",
    "    return arr"
   ]
  },
  {
   "cell_type": "code",
   "execution_count": 51,
   "id": "da5c588e",
   "metadata": {},
   "outputs": [
    {
     "ename": "IndexError",
     "evalue": "list assignment index out of range",
     "output_type": "error",
     "traceback": [
      "\u001b[0;31m---------------------------------------------------------------------------\u001b[0m",
      "\u001b[0;31mIndexError\u001b[0m                                Traceback (most recent call last)",
      "\u001b[0;32m/var/folders/gd/cnxt07x51bv60x33dpbyz2_00000gn/T/ipykernel_51089/2864898760.py\u001b[0m in \u001b[0;36m<module>\u001b[0;34m\u001b[0m\n\u001b[0;32m----> 1\u001b[0;31m \u001b[0mLeftRotateFresh\u001b[0m\u001b[0;34m(\u001b[0m\u001b[0;34m[\u001b[0m\u001b[0;36m1\u001b[0m\u001b[0;34m,\u001b[0m\u001b[0;36m2\u001b[0m\u001b[0;34m,\u001b[0m\u001b[0;36m3\u001b[0m\u001b[0;34m,\u001b[0m\u001b[0;36m4\u001b[0m\u001b[0;34m,\u001b[0m\u001b[0;36m5\u001b[0m\u001b[0;34m]\u001b[0m\u001b[0;34m,\u001b[0m \u001b[0;36m3\u001b[0m\u001b[0;34m)\u001b[0m\u001b[0;34m\u001b[0m\u001b[0;34m\u001b[0m\u001b[0m\n\u001b[0m",
      "\u001b[0;32m/var/folders/gd/cnxt07x51bv60x33dpbyz2_00000gn/T/ipykernel_51089/3205403726.py\u001b[0m in \u001b[0;36mLeftRotateFresh\u001b[0;34m(arr, d)\u001b[0m\n\u001b[1;32m      2\u001b[0m     \u001b[0mtemp\u001b[0m \u001b[0;34m=\u001b[0m \u001b[0;34m[\u001b[0m\u001b[0;34m]\u001b[0m\u001b[0;34m\u001b[0m\u001b[0;34m\u001b[0m\u001b[0m\n\u001b[1;32m      3\u001b[0m     \u001b[0;32mfor\u001b[0m \u001b[0mi\u001b[0m \u001b[0;32min\u001b[0m \u001b[0mrange\u001b[0m\u001b[0;34m(\u001b[0m\u001b[0;36m0\u001b[0m\u001b[0;34m,\u001b[0m \u001b[0md\u001b[0m\u001b[0;34m)\u001b[0m\u001b[0;34m:\u001b[0m\u001b[0;34m\u001b[0m\u001b[0;34m\u001b[0m\u001b[0m\n\u001b[0;32m----> 4\u001b[0;31m         \u001b[0mtemp\u001b[0m\u001b[0;34m[\u001b[0m\u001b[0mi\u001b[0m\u001b[0;34m]\u001b[0m \u001b[0;34m=\u001b[0m \u001b[0marr\u001b[0m\u001b[0;34m[\u001b[0m\u001b[0mi\u001b[0m\u001b[0;34m]\u001b[0m\u001b[0;34m\u001b[0m\u001b[0;34m\u001b[0m\u001b[0m\n\u001b[0m\u001b[1;32m      5\u001b[0m     \u001b[0;32mfor\u001b[0m \u001b[0mi\u001b[0m \u001b[0;32min\u001b[0m \u001b[0mrange\u001b[0m\u001b[0;34m(\u001b[0m\u001b[0md\u001b[0m\u001b[0;34m+\u001b[0m\u001b[0;36m1\u001b[0m\u001b[0;34m,\u001b[0m \u001b[0mn\u001b[0m\u001b[0;34m)\u001b[0m\u001b[0;34m:\u001b[0m\u001b[0;34m\u001b[0m\u001b[0;34m\u001b[0m\u001b[0m\n\u001b[1;32m      6\u001b[0m         \u001b[0marr\u001b[0m\u001b[0;34m[\u001b[0m\u001b[0mi\u001b[0m\u001b[0;34m-\u001b[0m\u001b[0md\u001b[0m\u001b[0;34m]\u001b[0m \u001b[0;34m=\u001b[0m \u001b[0marr\u001b[0m\u001b[0;34m[\u001b[0m\u001b[0mi\u001b[0m\u001b[0;34m]\u001b[0m\u001b[0;34m\u001b[0m\u001b[0;34m\u001b[0m\u001b[0m\n",
      "\u001b[0;31mIndexError\u001b[0m: list assignment index out of range"
     ]
    }
   ],
   "source": [
    "LeftRotateFresh([1,2,3,4,5], 3)"
   ]
  },
  {
   "cell_type": "code",
   "execution_count": null,
   "id": "05673597",
   "metadata": {},
   "outputs": [],
   "source": []
  }
 ],
 "metadata": {
  "kernelspec": {
   "display_name": "Python 3 (ipykernel)",
   "language": "python",
   "name": "python3"
  },
  "language_info": {
   "codemirror_mode": {
    "name": "ipython",
    "version": 3
   },
   "file_extension": ".py",
   "mimetype": "text/x-python",
   "name": "python",
   "nbconvert_exporter": "python",
   "pygments_lexer": "ipython3",
   "version": "3.8.12"
  }
 },
 "nbformat": 4,
 "nbformat_minor": 5
}
