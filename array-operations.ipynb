{
 "cells": [
  {
   "cell_type": "code",
   "execution_count": 1,
   "id": "c7739e2a",
   "metadata": {},
   "outputs": [],
   "source": [
    "def search(arr, n, x):\n",
    "    for i in range (0, n-1):\n",
    "        if arr[i] == x:\n",
    "            return i\n",
    "        return -1"
   ]
  },
  {
   "cell_type": "code",
   "execution_count": 3,
   "id": "1c153516",
   "metadata": {},
   "outputs": [
    {
     "data": {
      "text/plain": [
       "-1"
      ]
     },
     "execution_count": 3,
     "metadata": {},
     "output_type": "execute_result"
    }
   ],
   "source": [
    "search([1,2,3,4], 2, 6)"
   ]
  },
  {
   "cell_type": "code",
   "execution_count": 7,
   "id": "428f05e9",
   "metadata": {},
   "outputs": [],
   "source": [
    "def insert(arr, n, x, cap, pos):\n",
    "    if n == cap:\n",
    "        return n\n",
    "    idx = pos - 1\n",
    "    for i in range(idx, n-1):\n",
    "        arr[i+1] = arr[i]\n",
    "    arr[idx] = x\n",
    "    print(arr)    "
   ]
  },
  {
   "cell_type": "code",
   "execution_count": 8,
   "id": "b5831b20",
   "metadata": {},
   "outputs": [
    {
     "name": "stdout",
     "output_type": "stream",
     "text": [
      "[4, 4, 3, 12]\n"
     ]
    }
   ],
   "source": [
    "insert([1,2,3,4], 2, 12, 0, 0)"
   ]
  },
  {
   "cell_type": "code",
   "execution_count": 40,
   "id": "1d0e2080",
   "metadata": {},
   "outputs": [],
   "source": [
    "# this does not work in python any way i have tried it.\n",
    "def delete(arr, n, x):\n",
    "    for i in range(0, n):\n",
    "        if arr[i] == x:\n",
    "            break\n",
    "        if(i == n):\n",
    "            return n\n",
    "        for j in range(i, n-1):\n",
    "            arr[j] = arr[j + 1]\n",
    "    print(arr)"
   ]
  },
  {
   "cell_type": "code",
   "execution_count": 41,
   "id": "5e77cc58",
   "metadata": {},
   "outputs": [
    {
     "name": "stdout",
     "output_type": "stream",
     "text": [
      "[1, 2, 3, 4]\n"
     ]
    }
   ],
   "source": [
    "delete([1,2,3,4], 4, 1)"
   ]
  },
  {
   "cell_type": "code",
   "execution_count": 16,
   "id": "da392f93",
   "metadata": {},
   "outputs": [],
   "source": [
    "def GetLargest(arr, n):\n",
    " \n",
    "    # Initialize maximum element\n",
    "    max = arr[0]\n",
    " \n",
    "    # Traverse array elements from second\n",
    "    # and compare every element with\n",
    "    # current max\n",
    "    for i in range(1, n):\n",
    "        if arr[i] > max:\n",
    "            max = arr[i]\n",
    "    return max"
   ]
  },
  {
   "cell_type": "code",
   "execution_count": 17,
   "id": "8a17378a",
   "metadata": {},
   "outputs": [
    {
     "data": {
      "text/plain": [
       "67"
      ]
     },
     "execution_count": 17,
     "metadata": {},
     "output_type": "execute_result"
    }
   ],
   "source": [
    "GetLargest([5,1,2,4,67], 5)"
   ]
  },
  {
   "cell_type": "code",
   "execution_count": 33,
   "id": "087cce3e",
   "metadata": {},
   "outputs": [],
   "source": [
    "def GetLargestIndex(arr, n):\n",
    "    for i in range(0, n-1):\n",
    "        flag = True\n",
    "        i += 1\n",
    "        for j in range(0, n-1):\n",
    "            if arr[j] > arr[i]:\n",
    "                flag = False\n",
    "                j += 1\n",
    "                break\n",
    "        if flag == True:\n",
    "            return i\n",
    "    return -1"
   ]
  },
  {
   "cell_type": "code",
   "execution_count": 34,
   "id": "cba36989",
   "metadata": {},
   "outputs": [
    {
     "data": {
      "text/plain": [
       "4"
      ]
     },
     "execution_count": 34,
     "metadata": {},
     "output_type": "execute_result"
    }
   ],
   "source": [
    "GetLargestIndex([5,1,2,4,67], 5)"
   ]
  },
  {
   "cell_type": "code",
   "execution_count": 35,
   "id": "fca155a8",
   "metadata": {},
   "outputs": [],
   "source": [
    "def SecondLargest(arr, n):\n",
    "    largest = GetLargestIndex(arr, n)\n",
    "    res = -1\n",
    "    for i in range(0, n-1):\n",
    "        if arr[i] != arr[largest]:\n",
    "            if res == -1:\n",
    "                res = i\n",
    "            elif arr[i] > arr[res]:\n",
    "                res = i\n",
    "    return res"
   ]
  },
  {
   "cell_type": "code",
   "execution_count": 36,
   "id": "7ca3b2b4",
   "metadata": {},
   "outputs": [
    {
     "data": {
      "text/plain": [
       "0"
      ]
     },
     "execution_count": 36,
     "metadata": {},
     "output_type": "execute_result"
    }
   ],
   "source": [
    "SecondLargest([5,1,2,4,67], 5)"
   ]
  },
  {
   "cell_type": "code",
   "execution_count": 45,
   "id": "b9c1abce",
   "metadata": {},
   "outputs": [
    {
     "name": "stdout",
     "output_type": "stream",
     "text": [
      "Second highest number is :  45\n"
     ]
    }
   ],
   "source": [
    "# list of numbers - length of\n",
    "# list should be at least 2\n",
    "list1 = [10, 20, 4, 45, 99]\n",
    " \n",
    "mx = max(list1[0], list1[1])\n",
    "secondmax = min(list1[0], list1[1])\n",
    "n = len(list1)\n",
    "for i in range(2,n):\n",
    "    if list1[i] > mx:\n",
    "        secondmax = mx\n",
    "        mx = list1[i]\n",
    "    elif list1[i] > secondmax and \\\n",
    "        mx != list1[i]:\n",
    "        secondmax = list1[i]\n",
    "    elif mx == secondmax and \\\n",
    "        secondmax != list1[i]:\n",
    "          secondmax = list1[i]\n",
    " \n",
    "print(\"Second highest number is : \",\\\n",
    "      str(secondmax))"
   ]
  },
  {
   "cell_type": "code",
   "execution_count": 7,
   "id": "d6af4ad8",
   "metadata": {},
   "outputs": [],
   "source": [
    "def IsSorted(arr):\n",
    "    n = len(arr) - 1\n",
    "    for i in range(0, n):\n",
    "        for j in range(i+1, n):\n",
    "            if arr[j] < arr[i]:\n",
    "                return False\n",
    "    return True"
   ]
  },
  {
   "cell_type": "code",
   "execution_count": 8,
   "id": "98d78326",
   "metadata": {},
   "outputs": [
    {
     "data": {
      "text/plain": [
       "True"
      ]
     },
     "execution_count": 8,
     "metadata": {},
     "output_type": "execute_result"
    }
   ],
   "source": [
    "IsSorted([4,5,6,7,9])"
   ]
  },
  {
   "cell_type": "code",
   "execution_count": 11,
   "id": "6cca8471",
   "metadata": {},
   "outputs": [],
   "source": [
    "def IsSortedEfficient(arr):\n",
    "    n = len(arr) - 1\n",
    "    for i in range (1, n-1):\n",
    "        if arr[i] < arr[i-1]:\n",
    "            return False\n",
    "    return True"
   ]
  },
  {
   "cell_type": "code",
   "execution_count": 12,
   "id": "7a8dfec3",
   "metadata": {},
   "outputs": [
    {
     "data": {
      "text/plain": [
       "False"
      ]
     },
     "execution_count": 12,
     "metadata": {},
     "output_type": "execute_result"
    }
   ],
   "source": [
    "IsSortedEfficient([5,4,21,1,0])"
   ]
  },
  {
   "cell_type": "code",
   "execution_count": 1,
   "id": "90894e1d",
   "metadata": {},
   "outputs": [],
   "source": [
    "def reverse(arr):\n",
    "    n = len(arr)\n",
    "    low = 0\n",
    "    high = n - 1\n",
    "    while low < high:\n",
    "        temp = arr[low]\n",
    "        arr[low] = arr[high]\n",
    "        arr[high] = temp\n",
    "        low += 1\n",
    "        high -= 1\n",
    "    return arr"
   ]
  },
  {
   "cell_type": "code",
   "execution_count": 3,
   "id": "bbe3a8ea",
   "metadata": {},
   "outputs": [
    {
     "data": {
      "text/plain": [
       "[5, 4, 3, 2, 1]"
      ]
     },
     "execution_count": 3,
     "metadata": {},
     "output_type": "execute_result"
    }
   ],
   "source": [
    "reverse([1,2,3,4,5])"
   ]
  },
  {
   "cell_type": "code",
   "execution_count": 28,
   "id": "ab4ada65",
   "metadata": {},
   "outputs": [],
   "source": [
    "def CountUniques(arr):\n",
    "    n = len(arr) -1\n",
    "    res = 0\n",
    "    uniques = []\n",
    "    for i in range(1, n):\n",
    "        if(arr[res - 1] != arr[i]):\n",
    "            arr[res] = arr[i]\n",
    "            res += 1\n",
    "            uniques.append(arr[i])\n",
    "    print(uniques)\n",
    "    return res;"
   ]
  },
  {
   "cell_type": "code",
   "execution_count": 29,
   "id": "8d608a8a",
   "metadata": {},
   "outputs": [
    {
     "name": "stdout",
     "output_type": "stream",
     "text": [
      "[4, 3, 2]\n"
     ]
    },
    {
     "data": {
      "text/plain": [
       "3"
      ]
     },
     "execution_count": 29,
     "metadata": {},
     "output_type": "execute_result"
    }
   ],
   "source": [
    "CountUniques([5,4,3,2,2,1])"
   ]
  },
  {
   "cell_type": "code",
   "execution_count": 33,
   "id": "c3ceb97a",
   "metadata": {},
   "outputs": [],
   "source": [
    "def MoveZerosToEnd(arr):\n",
    "    n = len(arr) - 1\n",
    "    for i in range(0, n):\n",
    "        if arr[i] == 0:\n",
    "            for j in range(i+1, n):\n",
    "                if arr[j] != 0:\n",
    "                    arr[i] = arr[j]\n",
    "                    arr[j] = 0\n",
    "    return(arr)"
   ]
  },
  {
   "cell_type": "code",
   "execution_count": 34,
   "id": "234b3f94",
   "metadata": {},
   "outputs": [
    {
     "data": {
      "text/plain": [
       "[1, 1, 0, 0, 0, 0, 0, 0, 0, 0, 0, 0]"
      ]
     },
     "execution_count": 34,
     "metadata": {},
     "output_type": "execute_result"
    }
   ],
   "source": [
    "MoveZerosToEnd([1,0,0,0,0,1,0,0,1,0,1,0])"
   ]
  },
  {
   "cell_type": "code",
   "execution_count": 37,
   "id": "a1c16302",
   "metadata": {},
   "outputs": [],
   "source": [
    "def MoveZeros(arr):\n",
    "    n = len(arr)\n",
    "    count = 0\n",
    "    for i in range(0, n):\n",
    "        if arr[i] != 0:\n",
    "            arr[i] = arr[count]\n",
    "            count += 1\n",
    "    return(arr)"
   ]
  },
  {
   "cell_type": "code",
   "execution_count": 38,
   "id": "94554a63",
   "metadata": {},
   "outputs": [
    {
     "data": {
      "text/plain": [
       "[1, 1, 0, 0, 0, 0, 0, 0, 0, 0, 0, 0, 0, 0, 0, 0, 0, 0, 0, 0, 0]"
      ]
     },
     "execution_count": 38,
     "metadata": {},
     "output_type": "execute_result"
    }
   ],
   "source": [
    "MoveZeros([1,1,0,0,0,0,1,1,1,1,1,1,1,0,1,1,1,0,0,0,1])"
   ]
  },
  {
   "cell_type": "code",
   "execution_count": 42,
   "id": "ea092204",
   "metadata": {},
   "outputs": [],
   "source": [
    "def LeftByOne(arr):\n",
    "    temp = arr[0]\n",
    "    n = len(arr)\n",
    "    for i in range(1, n):\n",
    "        arr[i-1] = arr[i]\n",
    "    arr[n-1] = temp\n",
    "    return(arr)"
   ]
  },
  {
   "cell_type": "code",
   "execution_count": 43,
   "id": "881eb162",
   "metadata": {},
   "outputs": [
    {
     "data": {
      "text/plain": [
       "[2, 3, 4, 5, 1]"
      ]
     },
     "execution_count": 43,
     "metadata": {},
     "output_type": "execute_result"
    }
   ],
   "source": [
    "LeftByOne([1,2,3,4,5])"
   ]
  },
  {
   "cell_type": "code",
   "execution_count": 46,
   "id": "fa35fdc6",
   "metadata": {},
   "outputs": [],
   "source": [
    "def LeftRotate(arr, d):\n",
    "    n = len(arr)\n",
    "    for i in range(0, d):\n",
    "        LeftByOne(arr)\n",
    "    return arr"
   ]
  },
  {
   "cell_type": "code",
   "execution_count": 47,
   "id": "05938d77",
   "metadata": {},
   "outputs": [
    {
     "data": {
      "text/plain": [
       "[4, 5, 1, 2, 3]"
      ]
     },
     "execution_count": 47,
     "metadata": {},
     "output_type": "execute_result"
    }
   ],
   "source": [
    "LeftRotate([1,2,3,4,5], 3)"
   ]
  },
  {
   "cell_type": "code",
   "execution_count": 86,
   "id": "8918bdcc",
   "metadata": {},
   "outputs": [],
   "source": [
    "def LeftRotateFresh(arr, d):\n",
    "    n = len(arr)\n",
    "    temp = [0] * n\n",
    "    for i in range(0, d):\n",
    "        temp[i] = arr[i]\n",
    "    for i in range(d, n):\n",
    "        arr[i-d] = arr[i]\n",
    "    for i in range(0, d):\n",
    "        arr[n-d+i] = temp[i]\n",
    "    return arr"
   ]
  },
  {
   "cell_type": "code",
   "execution_count": 87,
   "id": "85df537f",
   "metadata": {},
   "outputs": [
    {
     "data": {
      "text/plain": [
       "[4, 5, 1, 2, 3]"
      ]
     },
     "execution_count": 87,
     "metadata": {},
     "output_type": "execute_result"
    }
   ],
   "source": [
    "LeftRotateFresh([1,2,3,4,5], 3)"
   ]
  },
  {
   "cell_type": "code",
   "execution_count": 88,
   "id": "9417caaf",
   "metadata": {},
   "outputs": [],
   "source": [
    "def reverseArr(arr, low, high):\n",
    "    while low < high:\n",
    "        temp1 = arr[high]\n",
    "        temp2 = arr[low]\n",
    "        arr[high] = temp2\n",
    "        arr[low] = temp1\n",
    "        high -= 1\n",
    "        low += 1"
   ]
  },
  {
   "cell_type": "code",
   "execution_count": 93,
   "id": "c94917a0",
   "metadata": {},
   "outputs": [],
   "source": [
    "def leftRotateReverse(arr, d):\n",
    "    n = len(arr)\n",
    "    reverseArr(arr, 0, d - 1)\n",
    "    reverseArr(arr, d, n - 1)\n",
    "    reverseArr(arr, 0, n - 1)\n",
    "    return arr "
   ]
  },
  {
   "cell_type": "code",
   "execution_count": 94,
   "id": "536c99f9",
   "metadata": {},
   "outputs": [
    {
     "data": {
      "text/plain": [
       "[4, 5, 1, 2, 3]"
      ]
     },
     "execution_count": 94,
     "metadata": {},
     "output_type": "execute_result"
    }
   ],
   "source": [
    "leftRotateReverse([1,2,3,4,5], 3)"
   ]
  },
  {
   "cell_type": "code",
   "execution_count": 97,
   "id": "2c96ded2",
   "metadata": {},
   "outputs": [],
   "source": [
    "def leader(arr):\n",
    "    n = len(arr)\n",
    "    for i in range(0, n-1):\n",
    "        flag = False\n",
    "        for j in range(i + 1, n-1):\n",
    "            if arr[i] <= arr[j]:\n",
    "                flag = True\n",
    "                break\n",
    "        if flag == False:\n",
    "            print(arr[i])"
   ]
  },
  {
   "cell_type": "code",
   "execution_count": 98,
   "id": "e636ac08",
   "metadata": {},
   "outputs": [
    {
     "name": "stdout",
     "output_type": "stream",
     "text": [
      "6\n",
      "5\n",
      "1\n"
     ]
    }
   ],
   "source": [
    "leader([5,6,3,2,3,5,1,1,1,1,1])"
   ]
  },
  {
   "cell_type": "code",
   "execution_count": 101,
   "id": "b8aef893",
   "metadata": {},
   "outputs": [],
   "source": [
    "def leaderEfficient(arr):\n",
    "    n = len(arr)\n",
    "    currentLeader = arr[n - 1]\n",
    "    print(currentLeader)\n",
    "    for i in range(n-2, 0, -1):\n",
    "        if currentLeader < arr[i]:\n",
    "            currentLeader = arr[i]\n",
    "            print(currentLeader)"
   ]
  },
  {
   "cell_type": "code",
   "execution_count": 102,
   "id": "8a9a64a6",
   "metadata": {},
   "outputs": [
    {
     "name": "stdout",
     "output_type": "stream",
     "text": [
      "1\n",
      "5\n",
      "6\n"
     ]
    }
   ],
   "source": [
    "leaderEfficient([5,6,3,2,3,5,1,1,1,1,1])"
   ]
  },
  {
   "cell_type": "code",
   "execution_count": 105,
   "id": "0806045d",
   "metadata": {},
   "outputs": [],
   "source": [
    "def MaxDifference(arr):\n",
    "    n = len(arr)\n",
    "    res = arr[1] - arr[0]\n",
    "    for i in range(0, n):\n",
    "        for j in range(i+1, n):\n",
    "            res = max(res, arr[j] - arr[i])\n",
    "    return res"
   ]
  },
  {
   "cell_type": "code",
   "execution_count": 106,
   "id": "b07fa8b1",
   "metadata": {},
   "outputs": [
    {
     "data": {
      "text/plain": [
       "4"
      ]
     },
     "execution_count": 106,
     "metadata": {},
     "output_type": "execute_result"
    }
   ],
   "source": [
    "MaxDifference([1,2,3,4,5])"
   ]
  },
  {
   "cell_type": "code",
   "execution_count": 107,
   "id": "e7892b59",
   "metadata": {},
   "outputs": [],
   "source": [
    "def MaxDiff(arr):\n",
    "    n = len(arr)\n",
    "    res = arr[1] - arr[0]\n",
    "    minVal = arr[0]\n",
    "    for j in range(1, n):\n",
    "        res = max(res, arr[j] - minVal)\n",
    "        minVal = min(minVal, arr[j])\n",
    "    return res"
   ]
  },
  {
   "cell_type": "code",
   "execution_count": 108,
   "id": "f3280f3d",
   "metadata": {},
   "outputs": [
    {
     "data": {
      "text/plain": [
       "4"
      ]
     },
     "execution_count": 108,
     "metadata": {},
     "output_type": "execute_result"
    }
   ],
   "source": [
    "MaxDiff([1,2,3,4,5])"
   ]
  },
  {
   "cell_type": "code",
   "execution_count": 116,
   "id": "f7dddb50",
   "metadata": {},
   "outputs": [],
   "source": [
    "def FreqInSortedArr(arr):\n",
    "    freq = 1\n",
    "    i = 1\n",
    "    n = len(arr)\n",
    "    while i < n:\n",
    "        while i < n and arr[i] == arr[i - 1]:\n",
    "            freq += 1\n",
    "            i += 1\n",
    "        print(arr[i-1], freq)\n",
    "        i +=1 \n",
    "        freq = 1\n",
    "    if n == 1 or arr[n-1] != arr[n-2]:\n",
    "        print(arr[n-1], 1)"
   ]
  },
  {
   "cell_type": "code",
   "execution_count": 117,
   "id": "ecd90046",
   "metadata": {},
   "outputs": [
    {
     "name": "stdout",
     "output_type": "stream",
     "text": [
      "1 1\n",
      "2 4\n",
      "3 3\n",
      "4 2\n",
      "5 1\n"
     ]
    }
   ],
   "source": [
    "FreqInSortedArr([1,2,2,2,2,3,3,3,4,4,5])"
   ]
  },
  {
   "cell_type": "code",
   "execution_count": null,
   "id": "92baa841",
   "metadata": {},
   "outputs": [],
   "source": []
  }
 ],
 "metadata": {
  "kernelspec": {
   "display_name": "Python 3 (ipykernel)",
   "language": "python",
   "name": "python3"
  },
  "language_info": {
   "codemirror_mode": {
    "name": "ipython",
    "version": 3
   },
   "file_extension": ".py",
   "mimetype": "text/x-python",
   "name": "python",
   "nbconvert_exporter": "python",
   "pygments_lexer": "ipython3",
   "version": "3.8.12"
  }
 },
 "nbformat": 4,
 "nbformat_minor": 5
}
