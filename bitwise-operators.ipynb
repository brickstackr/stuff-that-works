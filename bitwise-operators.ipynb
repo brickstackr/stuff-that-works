{
 "cells": [
  {
   "cell_type": "code",
   "execution_count": 10,
   "id": "3ee664e0",
   "metadata": {},
   "outputs": [],
   "source": [
    "def test():\n",
    "    x = 3\n",
    "    y = 6\n",
    "    print(x&y)\n",
    "    print(x|y)\n",
    "    print(x^y)\n",
    "    return 0"
   ]
  },
  {
   "cell_type": "code",
   "execution_count": 11,
   "id": "0a435ff6",
   "metadata": {},
   "outputs": [
    {
     "name": "stdout",
     "output_type": "stream",
     "text": [
      "2\n",
      "7\n",
      "5\n"
     ]
    },
    {
     "data": {
      "text/plain": [
       "0"
      ]
     },
     "execution_count": 11,
     "metadata": {},
     "output_type": "execute_result"
    }
   ],
   "source": [
    "test()"
   ]
  },
  {
   "cell_type": "code",
   "execution_count": 12,
   "id": "214fe2ac",
   "metadata": {},
   "outputs": [],
   "source": [
    "def test2():\n",
    "    x = 3\n",
    "    y = 4\n",
    "    z = x<<y\n",
    "    print(x<<1)\n",
    "    print(x<<2)\n",
    "    print(z)\n",
    "    return 0"
   ]
  },
  {
   "cell_type": "code",
   "execution_count": 13,
   "id": "1bd432c3",
   "metadata": {},
   "outputs": [
    {
     "name": "stdout",
     "output_type": "stream",
     "text": [
      "6\n",
      "12\n",
      "48\n"
     ]
    },
    {
     "data": {
      "text/plain": [
       "0"
      ]
     },
     "execution_count": 13,
     "metadata": {},
     "output_type": "execute_result"
    }
   ],
   "source": [
    "test2()"
   ]
  },
  {
   "cell_type": "code",
   "execution_count": 14,
   "id": "137cc1e3",
   "metadata": {},
   "outputs": [],
   "source": [
    "def test3():\n",
    "    x = 1\n",
    "    print(~x)\n",
    "    x = 5\n",
    "    print(~x)\n",
    "    return 0"
   ]
  },
  {
   "cell_type": "code",
   "execution_count": 15,
   "id": "830a3a22",
   "metadata": {},
   "outputs": [
    {
     "name": "stdout",
     "output_type": "stream",
     "text": [
      "-2\n",
      "-6\n"
     ]
    },
    {
     "data": {
      "text/plain": [
       "0"
      ]
     },
     "execution_count": 15,
     "metadata": {},
     "output_type": "execute_result"
    }
   ],
   "source": [
    "test3()"
   ]
  },
  {
   "cell_type": "code",
   "execution_count": 18,
   "id": "60b06475",
   "metadata": {},
   "outputs": [],
   "source": [
    "def CheckBits(k, n):\n",
    "    arr = []\n",
    "    num = str(n)\n",
    "    for bit in num:\n",
    "        arr.append(bit)\n",
    "    if arr[k] == 1:\n",
    "        return True\n",
    "    else:\n",
    "        return False"
   ]
  },
  {
   "cell_type": "code",
   "execution_count": 19,
   "id": "fe210d30",
   "metadata": {},
   "outputs": [
    {
     "data": {
      "text/plain": [
       "False"
      ]
     },
     "execution_count": 19,
     "metadata": {},
     "output_type": "execute_result"
    }
   ],
   "source": [
    "CheckBits(3, 1001010)"
   ]
  },
  {
   "cell_type": "code",
   "execution_count": 20,
   "id": "e8bdba33",
   "metadata": {},
   "outputs": [],
   "source": [
    "def KthBit(k, n):\n",
    "    if n & (1 << (k - 1) != 0):\n",
    "        return True\n",
    "    else:\n",
    "        return False"
   ]
  },
  {
   "cell_type": "code",
   "execution_count": 21,
   "id": "89127f7d",
   "metadata": {},
   "outputs": [
    {
     "data": {
      "text/plain": [
       "False"
      ]
     },
     "execution_count": 21,
     "metadata": {},
     "output_type": "execute_result"
    }
   ],
   "source": [
    "KthBit(3, 1001010)"
   ]
  },
  {
   "cell_type": "code",
   "execution_count": 22,
   "id": "3d12752e",
   "metadata": {},
   "outputs": [],
   "source": [
    "def KthBit2(k, n):\n",
    "    if (n >> (k -1) & 1) == 1:\n",
    "        return True\n",
    "    else:\n",
    "        return False"
   ]
  },
  {
   "cell_type": "code",
   "execution_count": 24,
   "id": "4c0521b6",
   "metadata": {},
   "outputs": [
    {
     "data": {
      "text/plain": [
       "False"
      ]
     },
     "execution_count": 24,
     "metadata": {},
     "output_type": "execute_result"
    }
   ],
   "source": [
    "KthBit2(3, 1001010)"
   ]
  },
  {
   "cell_type": "code",
   "execution_count": null,
   "id": "f38b9037",
   "metadata": {},
   "outputs": [],
   "source": []
  }
 ],
 "metadata": {
  "kernelspec": {
   "display_name": "Python 3 (ipykernel)",
   "language": "python",
   "name": "python3"
  },
  "language_info": {
   "codemirror_mode": {
    "name": "ipython",
    "version": 3
   },
   "file_extension": ".py",
   "mimetype": "text/x-python",
   "name": "python",
   "nbconvert_exporter": "python",
   "pygments_lexer": "ipython3",
   "version": "3.8.12"
  }
 },
 "nbformat": 4,
 "nbformat_minor": 5
}
