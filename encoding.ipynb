{
 "cells": [
  {
   "cell_type": "code",
   "execution_count": 1,
   "id": "9ca84141",
   "metadata": {},
   "outputs": [
    {
     "name": "stdout",
     "output_type": "stream",
     "text": [
      "<class 'bytes'>\n",
      "<class 'str'>\n",
      "Encoded bytes = b'Hello'\n",
      "Decoded String = Hello\n",
      "str_original equals str_decoded = True\n"
     ]
    }
   ],
   "source": [
    "str_original = 'Hello'\n",
    "\n",
    "bytes_encoded = str_original.encode(encoding='utf-8')\n",
    "print(type(bytes_encoded))\n",
    "\n",
    "str_decoded = bytes_encoded.decode()\n",
    "print(type(str_decoded))\n",
    "\n",
    "print('Encoded bytes =', bytes_encoded)\n",
    "print('Decoded String =', str_decoded)\n",
    "print('str_original equals str_decoded =', str_original == str_decoded)"
   ]
  },
  {
   "cell_type": "code",
   "execution_count": 3,
   "id": "cac83513",
   "metadata": {},
   "outputs": [
    {
     "name": "stdout",
     "output_type": "stream",
     "text": [
      "Please enter string data:\n",
      "aåb∫cçd∂e´´´ƒg©1¡\n",
      "Encoded bytes = b'a\\xc3\\xa5b\\xe2\\x88\\xabc\\xc3\\xa7d\\xe2\\x88\\x82e\\xc2\\xb4\\xc2\\xb4\\xc2\\xb4\\xc6\\x92g\\xc2\\xa91\\xc2\\xa1'\n",
      "Decoded String = aåb∫cçd∂e´´´ƒg©1¡\n",
      "str_original equals str_decoded = True\n"
     ]
    }
   ],
   "source": [
    "str_original = input('Please enter string data:\\n')\n",
    "\n",
    "bytes_encoded = str_original.encode()\n",
    "\n",
    "str_decoded = bytes_encoded.decode()\n",
    "\n",
    "print('Encoded bytes =', bytes_encoded)\n",
    "print('Decoded String =', str_decoded)\n",
    "print('str_original equals str_decoded =', str_original == str_decoded)"
   ]
  },
  {
   "cell_type": "code",
   "execution_count": 5,
   "id": "0b43ab29",
   "metadata": {},
   "outputs": [
    {
     "name": "stdout",
     "output_type": "stream",
     "text": [
      "'๕๗'\n"
     ]
    }
   ],
   "source": [
    "import re\n",
    "p = re.compile(r'\\d+')\n",
    "\n",
    "s = \"Over \\u0e55\\u0e57 57 flavours\"\n",
    "m = p.search(s)\n",
    "print(repr(m.group()))"
   ]
  },
  {
   "cell_type": "code",
   "execution_count": 6,
   "id": "4d450f95",
   "metadata": {},
   "outputs": [
    {
     "name": "stdout",
     "output_type": "stream",
     "text": [
      "AN\n"
     ]
    }
   ],
   "source": [
    "import unicodedata\n",
    "   \n",
    "print (unicodedata.bidirectional(u'\\u0660'))"
   ]
  },
  {
   "cell_type": "code",
   "execution_count": 7,
   "id": "75d29c7b",
   "metadata": {},
   "outputs": [
    {
     "data": {
      "text/plain": [
       "b'data to be encoded'"
      ]
     },
     "execution_count": 7,
     "metadata": {},
     "output_type": "execute_result"
    }
   ],
   "source": [
    "import base64\n",
    "encoded = base64.b64encode(b'data to be encoded')\n",
    "encoded\n",
    "b'ZGF0YSB0byBiZSBlbmNvZGVk'\n",
    "data = base64.b64decode(encoded)\n",
    "data\n",
    "b'data to be encoded'"
   ]
  },
  {
   "cell_type": "code",
   "execution_count": null,
   "id": "093e6774",
   "metadata": {},
   "outputs": [],
   "source": []
  }
 ],
 "metadata": {
  "kernelspec": {
   "display_name": "Python 3 (ipykernel)",
   "language": "python",
   "name": "python3"
  },
  "language_info": {
   "codemirror_mode": {
    "name": "ipython",
    "version": 3
   },
   "file_extension": ".py",
   "mimetype": "text/x-python",
   "name": "python",
   "nbconvert_exporter": "python",
   "pygments_lexer": "ipython3",
   "version": "3.9.7"
  }
 },
 "nbformat": 4,
 "nbformat_minor": 5
}
