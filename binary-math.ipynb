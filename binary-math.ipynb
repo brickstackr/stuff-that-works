{
 "cells": [
  {
   "cell_type": "code",
   "execution_count": null,
   "id": "9b7611d8",
   "metadata": {},
   "outputs": [],
   "source": [
    "16 << 1"
   ]
  },
  {
   "cell_type": "code",
   "execution_count": null,
   "id": "8bde6ef8",
   "metadata": {},
   "outputs": [],
   "source": [
    "16 << 2"
   ]
  },
  {
   "cell_type": "code",
   "execution_count": null,
   "id": "dc4a62ec",
   "metadata": {},
   "outputs": [],
   "source": [
    "16 << 16"
   ]
  },
  {
   "cell_type": "code",
   "execution_count": null,
   "id": "23ab6605",
   "metadata": {},
   "outputs": [],
   "source": [
    "16 << 348956789547658"
   ]
  },
  {
   "cell_type": "code",
   "execution_count": 1,
   "id": "8749c729",
   "metadata": {},
   "outputs": [
    {
     "data": {
      "text/plain": [
       "0"
      ]
     },
     "execution_count": 1,
     "metadata": {},
     "output_type": "execute_result"
    }
   ],
   "source": [
    "16 >> 8"
   ]
  },
  {
   "cell_type": "code",
   "execution_count": 2,
   "id": "29287095",
   "metadata": {},
   "outputs": [
    {
     "data": {
      "text/plain": [
       "1"
      ]
     },
     "execution_count": 2,
     "metadata": {},
     "output_type": "execute_result"
    }
   ],
   "source": [
    "16 >> 4"
   ]
  },
  {
   "cell_type": "code",
   "execution_count": 3,
   "id": "4f881178",
   "metadata": {},
   "outputs": [
    {
     "data": {
      "text/plain": [
       "4"
      ]
     },
     "execution_count": 3,
     "metadata": {},
     "output_type": "execute_result"
    }
   ],
   "source": [
    "16 >> 2"
   ]
  },
  {
   "cell_type": "code",
   "execution_count": 4,
   "id": "6564ff26",
   "metadata": {},
   "outputs": [
    {
     "data": {
      "text/plain": [
       "500"
      ]
     },
     "execution_count": 4,
     "metadata": {},
     "output_type": "execute_result"
    }
   ],
   "source": [
    "1001 >> 1"
   ]
  },
  {
   "cell_type": "code",
   "execution_count": 5,
   "id": "6291c464",
   "metadata": {},
   "outputs": [
    {
     "data": {
      "text/plain": [
       "1"
      ]
     },
     "execution_count": 5,
     "metadata": {},
     "output_type": "execute_result"
    }
   ],
   "source": [
    "1 & 1"
   ]
  },
  {
   "cell_type": "code",
   "execution_count": 6,
   "id": "a7e1128b",
   "metadata": {},
   "outputs": [
    {
     "data": {
      "text/plain": [
       "0"
      ]
     },
     "execution_count": 6,
     "metadata": {},
     "output_type": "execute_result"
    }
   ],
   "source": [
    "1 & 0 "
   ]
  },
  {
   "cell_type": "code",
   "execution_count": 7,
   "id": "e42ba023",
   "metadata": {},
   "outputs": [
    {
     "name": "stdout",
     "output_type": "stream",
     "text": [
      "16\n"
     ]
    }
   ],
   "source": [
    "def set_bit(position, binary):\n",
    "    ## Create a bit mask based on the\n",
    "    ## position passed in\n",
    "    ## produces '10000' if we pass in position=4\n",
    "    ## our bit in the '4th' position is set to 1\n",
    "    bit_mask = 1 << position\n",
    "    ## return our binary string or-ed with our mask\n",
    "    return bit_mask | binary\n",
    "\n",
    "## This should return 16\n",
    "print(set_bit(4, 00000000))"
   ]
  },
  {
   "cell_type": "code",
   "execution_count": 8,
   "id": "6c6922dc",
   "metadata": {},
   "outputs": [
    {
     "name": "stdout",
     "output_type": "stream",
     "text": [
      "8\n"
     ]
    }
   ],
   "source": [
    "print(set_bit(3, 00000000))"
   ]
  },
  {
   "cell_type": "code",
   "execution_count": 9,
   "id": "f4d28d9b",
   "metadata": {},
   "outputs": [
    {
     "name": "stdout",
     "output_type": "stream",
     "text": [
      "9227465\n",
      "Total Time: 2.729562997817993\n",
      "9227465\n",
      "Total Time: 5.7697296142578125e-05\n",
      "{2: 1, 3: 2, 4: 3, 5: 5, 6: 8, 7: 13, 8: 21, 9: 34, 10: 55, 11: 89, 12: 144, 13: 233, 14: 377, 15: 610, 16: 987, 17: 1597, 18: 2584, 19: 4181, 20: 6765, 21: 10946, 22: 17711, 23: 28657, 24: 46368, 25: 75025, 26: 121393, 27: 196418, 28: 317811, 29: 514229, 30: 832040, 31: 1346269, 32: 2178309, 33: 3524578, 34: 5702887, 35: 9227465}\n"
     ]
    }
   ],
   "source": [
    "import time\n",
    "\n",
    "def fib(n):\n",
    "    if n <= 0:\n",
    "        return 0\n",
    "    if n == 1:\n",
    "        return 1\n",
    "    return fib(n-1) + fib(n-2)\n",
    "\n",
    "def fib_with_memo(n, memo):\n",
    "    if n <= 0:\n",
    "        return 0\n",
    "    if n == 1:\n",
    "        return 1\n",
    "    if n not in memo:\n",
    "        memo[n] = fib_with_memo(n-1, memo) + fib_with_memo(n-2, memo)\n",
    "\n",
    "    return memo[n]\n",
    "\n",
    "memo = {}\n",
    "\n",
    "start_time = time.time()\n",
    "print(fib(35))\n",
    "end_time = time.time()\n",
    "print(\"Total Time: {}\".format(end_time - start_time))\n",
    "\n",
    "start_time = time.time()\n",
    "print(fib_with_memo(35, memo))\n",
    "end_time = time.time()\n",
    "print(\"Total Time: {}\".format(end_time - start_time))\n",
    "\n",
    "print(memo)"
   ]
  },
  {
   "cell_type": "code",
   "execution_count": 10,
   "id": "84786634",
   "metadata": {},
   "outputs": [],
   "source": [
    "def swap_bits(x, i, j):\n",
    "    # Extract the i-ith and j-th bits, and see if they differ\n",
    "    if (x >> i) & 1 != (x >> j) & 1:\n",
    "        # i-th and j-th bits differ. we will swap them by flipping their values\n",
    "        # select the bits to flip with bit_mask since x^1 = 0 when x = 1 and 1\n",
    "        # when x = 0, we can perform the flip XOR.\n",
    "        bit_mask = (1 << i) | (1 << j)\n",
    "        x ^= bit_mask\n",
    "    return x"
   ]
  },
  {
   "cell_type": "code",
   "execution_count": 13,
   "id": "ede48557",
   "metadata": {},
   "outputs": [
    {
     "data": {
      "text/plain": [
       "1"
      ]
     },
     "execution_count": 13,
     "metadata": {},
     "output_type": "execute_result"
    }
   ],
   "source": [
    "swap_bits(1, 4, 8)"
   ]
  },
  {
   "cell_type": "code",
   "execution_count": 14,
   "id": "8ae49691",
   "metadata": {},
   "outputs": [
    {
     "data": {
      "text/plain": [
       "0"
      ]
     },
     "execution_count": 14,
     "metadata": {},
     "output_type": "execute_result"
    }
   ],
   "source": [
    "swap_bits(0, 1, 16)"
   ]
  },
  {
   "cell_type": "code",
   "execution_count": 15,
   "id": "ec1835f6",
   "metadata": {},
   "outputs": [
    {
     "data": {
      "text/plain": [
       "8"
      ]
     },
     "execution_count": 15,
     "metadata": {},
     "output_type": "execute_result"
    }
   ],
   "source": [
    "swap_bits(8, 4, 4)"
   ]
  },
  {
   "cell_type": "code",
   "execution_count": 16,
   "id": "45b66fae",
   "metadata": {},
   "outputs": [
    {
     "data": {
      "text/plain": [
       "22"
      ]
     },
     "execution_count": 16,
     "metadata": {},
     "output_type": "execute_result"
    }
   ],
   "source": [
    "swap_bits(22, 22, 22)"
   ]
  },
  {
   "cell_type": "code",
   "execution_count": 17,
   "id": "8ef86ac7",
   "metadata": {},
   "outputs": [
    {
     "data": {
      "text/plain": [
       "1"
      ]
     },
     "execution_count": 17,
     "metadata": {},
     "output_type": "execute_result"
    }
   ],
   "source": [
    "swap_bits(1, 3, 5)"
   ]
  },
  {
   "cell_type": "code",
   "execution_count": 18,
   "id": "e9edfb40",
   "metadata": {},
   "outputs": [
    {
     "data": {
      "text/plain": [
       "0"
      ]
     },
     "execution_count": 18,
     "metadata": {},
     "output_type": "execute_result"
    }
   ],
   "source": [
    "swap_bits(0,0,0)"
   ]
  },
  {
   "cell_type": "code",
   "execution_count": null,
   "id": "47eb01e4",
   "metadata": {},
   "outputs": [],
   "source": []
  }
 ],
 "metadata": {
  "kernelspec": {
   "display_name": "Python 3 (ipykernel)",
   "language": "python",
   "name": "python3"
  },
  "language_info": {
   "codemirror_mode": {
    "name": "ipython",
    "version": 3
   },
   "file_extension": ".py",
   "mimetype": "text/x-python",
   "name": "python",
   "nbconvert_exporter": "python",
   "pygments_lexer": "ipython3",
   "version": "3.8.12"
  }
 },
 "nbformat": 4,
 "nbformat_minor": 5
}
