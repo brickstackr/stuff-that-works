{
 "cells": [
  {
   "cell_type": "code",
   "execution_count": 2,
   "id": "ed12a8ef",
   "metadata": {},
   "outputs": [],
   "source": [
    "# Python3 code to move all zeroes\n",
    "# at the end of array\n",
    "\n",
    "# Function which pushes all\n",
    "# zeros to end of an array.\n",
    "def pushZerosToEnd(arr, n):\n",
    "    count = 0 # Count of non-zero elements\n",
    "    \n",
    "    # Traverse the array. If element\n",
    "    # encountered is non-zero, then\n",
    "    # replace the element at index\n",
    "    # 'count' with this element\n",
    "    for i in range(n):\n",
    "        if arr[i] != 0:\n",
    "\n",
    "        # here count is incremented\n",
    "            arr[count] = arr[i]\n",
    "            count+=1\n",
    "    \n",
    "    # Now all non-zero elements have been\n",
    "    # shifted to front and 'count' is set\n",
    "    # as index of first 0. Make all\n",
    "    # elements 0 from count to end.\n",
    "    while count < n:\n",
    "        arr[count] = 0\n",
    "        count += 1"
   ]
  },
  {
   "cell_type": "code",
   "execution_count": 4,
   "id": "4841f580",
   "metadata": {},
   "outputs": [
    {
     "name": "stdout",
     "output_type": "stream",
     "text": [
      "12\n",
      "Array after pushing all zeros to end of array:\n",
      "[1, 9, 8, 4, 2, 7, 6, 9, 0, 0, 0, 0]\n"
     ]
    }
   ],
   "source": [
    "# Driver code\n",
    "arr = [1, 9, 8, 4, 0, 0, 2, 7, 0, 6, 0, 9]\n",
    "n = len(arr)\n",
    "print(n)\n",
    "pushZerosToEnd(arr, n)\n",
    "print(\"Array after pushing all zeros to end of array:\")\n",
    "print(arr)\n",
    "# This code is contributed by \"Abhishek Sharma 44\""
   ]
  },
  {
   "cell_type": "code",
   "execution_count": 5,
   "id": "6565906e",
   "metadata": {},
   "outputs": [],
   "source": [
    "import math\n",
    "import os\n",
    "import random\n",
    "import re\n",
    "import sys\n",
    "\n",
    "#\n",
    "# Complete the 'plusMinus' function below.\n",
    "#\n",
    "# The function accepts INTEGER_ARRAY arr as parameter.\n",
    "#\n",
    "### IF YOU NEED N TO BE A LENGTH OF THE ARRAY LIKE THE ACTUAL COUNT IT IS NOT THE INDEX -1 it is just n. range (0,n)\n",
    "\n",
    "def plusMinus(arr):\n",
    "    n = len(arr)\n",
    "    positive_count = 0\n",
    "    negative_count = 0\n",
    "    zero_count = 0 \n",
    "    for i in range(0, n):\n",
    "        if arr[i] < 0:\n",
    "            negative_count += 1\n",
    "        elif arr[i] == 0:\n",
    "            zero_count += 1\n",
    "        elif arr[i] > 0:\n",
    "            positive_count += 1\n",
    "    print(round((positive_count/n),6))\n",
    "    print(round((negative_count/n),6))\n",
    "    print(round((zero_count/n),6))"
   ]
  },
  {
   "cell_type": "code",
   "execution_count": 6,
   "id": "41d37d1e",
   "metadata": {},
   "outputs": [
    {
     "name": "stdout",
     "output_type": "stream",
     "text": [
      "0.428571\n",
      "0.571429\n",
      "0.0\n"
     ]
    }
   ],
   "source": [
    "plusMinus([1,-2,-7,9,1,-8,-5])"
   ]
  },
  {
   "cell_type": "code",
   "execution_count": 7,
   "id": "09317cd8",
   "metadata": {},
   "outputs": [],
   "source": [
    "#\n",
    "# Complete the 'miniMaxSum' function below.\n",
    "#\n",
    "# The function accepts INTEGER_ARRAY arr as parameter.\n",
    "#\n",
    "\n",
    "def miniMaxSum(arr):\n",
    "    arr.sort()\n",
    "    mini = sum(arr[0:4])\n",
    "    maxi = sum(arr[1:5])\n",
    "    print(f'{mini} {maxi}')"
   ]
  },
  {
   "cell_type": "code",
   "execution_count": 8,
   "id": "8e652042",
   "metadata": {},
   "outputs": [
    {
     "name": "stdout",
     "output_type": "stream",
     "text": [
      "10 2009\n"
     ]
    }
   ],
   "source": [
    "miniMaxSum([1,2,3,4,2000])"
   ]
  },
  {
   "cell_type": "code",
   "execution_count": null,
   "id": "b632e8de",
   "metadata": {},
   "outputs": [],
   "source": []
  }
 ],
 "metadata": {
  "kernelspec": {
   "display_name": "Python 3 (ipykernel)",
   "language": "python",
   "name": "python3"
  },
  "language_info": {
   "codemirror_mode": {
    "name": "ipython",
    "version": 3
   },
   "file_extension": ".py",
   "mimetype": "text/x-python",
   "name": "python",
   "nbconvert_exporter": "python",
   "pygments_lexer": "ipython3",
   "version": "3.8.12"
  }
 },
 "nbformat": 4,
 "nbformat_minor": 5
}
