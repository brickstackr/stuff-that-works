{
 "cells": [
  {
   "cell_type": "code",
   "execution_count": 6,
   "id": "bce7c4b4",
   "metadata": {},
   "outputs": [],
   "source": [
    "def MaxSum(arr):\n",
    "    n = len(arr)\n",
    "    res = arr[0]\n",
    "    for i in range(0, n):\n",
    "        curr = 0\n",
    "        for j in range(i, n):\n",
    "            curr = curr + arr[j]\n",
    "            res = max(res, curr)\n",
    "    return res"
   ]
  },
  {
   "cell_type": "code",
   "execution_count": 7,
   "id": "ba9cb3f5",
   "metadata": {},
   "outputs": [
    {
     "data": {
      "text/plain": [
       "4"
      ]
     },
     "execution_count": 7,
     "metadata": {},
     "output_type": "execute_result"
    }
   ],
   "source": [
    "MaxSum([1,-2,3,-1,2])"
   ]
  },
  {
   "cell_type": "code",
   "execution_count": 8,
   "id": "450b5470",
   "metadata": {},
   "outputs": [],
   "source": [
    "def maxSum(arr):\n",
    "    n = len(arr)\n",
    "    res = arr[0]\n",
    "    maxEnding = arr[0]\n",
    "    for i in range(1,n):\n",
    "        maxEnding = max(maxEnding + arr[i], arr[i])\n",
    "        res = max(maxEnding, res)\n",
    "    return res"
   ]
  },
  {
   "cell_type": "code",
   "execution_count": 9,
   "id": "df9c67ef",
   "metadata": {},
   "outputs": [
    {
     "data": {
      "text/plain": [
       "4"
      ]
     },
     "execution_count": 9,
     "metadata": {},
     "output_type": "execute_result"
    }
   ],
   "source": [
    "maxSum([1, -2, 3, -1, 2])"
   ]
  },
  {
   "cell_type": "code",
   "execution_count": null,
   "id": "dfc2ed3b",
   "metadata": {},
   "outputs": [],
   "source": []
  }
 ],
 "metadata": {
  "kernelspec": {
   "display_name": "Python 3 (ipykernel)",
   "language": "python",
   "name": "python3"
  },
  "language_info": {
   "codemirror_mode": {
    "name": "ipython",
    "version": 3
   },
   "file_extension": ".py",
   "mimetype": "text/x-python",
   "name": "python",
   "nbconvert_exporter": "python",
   "pygments_lexer": "ipython3",
   "version": "3.8.12"
  }
 },
 "nbformat": 4,
 "nbformat_minor": 5
}
